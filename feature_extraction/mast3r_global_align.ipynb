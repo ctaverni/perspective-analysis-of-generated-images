{
 "cells": [
  {
   "cell_type": "code",
   "execution_count": 8,
   "metadata": {},
   "outputs": [],
   "source": [
    "import math\n",
    "import gradio\n",
    "import os\n",
    "import numpy as np\n",
    "import functools\n",
    "import trimesh\n",
    "import copy\n",
    "from scipy.spatial.transform import Rotation\n",
    "import tempfile\n",
    "import shutil\n",
    "import torch\n",
    "from PIL import Image\n",
    "from PIL.ImageOps import exif_transpose\n",
    "\n",
    "import cv2\n",
    "import os\n",
    "\n",
    "\n",
    "from mast3r.cloud_opt.sparse_ga import sparse_global_alignment\n",
    "from mast3r.cloud_opt.tsdf_optimizer import TSDFPostProcess\n",
    "from mast3r.image_pairs import make_pairs\n",
    "from mast3r.retrieval.processor import Retriever\n",
    "\n",
    "import mast3r.utils.path_to_dust3r  # noqa\n",
    "from dust3r.utils.image import load_images\n",
    "from dust3r.utils.device import to_numpy\n",
    "from dust3r.viz import add_scene_cam, CAM_COLORS, OPENGL, pts3d_to_trimesh, cat_meshes\n",
    "from dust3r.demo import get_args_parser as dust3r_get_args_parser\n",
    "\n",
    "import matplotlib.pyplot as pl"
   ]
  },
  {
   "cell_type": "code",
   "execution_count": 9,
   "metadata": {},
   "outputs": [],
   "source": [
    "import os\n",
    "import torch\n",
    "import tempfile\n",
    "from contextlib import nullcontext\n",
    "\n",
    "from mast3r.demo import get_args_parser, main_demo\n",
    "\n",
    "from mast3r.model import AsymmetricMASt3R\n",
    "from mast3r.utils.misc import hash_md5\n",
    "\n",
    "import mast3r.utils.path_to_dust3r  # noqa\n",
    "from dust3r.demo import set_print_with_timestamp\n",
    "\n",
    "import matplotlib.pyplot as pl"
   ]
  },
  {
   "cell_type": "code",
   "execution_count": 10,
   "metadata": {},
   "outputs": [],
   "source": [
    "class SparseGAState:\n",
    "    def __init__(self, sparse_ga, should_delete=False, cache_dir=None, outfile_name=None):\n",
    "        self.sparse_ga = sparse_ga\n",
    "        self.cache_dir = cache_dir\n",
    "        self.outfile_name = outfile_name\n",
    "        self.should_delete = should_delete\n",
    "\n",
    "    def __del__(self):\n",
    "        if not self.should_delete:\n",
    "            return\n",
    "        if self.cache_dir is not None and os.path.isdir(self.cache_dir):\n",
    "            shutil.rmtree(self.cache_dir)\n",
    "        self.cache_dir = None\n",
    "        if self.outfile_name is not None and os.path.isfile(self.outfile_name):\n",
    "            os.remove(self.outfile_name)\n",
    "        self.outfile_name = None"
   ]
  },
  {
   "cell_type": "code",
   "execution_count": 11,
   "metadata": {},
   "outputs": [],
   "source": [
    "import PIL\n",
    "import torchvision.transforms as tvf\n",
    "\n",
    "ImgNorm = tvf.Compose([tvf.ToTensor(), tvf.Normalize((0.5, 0.5, 0.5), (0.5, 0.5, 0.5))])\n",
    "\n",
    "def _resize_pil_image(img, long_edge_size):\n",
    "    S = max(img.size)\n",
    "    if S > long_edge_size:\n",
    "        interp = PIL.Image.LANCZOS\n",
    "    elif S <= long_edge_size:\n",
    "        interp = PIL.Image.BICUBIC\n",
    "    new_size = tuple(int(round(x*long_edge_size/S)) for x in img.size)\n",
    "    return img.resize(new_size, interp)\n",
    "\n",
    "def load_video_as_frames(video_path, load_frequency=1, max_n_frames=np.inf):\n",
    "    \"\"\"\n",
    "    Load an RGB video as a set of frames.\n",
    "\n",
    "    Args:\n",
    "        video_path (str): Path to the video file.\n",
    "        size (tuple): Desired size of the frames (width, height).\n",
    "        verbose (bool): Whether to print progress.\n",
    "\n",
    "    Returns:\n",
    "        list: A list of frames (each frame is a numpy array).\n",
    "    \"\"\"\n",
    "    frames = []\n",
    "    files = []\n",
    "    cap = cv2.VideoCapture(video_path)\n",
    "\n",
    "    if not cap.isOpened():\n",
    "        raise ValueError(f\"Cannot open video file: {video_path}\")\n",
    "\n",
    "    frame_idx = 0\n",
    "    while True:\n",
    "        ret, frame = cap.read()\n",
    "        \n",
    "        if not ret:\n",
    "            break\n",
    "        \n",
    "        if frame_idx % load_frequency != 0:\n",
    "            frame_idx += 1\n",
    "            continue\n",
    "        frame_idx += 1\n",
    "        \n",
    "\n",
    "        # # Resize frame to the desired size\n",
    "        # frame = cv2.resize(frame, size)\n",
    "\n",
    "        # Convert BGR to RGB\n",
    "        frame = cv2.cvtColor(frame, cv2.COLOR_BGR2RGB)\n",
    "        \n",
    "        pil_image = Image.fromarray(frame)\n",
    "        \n",
    "        img = exif_transpose(pil_image).convert('RGB')\n",
    "        \n",
    "        W1, H1 = img.size\n",
    "        \n",
    "        img = _resize_pil_image(img, round(224 * max(W1/H1, H1/W1)))\n",
    "        \n",
    "        W, H = img.size\n",
    "        cx, cy = W//2, H//2\n",
    "        half = min(cx, cy)\n",
    "        img = img.crop((cx-half, cy-half, cx+half, cy+half))\n",
    "        \n",
    "        W2, H2 = img.size\n",
    "\n",
    "        frames.append(dict(img=ImgNorm(img)[None], true_shape=np.int32(\n",
    "            [img.size[::-1]]), idx=len(frames), instance=str(len(frames))))\n",
    "        \n",
    "        fname = f\"{frame_idx:04d}.jpg\"\n",
    "        os.makedirs(\"input_data\", exist_ok=True)\n",
    "        pil_image.save(os.path.join(\"input_data\",fname))\n",
    "        files.append(fname)\n",
    "        \n",
    "        if len(frames) >= max_n_frames:\n",
    "            break\n",
    "\n",
    "    cap.release()\n",
    "    return frames, files"
   ]
  },
  {
   "cell_type": "code",
   "execution_count": 12,
   "metadata": {},
   "outputs": [],
   "source": [
    "# Variables\n",
    "\n",
    "# Scene graph definition\n",
    "# This is where we define how image pairs are connected\n",
    "\n",
    "device = \"cuda\"\n",
    "# schedule = \"cosine\"\n",
    "# lr = 0.01\n",
    "# niter = 300\n",
    "\n",
    "model_name = \"naver/MASt3R_ViTLarge_BaseDecoder_512_catmlpdpt_metric\"\n",
    "# you can put the path to a local checkpoint in model_name if needed\n",
    "model = AsymmetricMASt3R.from_pretrained(model_name).to(device)\n",
    "\n",
    "\n",
    "# filelist = [x for x in os.listdir(\"/scratch/toskov/data/scannetpp_working/0a76e06478/dslr/nerfstudio/\") if x.endswith(\".jpg\")]\n"
   ]
  },
  {
   "cell_type": "code",
   "execution_count": 13,
   "metadata": {},
   "outputs": [],
   "source": [
    "# scene_graph_params = [scenegraph_type]\n",
    "# if scenegraph_type in [\"swin\", \"logwin\"]:\n",
    "#     scene_graph_params.append(str(winsize))\n",
    "# elif scenegraph_type == \"oneref\":\n",
    "#     scene_graph_params.append(str(refid))\n",
    "# elif scenegraph_type == \"retrieval\":\n",
    "#     scene_graph_params.append(str(winsize))  # Na\n",
    "#     scene_graph_params.append(str(refid))  # k\n",
    "# if scenegraph_type in [\"swin\", \"logwin\"] and not win_cyclic:\n",
    "#     scene_graph_params.append('noncyclic')\n",
    "# scene_graph = '-'.join(scene_graph_params)\n",
    "\n",
    "# scene_graph = \"swin-1-noncyclic\"\n",
    "scene_graph = \"swin-10-noncyclic\"\n",
    "# scene_graph = \"complete\""
   ]
  },
  {
   "cell_type": "code",
   "execution_count": 14,
   "metadata": {},
   "outputs": [],
   "source": [
    "# imgs = load_images(filelist, size=224, verbose=True)\n",
    "# if len(imgs) == 1:\n",
    "#     imgs = [imgs[0], copy.deepcopy(imgs[0])]\n",
    "#     imgs[1]['idx'] = 1\n",
    "#     filelist = [filelist[0], filelist[0] + '_2']\n",
    "\n",
    "# imgs, filelist = load_video_as_frames(\"/scratch/toskov/data/scannetpp_working/0a76e06478/iphone/rgb.mp4\", load_frequency=30, max_n_frames=40)\n",
    "imgs, filelist = load_video_as_frames(\"/home/toskov/gen_test_vid.mp4\", load_frequency=2, max_n_frames=80)"
   ]
  },
  {
   "cell_type": "code",
   "execution_count": 15,
   "metadata": {},
   "outputs": [
    {
     "data": {
      "text/plain": [
       "80"
      ]
     },
     "execution_count": 15,
     "metadata": {},
     "output_type": "execute_result"
    }
   ],
   "source": [
    "len(imgs)"
   ]
  },
  {
   "cell_type": "code",
   "execution_count": 16,
   "metadata": {},
   "outputs": [
    {
     "data": {
      "text/plain": [
       "torch.Size([1, 3, 224, 224])"
      ]
     },
     "execution_count": 16,
     "metadata": {},
     "output_type": "execute_result"
    }
   ],
   "source": [
    "imgs[0][\"img\"].shape"
   ]
  },
  {
   "cell_type": "code",
   "execution_count": 17,
   "metadata": {},
   "outputs": [],
   "source": [
    "pairs = make_pairs(imgs, scene_graph=scene_graph, prefilter=None, symmetrize=True, sim_mat=None)"
   ]
  },
  {
   "cell_type": "code",
   "execution_count": 18,
   "metadata": {},
   "outputs": [
    {
     "name": "stdout",
     "output_type": "stream",
     "text": [
      "1490 1490\n",
      "1490\n"
     ]
    },
    {
     "data": {
      "text/plain": [
       "['15, 21',\n",
       " '55, 57',\n",
       " '7, 17',\n",
       " '47, 53',\n",
       " '26, 30',\n",
       " '67, 68',\n",
       " '18, 26',\n",
       " '59, 64',\n",
       " '67, 77',\n",
       " '70, 73',\n",
       " '29, 32',\n",
       " '8, 9',\n",
       " '0, 5',\n",
       " '40, 41',\n",
       " '8, 18',\n",
       " '48, 54',\n",
       " '11, 14',\n",
       " '40, 50',\n",
       " '41, 42',\n",
       " '33, 38',\n",
       " '73, 74',\n",
       " '41, 51',\n",
       " '25, 34',\n",
       " '44, 47',\n",
       " '3, 6',\n",
       " '14, 15',\n",
       " '22, 28',\n",
       " '14, 24',\n",
       " '74, 75',\n",
       " '66, 71',\n",
       " '15, 16',\n",
       " '7, 12',\n",
       " '47, 48',\n",
       " '15, 25',\n",
       " '55, 61',\n",
       " '18, 21',\n",
       " '47, 57',\n",
       " '59, 68',\n",
       " '70, 77',\n",
       " '29, 36',\n",
       " '48, 49',\n",
       " '0, 9',\n",
       " '40, 45',\n",
       " '48, 58',\n",
       " '62, 69',\n",
       " '25, 29',\n",
       " '33, 42',\n",
       " '73, 78',\n",
       " '44, 51',\n",
       " '3, 10',\n",
       " '22, 23',\n",
       " '51, 59',\n",
       " '14, 19',\n",
       " '22, 32',\n",
       " '74, 79',\n",
       " '66, 75',\n",
       " '36, 43',\n",
       " '55, 56',\n",
       " '7, 16',\n",
       " '47, 52',\n",
       " '55, 65',\n",
       " '59, 63',\n",
       " '29, 31',\n",
       " '58, 67',\n",
       " '21, 27',\n",
       " '69, 76',\n",
       " '48, 53',\n",
       " '40, 49',\n",
       " '10, 17',\n",
       " '62, 64',\n",
       " '54, 60',\n",
       " '33, 37',\n",
       " '25, 33',\n",
       " '3, 5',\n",
       " '32, 41',\n",
       " '51, 54',\n",
       " '43, 50',\n",
       " '22, 27',\n",
       " '14, 23',\n",
       " '66, 70',\n",
       " '17, 25',\n",
       " '36, 38',\n",
       " '65, 74',\n",
       " '28, 34',\n",
       " '7, 11',\n",
       " '55, 60',\n",
       " '47, 56',\n",
       " '6, 15',\n",
       " '58, 62',\n",
       " '21, 22',\n",
       " '50, 58',\n",
       " '29, 35',\n",
       " '69, 71',\n",
       " '21, 31',\n",
       " '61, 67',\n",
       " '40, 44',\n",
       " '10, 12',\n",
       " '39, 48',\n",
       " '2, 8',\n",
       " '54, 55',\n",
       " '62, 68',\n",
       " '25, 28',\n",
       " '54, 64',\n",
       " '73, 77',\n",
       " '32, 36',\n",
       " '24, 32',\n",
       " '3, 9',\n",
       " '43, 45',\n",
       " '51, 58',\n",
       " '35, 41',\n",
       " '14, 18',\n",
       " '17, 20',\n",
       " '65, 69',\n",
       " '28, 29',\n",
       " '36, 42',\n",
       " '76, 78',\n",
       " '28, 38',\n",
       " '68, 74',\n",
       " '47, 51',\n",
       " '6, 10',\n",
       " '50, 53',\n",
       " '29, 30',\n",
       " '58, 66',\n",
       " '77, 79',\n",
       " '21, 26',\n",
       " '61, 62',\n",
       " '69, 75',\n",
       " '61, 71',\n",
       " '39, 43',\n",
       " '2, 3',\n",
       " '10, 16',\n",
       " '2, 12',\n",
       " '62, 63',\n",
       " '54, 59',\n",
       " '24, 27',\n",
       " '3, 4',\n",
       " '32, 40',\n",
       " '51, 53',\n",
       " '35, 36',\n",
       " '72, 76',\n",
       " '43, 49',\n",
       " '35, 45',\n",
       " '9, 11',\n",
       " '17, 24',\n",
       " '57, 60',\n",
       " '36, 37',\n",
       " '65, 73',\n",
       " '28, 33',\n",
       " '68, 69',\n",
       " '68, 78',\n",
       " '6, 14',\n",
       " '58, 61',\n",
       " '42, 44',\n",
       " '50, 57',\n",
       " '69, 70',\n",
       " '21, 30',\n",
       " '61, 66',\n",
       " '69, 79',\n",
       " '31, 34',\n",
       " '10, 11',\n",
       " '39, 47',\n",
       " '2, 7',\n",
       " '54, 63',\n",
       " '13, 22',\n",
       " '32, 35',\n",
       " '16, 18',\n",
       " '24, 31',\n",
       " '64, 67',\n",
       " '43, 44',\n",
       " '35, 40',\n",
       " '43, 53',\n",
       " '5, 8',\n",
       " '17, 19',\n",
       " '46, 55',\n",
       " '65, 68',\n",
       " '9, 15',\n",
       " '49, 51',\n",
       " '57, 64',\n",
       " '76, 77',\n",
       " '28, 37',\n",
       " '68, 73',\n",
       " '6, 9',\n",
       " '50, 52',\n",
       " '58, 65',\n",
       " '42, 48',\n",
       " '61, 70',\n",
       " '20, 29',\n",
       " '39, 42',\n",
       " '23, 25',\n",
       " '31, 38',\n",
       " '2, 11',\n",
       " '13, 17',\n",
       " '24, 26',\n",
       " '53, 62',\n",
       " '32, 39',\n",
       " '16, 22',\n",
       " '72, 75',\n",
       " '64, 71',\n",
       " '35, 44',\n",
       " '5, 12',\n",
       " '46, 50',\n",
       " '9, 10',\n",
       " '38, 46',\n",
       " '17, 23',\n",
       " '57, 59',\n",
       " '65, 72',\n",
       " '9, 19',\n",
       " '49, 55',\n",
       " '68, 77',\n",
       " '27, 36',\n",
       " '6, 13',\n",
       " '42, 43',\n",
       " '71, 79',\n",
       " '50, 56',\n",
       " '42, 52',\n",
       " '20, 24',\n",
       " '12, 20',\n",
       " '31, 33',\n",
       " '60, 69',\n",
       " '39, 46',\n",
       " '23, 29',\n",
       " '75, 76',\n",
       " '1, 10',\n",
       " '13, 21',\n",
       " '53, 57',\n",
       " '16, 17',\n",
       " '45, 53',\n",
       " '24, 30',\n",
       " '64, 66',\n",
       " '72, 79',\n",
       " '16, 26',\n",
       " '56, 62',\n",
       " '5, 7',\n",
       " '38, 41',\n",
       " '46, 54',\n",
       " '65, 67',\n",
       " '9, 14',\n",
       " '49, 50',\n",
       " '57, 63',\n",
       " '49, 59',\n",
       " '68, 72',\n",
       " '27, 31',\n",
       " '19, 27',\n",
       " '30, 36',\n",
       " '71, 74',\n",
       " '50, 51',\n",
       " '63, 70',\n",
       " '42, 47',\n",
       " '12, 15',\n",
       " '20, 28',\n",
       " '4, 11',\n",
       " '39, 41',\n",
       " '23, 24',\n",
       " '52, 60',\n",
       " '31, 37',\n",
       " '60, 64',\n",
       " '23, 33',\n",
       " '1, 5',\n",
       " '34, 39',\n",
       " '13, 16',\n",
       " '45, 48',\n",
       " '24, 25',\n",
       " '37, 44',\n",
       " '53, 61',\n",
       " '16, 21',\n",
       " '56, 57',\n",
       " '64, 70',\n",
       " '72, 74',\n",
       " '56, 66',\n",
       " '26, 34',\n",
       " '67, 72',\n",
       " '5, 11',\n",
       " '46, 49',\n",
       " '38, 45',\n",
       " '57, 58',\n",
       " '49, 54',\n",
       " '8, 13',\n",
       " '19, 22',\n",
       " '27, 35',\n",
       " '11, 18',\n",
       " '30, 31',\n",
       " '63, 65',\n",
       " '30, 40',\n",
       " '71, 78',\n",
       " '41, 46',\n",
       " '20, 23',\n",
       " '4, 6',\n",
       " '12, 19',\n",
       " '52, 55',\n",
       " '31, 32',\n",
       " '60, 68',\n",
       " '23, 28',\n",
       " '1, 9',\n",
       " '34, 43',\n",
       " '53, 56',\n",
       " '37, 39',\n",
       " '45, 52',\n",
       " '64, 65',\n",
       " '56, 61',\n",
       " '15, 20',\n",
       " '26, 29',\n",
       " '5, 6',\n",
       " '18, 25',\n",
       " '38, 40',\n",
       " '67, 76',\n",
       " '70, 72',\n",
       " '0, 4',\n",
       " '8, 17',\n",
       " '27, 30',\n",
       " '11, 13',\n",
       " '19, 26',\n",
       " '30, 35',\n",
       " '71, 73',\n",
       " '63, 69',\n",
       " '12, 14',\n",
       " '41, 50',\n",
       " '60, 63',\n",
       " '4, 10',\n",
       " '44, 46',\n",
       " '52, 59',\n",
       " '1, 4',\n",
       " '34, 38',\n",
       " '45, 47',\n",
       " '37, 43',\n",
       " '56, 65',\n",
       " '15, 24',\n",
       " '18, 20',\n",
       " '26, 33',\n",
       " '67, 71',\n",
       " '59, 67',\n",
       " '70, 76',\n",
       " '8, 12',\n",
       " '0, 8',\n",
       " '19, 21',\n",
       " '48, 57',\n",
       " '11, 17',\n",
       " '63, 64',\n",
       " '71, 77',\n",
       " '63, 73',\n",
       " '41, 45',\n",
       " '4, 5',\n",
       " '33, 41',\n",
       " '52, 54',\n",
       " '60, 67',\n",
       " '4, 14',\n",
       " '44, 50',\n",
       " '22, 31',\n",
       " '34, 42',\n",
       " '74, 78',\n",
       " '37, 38',\n",
       " '66, 74',\n",
       " '45, 51',\n",
       " '37, 47',\n",
       " '15, 19',\n",
       " '7, 15',\n",
       " '26, 28',\n",
       " '55, 64',\n",
       " '18, 24',\n",
       " '59, 62',\n",
       " '67, 75',\n",
       " '70, 71',\n",
       " '29, 39',\n",
       " '0, 3',\n",
       " '8, 16',\n",
       " '48, 52',\n",
       " '11, 12',\n",
       " '40, 48',\n",
       " '19, 25',\n",
       " '11, 21',\n",
       " '63, 68',\n",
       " '33, 36',\n",
       " '62, 72',\n",
       " '41, 49',\n",
       " '25, 32',\n",
       " '4, 9',\n",
       " '44, 45',\n",
       " '52, 58',\n",
       " '44, 54',\n",
       " '3, 13',\n",
       " '22, 26',\n",
       " '14, 22',\n",
       " '34, 37',\n",
       " '66, 69',\n",
       " '37, 42',\n",
       " '7, 10',\n",
       " '36, 46',\n",
       " '15, 23',\n",
       " '55, 59',\n",
       " '18, 19',\n",
       " '47, 55',\n",
       " '26, 32',\n",
       " '67, 70',\n",
       " '18, 28',\n",
       " '59, 66',\n",
       " '70, 75',\n",
       " '29, 34',\n",
       " '8, 11',\n",
       " '0, 7',\n",
       " '40, 43',\n",
       " '48, 56',\n",
       " '11, 16',\n",
       " '10, 20',\n",
       " '62, 67',\n",
       " '41, 44',\n",
       " '25, 27',\n",
       " '33, 40',\n",
       " '73, 76',\n",
       " '44, 49',\n",
       " '3, 8',\n",
       " '51, 57',\n",
       " '14, 17',\n",
       " '22, 30',\n",
       " '74, 77',\n",
       " '66, 73',\n",
       " '36, 41',\n",
       " '15, 18',\n",
       " '7, 14',\n",
       " '47, 50',\n",
       " '55, 63',\n",
       " '18, 23',\n",
       " '59, 61',\n",
       " '77, 78',\n",
       " '21, 25',\n",
       " '0, 2',\n",
       " '29, 38',\n",
       " '48, 51',\n",
       " '69, 74',\n",
       " '40, 47',\n",
       " '10, 15',\n",
       " '54, 58',\n",
       " '33, 35',\n",
       " '62, 71',\n",
       " '25, 31',\n",
       " '51, 52',\n",
       " '3, 12',\n",
       " '43, 48',\n",
       " '22, 25',\n",
       " '51, 61',\n",
       " '14, 21',\n",
       " '66, 68',\n",
       " '28, 32',\n",
       " '7, 9',\n",
       " '36, 45',\n",
       " '55, 58',\n",
       " '47, 54',\n",
       " '58, 60',\n",
       " '29, 33',\n",
       " '21, 29',\n",
       " '61, 65',\n",
       " '40, 42',\n",
       " '69, 78',\n",
       " '2, 6',\n",
       " '10, 19',\n",
       " '62, 66',\n",
       " '25, 26',\n",
       " '54, 62',\n",
       " '73, 75',\n",
       " '25, 35',\n",
       " '32, 34',\n",
       " '3, 7',\n",
       " '51, 56',\n",
       " '35, 39',\n",
       " '14, 16',\n",
       " '43, 52',\n",
       " '17, 18',\n",
       " '17, 27',\n",
       " '36, 40',\n",
       " '28, 36',\n",
       " '47, 49',\n",
       " '6, 8',\n",
       " '58, 64',\n",
       " '21, 24',\n",
       " '50, 60',\n",
       " '29, 37',\n",
       " '69, 73',\n",
       " '61, 69',\n",
       " '10, 14',\n",
       " '2, 10',\n",
       " '54, 57',\n",
       " '62, 70',\n",
       " '32, 38',\n",
       " '24, 34',\n",
       " '3, 11',\n",
       " '43, 47',\n",
       " '51, 60',\n",
       " '35, 43',\n",
       " '17, 22',\n",
       " '65, 71',\n",
       " '9, 18',\n",
       " '28, 31',\n",
       " '57, 67',\n",
       " '36, 44',\n",
       " '68, 76',\n",
       " '6, 12',\n",
       " '58, 59',\n",
       " '50, 55',\n",
       " '58, 68',\n",
       " '42, 51',\n",
       " '21, 28',\n",
       " '61, 64',\n",
       " '69, 77',\n",
       " '39, 45',\n",
       " '2, 5',\n",
       " '31, 41',\n",
       " '10, 18',\n",
       " '62, 65',\n",
       " '54, 61',\n",
       " '13, 20',\n",
       " '32, 33',\n",
       " '24, 29',\n",
       " '32, 42',\n",
       " '16, 25',\n",
       " '51, 55',\n",
       " '35, 38',\n",
       " '64, 74',\n",
       " '43, 51',\n",
       " '72, 78',\n",
       " '5, 15',\n",
       " '46, 53',\n",
       " '65, 66',\n",
       " '9, 13',\n",
       " '17, 26',\n",
       " '57, 62',\n",
       " '36, 39',\n",
       " '49, 58',\n",
       " '65, 75',\n",
       " '28, 35',\n",
       " '68, 71',\n",
       " '6, 7',\n",
       " '6, 16',\n",
       " '58, 63',\n",
       " '42, 46',\n",
       " '21, 23',\n",
       " '50, 59',\n",
       " '69, 72',\n",
       " '61, 68',\n",
       " '20, 27',\n",
       " '39, 40',\n",
       " '31, 36',\n",
       " '10, 13',\n",
       " '23, 32',\n",
       " '39, 49',\n",
       " '2, 9',\n",
       " '75, 79',\n",
       " '54, 56',\n",
       " '13, 15',\n",
       " '53, 60',\n",
       " '32, 37',\n",
       " '16, 20',\n",
       " '72, 73',\n",
       " '24, 33',\n",
       " '64, 69',\n",
       " '43, 46',\n",
       " '35, 42',\n",
       " '5, 10',\n",
       " '46, 48',\n",
       " '38, 44',\n",
       " '17, 21',\n",
       " '65, 70',\n",
       " '9, 17',\n",
       " '49, 53',\n",
       " '28, 30',\n",
       " '57, 66',\n",
       " '76, 79',\n",
       " '68, 75',\n",
       " '27, 34',\n",
       " '6, 11',\n",
       " '30, 39',\n",
       " '50, 54',\n",
       " '42, 50',\n",
       " '61, 63',\n",
       " '20, 22',\n",
       " '12, 18',\n",
       " '39, 44',\n",
       " '23, 27',\n",
       " '2, 4',\n",
       " '31, 40',\n",
       " '1, 8',\n",
       " '13, 19',\n",
       " '53, 55',\n",
       " '24, 28',\n",
       " '72, 77',\n",
       " '16, 24',\n",
       " '56, 60',\n",
       " '35, 37',\n",
       " '64, 73',\n",
       " '38, 39',\n",
       " '5, 14',\n",
       " '46, 52',\n",
       " '9, 12',\n",
       " '38, 48',\n",
       " '57, 61',\n",
       " '49, 57',\n",
       " '68, 70',\n",
       " '27, 29',\n",
       " '30, 34',\n",
       " '71, 72',\n",
       " '42, 45',\n",
       " '12, 13',\n",
       " '20, 26',\n",
       " '60, 62',\n",
       " '12, 22',\n",
       " '31, 35',\n",
       " '23, 31',\n",
       " '75, 78',\n",
       " '1, 3',\n",
       " '13, 14',\n",
       " '45, 46',\n",
       " '13, 23',\n",
       " '53, 59',\n",
       " '16, 19',\n",
       " '45, 55',\n",
       " '64, 68',\n",
       " '56, 64',\n",
       " '5, 9',\n",
       " '46, 47',\n",
       " '38, 43',\n",
       " '78, 79',\n",
       " '46, 56',\n",
       " '9, 16',\n",
       " '49, 52',\n",
       " '57, 65',\n",
       " '19, 20',\n",
       " '27, 33',\n",
       " '19, 29',\n",
       " '30, 38',\n",
       " '71, 76',\n",
       " '63, 72',\n",
       " '42, 49',\n",
       " '20, 21',\n",
       " '12, 17',\n",
       " '52, 53',\n",
       " '20, 30',\n",
       " '4, 13',\n",
       " '60, 66',\n",
       " '23, 26',\n",
       " '52, 62',\n",
       " '31, 39',\n",
       " '1, 7',\n",
       " '34, 41',\n",
       " '13, 18',\n",
       " '53, 54',\n",
       " '45, 50',\n",
       " '53, 63',\n",
       " '37, 46',\n",
       " '16, 23',\n",
       " '56, 59',\n",
       " '64, 72',\n",
       " '26, 27',\n",
       " '26, 36',\n",
       " '67, 74',\n",
       " '5, 13',\n",
       " '46, 51',\n",
       " '38, 47',\n",
       " '70, 79',\n",
       " '49, 56',\n",
       " '8, 15',\n",
       " '27, 28',\n",
       " '19, 24',\n",
       " '27, 37',\n",
       " '11, 20',\n",
       " '30, 33',\n",
       " '63, 67',\n",
       " '41, 48',\n",
       " '20, 25',\n",
       " '4, 8',\n",
       " '60, 61',\n",
       " '12, 21',\n",
       " '52, 57',\n",
       " '60, 70',\n",
       " '44, 53',\n",
       " '23, 30',\n",
       " '75, 77',\n",
       " '1, 2',\n",
       " '34, 36',\n",
       " '1, 11',\n",
       " '53, 58',\n",
       " '37, 41',\n",
       " '45, 54',\n",
       " '56, 63',\n",
       " '15, 22',\n",
       " '26, 31',\n",
       " '67, 69',\n",
       " '18, 27',\n",
       " '59, 65',\n",
       " '38, 42',\n",
       " '70, 74',\n",
       " '8, 10',\n",
       " '0, 6',\n",
       " '48, 55',\n",
       " '27, 32',\n",
       " '11, 15',\n",
       " '19, 28',\n",
       " '30, 37',\n",
       " '71, 75',\n",
       " '63, 71',\n",
       " '41, 43',\n",
       " '33, 39',\n",
       " '12, 16',\n",
       " '60, 65',\n",
       " '4, 12',\n",
       " '44, 48',\n",
       " '52, 61',\n",
       " '22, 29',\n",
       " '1, 6',\n",
       " '34, 40',\n",
       " '74, 76',\n",
       " '66, 72',\n",
       " '45, 49',\n",
       " '37, 45',\n",
       " '56, 58',\n",
       " '15, 17',\n",
       " '7, 13',\n",
       " '55, 62',\n",
       " '18, 22',\n",
       " '59, 60',\n",
       " '26, 35',\n",
       " '67, 73',\n",
       " '59, 69',\n",
       " '70, 78',\n",
       " '0, 1',\n",
       " '8, 14',\n",
       " '48, 50',\n",
       " '0, 10',\n",
       " '40, 46',\n",
       " '19, 23',\n",
       " '11, 19',\n",
       " '30, 32',\n",
       " '63, 66',\n",
       " '33, 34',\n",
       " '41, 47',\n",
       " '25, 30',\n",
       " '4, 7',\n",
       " '33, 43',\n",
       " '52, 56',\n",
       " '73, 79',\n",
       " '44, 52',\n",
       " '22, 24',\n",
       " '14, 20',\n",
       " '34, 35',\n",
       " '66, 67',\n",
       " '34, 44',\n",
       " '37, 40',\n",
       " '66, 76',\n",
       " '7, 8',\n",
       " '21, 15',\n",
       " '57, 55',\n",
       " '17, 7',\n",
       " '53, 47',\n",
       " '30, 26',\n",
       " '68, 67',\n",
       " '26, 18',\n",
       " '64, 59',\n",
       " '77, 67',\n",
       " '73, 70',\n",
       " '32, 29',\n",
       " '9, 8',\n",
       " '5, 0',\n",
       " '41, 40',\n",
       " '18, 8',\n",
       " '54, 48',\n",
       " '14, 11',\n",
       " '50, 40',\n",
       " '42, 41',\n",
       " '38, 33',\n",
       " '74, 73',\n",
       " '51, 41',\n",
       " '34, 25',\n",
       " '47, 44',\n",
       " '6, 3',\n",
       " '15, 14',\n",
       " '28, 22',\n",
       " '24, 14',\n",
       " '75, 74',\n",
       " '71, 66',\n",
       " '16, 15',\n",
       " '12, 7',\n",
       " '48, 47',\n",
       " '25, 15',\n",
       " '61, 55',\n",
       " '21, 18',\n",
       " '57, 47',\n",
       " '68, 59',\n",
       " '77, 70',\n",
       " '36, 29',\n",
       " '49, 48',\n",
       " '9, 0',\n",
       " '45, 40',\n",
       " '58, 48',\n",
       " '69, 62',\n",
       " '29, 25',\n",
       " '42, 33',\n",
       " '78, 73',\n",
       " '51, 44',\n",
       " '10, 3',\n",
       " '23, 22',\n",
       " '59, 51',\n",
       " '19, 14',\n",
       " '32, 22',\n",
       " '79, 74',\n",
       " '75, 66',\n",
       " '43, 36',\n",
       " '56, 55',\n",
       " '16, 7',\n",
       " '52, 47',\n",
       " '65, 55',\n",
       " '63, 59',\n",
       " '31, 29',\n",
       " '67, 58',\n",
       " '27, 21',\n",
       " '76, 69',\n",
       " '53, 48',\n",
       " '49, 40',\n",
       " '17, 10',\n",
       " '64, 62',\n",
       " '60, 54',\n",
       " '37, 33',\n",
       " '33, 25',\n",
       " '5, 3',\n",
       " '41, 32',\n",
       " '54, 51',\n",
       " '50, 43',\n",
       " '27, 22',\n",
       " '23, 14',\n",
       " '70, 66',\n",
       " '25, 17',\n",
       " '38, 36',\n",
       " '74, 65',\n",
       " '34, 28',\n",
       " '11, 7',\n",
       " '60, 55',\n",
       " '56, 47',\n",
       " '15, 6',\n",
       " '62, 58',\n",
       " '22, 21',\n",
       " '58, 50',\n",
       " '35, 29',\n",
       " '71, 69',\n",
       " '31, 21',\n",
       " '67, 61',\n",
       " '44, 40',\n",
       " '12, 10',\n",
       " '48, 39',\n",
       " '8, 2',\n",
       " '55, 54',\n",
       " '68, 62',\n",
       " '28, 25',\n",
       " '64, 54',\n",
       " '77, 73',\n",
       " '36, 32',\n",
       " '32, 24',\n",
       " '9, 3',\n",
       " '45, 43',\n",
       " '58, 51',\n",
       " '41, 35',\n",
       " '18, 14',\n",
       " '20, 17',\n",
       " '69, 65',\n",
       " '29, 28',\n",
       " '42, 36',\n",
       " '78, 76',\n",
       " '38, 28',\n",
       " '74, 68',\n",
       " '51, 47',\n",
       " '10, 6',\n",
       " '53, 50',\n",
       " '30, 29',\n",
       " '66, 58',\n",
       " '79, 77',\n",
       " '26, 21',\n",
       " '62, 61',\n",
       " '75, 69',\n",
       " '71, 61',\n",
       " '43, 39',\n",
       " '3, 2',\n",
       " '16, 10',\n",
       " '12, 2',\n",
       " '63, 62',\n",
       " '59, 54',\n",
       " '27, 24',\n",
       " '4, 3',\n",
       " '40, 32',\n",
       " '53, 51',\n",
       " '36, 35',\n",
       " '76, 72',\n",
       " '49, 43',\n",
       " '45, 35',\n",
       " '11, 9',\n",
       " '24, 17',\n",
       " '60, 57',\n",
       " '37, 36',\n",
       " '73, 65',\n",
       " '33, 28',\n",
       " '69, 68',\n",
       " '78, 68',\n",
       " '14, 6',\n",
       " '61, 58',\n",
       " '44, 42',\n",
       " '57, 50',\n",
       " '70, 69',\n",
       " '30, 21',\n",
       " '66, 61',\n",
       " '79, 69',\n",
       " '34, 31',\n",
       " '11, 10',\n",
       " '47, 39',\n",
       " '7, 2',\n",
       " '63, 54',\n",
       " '22, 13',\n",
       " '35, 32',\n",
       " '18, 16',\n",
       " '31, 24',\n",
       " '67, 64',\n",
       " '44, 43',\n",
       " '40, 35',\n",
       " '53, 43',\n",
       " '8, 5',\n",
       " '19, 17',\n",
       " '55, 46',\n",
       " '68, 65',\n",
       " '15, 9',\n",
       " '51, 49',\n",
       " '64, 57',\n",
       " '77, 76',\n",
       " '37, 28',\n",
       " '73, 68',\n",
       " '9, 6',\n",
       " '52, 50',\n",
       " '65, 58',\n",
       " '48, 42',\n",
       " '70, 61',\n",
       " '29, 20',\n",
       " '42, 39',\n",
       " '25, 23',\n",
       " '38, 31',\n",
       " '11, 2',\n",
       " '17, 13',\n",
       " '26, 24',\n",
       " '62, 53',\n",
       " '39, 32',\n",
       " '22, 16',\n",
       " '75, 72',\n",
       " '71, 64',\n",
       " '44, 35',\n",
       " '12, 5',\n",
       " '50, 46',\n",
       " '10, 9',\n",
       " '46, 38',\n",
       " '23, 17',\n",
       " '59, 57',\n",
       " '72, 65',\n",
       " '19, 9',\n",
       " '55, 49',\n",
       " '77, 68',\n",
       " '36, 27',\n",
       " '13, 6',\n",
       " '43, 42',\n",
       " '79, 71',\n",
       " '56, 50',\n",
       " '52, 42',\n",
       " '24, 20',\n",
       " '20, 12',\n",
       " '33, 31',\n",
       " '69, 60',\n",
       " '46, 39',\n",
       " '29, 23',\n",
       " '76, 75',\n",
       " '10, 1',\n",
       " '21, 13',\n",
       " '57, 53',\n",
       " '17, 16',\n",
       " '53, 45',\n",
       " '30, 24',\n",
       " '66, 64',\n",
       " '79, 72',\n",
       " '26, 16',\n",
       " '62, 56',\n",
       " '7, 5',\n",
       " '41, 38',\n",
       " '54, 46',\n",
       " '67, 65',\n",
       " '14, 9',\n",
       " '50, 49',\n",
       " '63, 57',\n",
       " '59, 49',\n",
       " '72, 68',\n",
       " '31, 27',\n",
       " '27, 19',\n",
       " '36, 30',\n",
       " '74, 71',\n",
       " '51, 50',\n",
       " '70, 63',\n",
       " '47, 42',\n",
       " '15, 12',\n",
       " '28, 20',\n",
       " '11, 4',\n",
       " '41, 39',\n",
       " '24, 23',\n",
       " '60, 52',\n",
       " '37, 31',\n",
       " ...]"
      ]
     },
     "execution_count": 18,
     "metadata": {},
     "output_type": "execute_result"
    }
   ],
   "source": [
    "pairs_ids = [f\"{p[0]['instance']}, {p[1]['instance']}\" for p in pairs]\n",
    "\n",
    "print(len(pairs), len(pairs_ids))\n",
    "print(len(set(pairs_ids)))\n",
    "\n",
    "pairs_ids"
   ]
  },
  {
   "cell_type": "code",
   "execution_count": 19,
   "metadata": {},
   "outputs": [
    {
     "name": "stderr",
     "output_type": "stream",
     "text": [
      "  0%|          | 0/1490 [00:00<?, ?it/s]/home/toskov/perspective-analysis-of-generated-images/mast3r/mast3r/cloud_opt/sparse_ga.py:620: FutureWarning: `torch.cuda.amp.autocast(args...)` is deprecated. Please use `torch.amp.autocast('cuda', args...)` instead.\n",
      "  with torch.cuda.amp.autocast(enabled=False):\n",
      " 50%|█████     | 745/1490 [02:05<02:33,  4.84it/s]/home/toskov/perspective-analysis-of-generated-images/mast3r/mast3r/cloud_opt/sparse_ga.py:577: FutureWarning: You are using `torch.load` with `weights_only=False` (the current default value), which uses the default pickle module implicitly. It is possible to construct malicious pickle data which will execute arbitrary code during unpickling (See https://github.com/pytorch/pytorch/blob/main/SECURITY.md#untrusted-models for more details). In a future release, the default value for `weights_only` will be flipped to `True`. This limits the functions that could be executed during unpickling. Arbitrary objects will no longer be allowed to be loaded via this mode unless they are explicitly allowlisted by the user via `torch.serialization.add_safe_globals`. We recommend you start setting `weights_only=True` for any use case where you don't have full control of the loaded file. Please open an issue on GitHub for any issues related to this experimental feature.\n",
      "  score, (xy1, xy2, confs) = torch.load(path_corres2)\n",
      "100%|██████████| 1490/1490 [02:06<00:00, 11.77it/s] \n",
      "  0%|          | 0/80 [00:00<?, ?it/s]/home/toskov/perspective-analysis-of-generated-images/mast3r/mast3r/cloud_opt/sparse_ga.py:684: FutureWarning: You are using `torch.load` with `weights_only=False` (the current default value), which uses the default pickle module implicitly. It is possible to construct malicious pickle data which will execute arbitrary code during unpickling (See https://github.com/pytorch/pytorch/blob/main/SECURITY.md#untrusted-models for more details). In a future release, the default value for `weights_only` will be flipped to `True`. This limits the functions that could be executed during unpickling. Arbitrary objects will no longer be allowed to be loaded via this mode unless they are explicitly allowlisted by the user via `torch.serialization.add_safe_globals`. We recommend you start setting `weights_only=True` for any use case where you don't have full control of the loaded file. Please open an issue on GitHub for any issues related to this experimental feature.\n",
      "  (canon, canon2, cconf), focal = torch.load(cache, map_location=device)\n",
      "/home/toskov/perspective-analysis-of-generated-images/mast3r/mast3r/cloud_opt/sparse_ga.py:698: FutureWarning: You are using `torch.load` with `weights_only=False` (the current default value), which uses the default pickle module implicitly. It is possible to construct malicious pickle data which will execute arbitrary code during unpickling (See https://github.com/pytorch/pytorch/blob/main/SECURITY.md#untrusted-models for more details). In a future release, the default value for `weights_only` will be flipped to `True`. This limits the functions that could be executed during unpickling. Arbitrary objects will no longer be allowed to be loaded via this mode unless they are explicitly allowlisted by the user via `torch.serialization.add_safe_globals`. We recommend you start setting `weights_only=True` for any use case where you don't have full control of the loaded file. Please open an issue on GitHub for any issues related to this experimental feature.\n",
      "  X, C, X2, C2 = torch.load(path1, map_location=device)\n",
      "/home/toskov/perspective-analysis-of-generated-images/mast3r/mast3r/cloud_opt/sparse_ga.py:756: FutureWarning: You are using `torch.load` with `weights_only=False` (the current default value), which uses the default pickle module implicitly. It is possible to construct malicious pickle data which will execute arbitrary code during unpickling (See https://github.com/pytorch/pytorch/blob/main/SECURITY.md#untrusted-models for more details). In a future release, the default value for `weights_only` will be flipped to `True`. This limits the functions that could be executed during unpickling. Arbitrary objects will no longer be allowed to be loaded via this mode unless they are explicitly allowlisted by the user via `torch.serialization.add_safe_globals`. We recommend you start setting `weights_only=True` for any use case where you don't have full control of the loaded file. Please open an issue on GitHub for any issues related to this experimental feature.\n",
      "  score, (xy1, xy2, confs) = torch.load(path_corres, map_location=device)\n",
      "/home/toskov/perspective-analysis-of-generated-images/mast3r/mast3r/cloud_opt/sparse_ga.py:707: FutureWarning: You are using `torch.load` with `weights_only=False` (the current default value), which uses the default pickle module implicitly. It is possible to construct malicious pickle data which will execute arbitrary code during unpickling (See https://github.com/pytorch/pytorch/blob/main/SECURITY.md#untrusted-models for more details). In a future release, the default value for `weights_only` will be flipped to `True`. This limits the functions that could be executed during unpickling. Arbitrary objects will no longer be allowed to be loaded via this mode unless they are explicitly allowlisted by the user via `torch.serialization.add_safe_globals`. We recommend you start setting `weights_only=True` for any use case where you don't have full control of the loaded file. Please open an issue on GitHub for any issues related to this experimental feature.\n",
      "  X, C, X2, C2 = torch.load(path2, map_location=device)\n",
      "100%|██████████| 80/80 [00:06<00:00, 12.53it/s]\n"
     ]
    },
    {
     "name": "stdout",
     "output_type": "stream",
     "text": [
      "init focals = [237.8324  231.64427 229.80313 237.20529 228.2971  228.33174 227.28099\n",
      " 220.38672 237.8366  236.12723 232.5336  243.63757 239.70116 233.30804\n",
      " 249.88072 238.81744 250.68976 262.91086 255.82246 265.78186 242.4157\n",
      " 253.27536 248.42784 265.55472 260.3252  256.8923  257.89456 255.16544\n",
      " 239.91193 226.22073 235.06828 226.7964  224.38654 221.03787 223.66762\n",
      " 231.02544 231.04526 224.13159 234.43594 232.21791 235.78732 238.60095\n",
      " 232.87825 229.66927 238.19807 248.17827 240.52255 248.80412 254.41423\n",
      " 289.84473 274.69388 274.02118 283.39563 256.9913  245.54657 276.61295\n",
      " 244.94713 249.21458 291.59015 328.37402 329.4815  316.73053 337.18332\n",
      " 315.88214 383.35126 363.9082  362.81714 468.5686  440.21222 376.62238\n",
      " 342.692   395.65787 484.77982 457.72885 540.72565 511.9912  527.5038\n",
      " 456.10852 339.67203 365.0633 ]\n"
     ]
    },
    {
     "name": "stderr",
     "output_type": "stream",
     "text": [
      "100%|██████████| 300/300 [02:27<00:00,  2.03it/s, lr=0.0000, loss=0.237]\n"
     ]
    },
    {
     "name": "stdout",
     "output_type": "stream",
     "text": [
      ">> final loss = 0.23710377514362335\n"
     ]
    },
    {
     "name": "stderr",
     "output_type": "stream",
     "text": [
      "100%|██████████| 300/300 [03:01<00:00,  1.65it/s, lr=0.0000, loss=0.486]\n"
     ]
    },
    {
     "name": "stdout",
     "output_type": "stream",
     "text": [
      ">> final loss = 0.4861879348754883\n",
      "Final focals = [251.8987  248.81848 245.46077 245.5844  245.94453 244.06851 244.34286\n",
      " 243.62886 243.01334 243.23535 243.56706 243.85132 245.28456 248.65492\n",
      " 246.73871 246.64436 247.20317 249.73897 249.8047  251.70802 251.8336\n",
      " 251.0467  251.00769 247.1129  244.8933  242.21278 241.86806 242.5984\n",
      " 242.15689 240.63187 238.79945 238.97147 240.17702 241.03404 242.42633\n",
      " 241.64418 240.67514 240.24367 237.92563 236.38745 235.87076 234.66768\n",
      " 236.18825 238.55692 241.63405 242.09688 242.99214 243.45142 245.58662\n",
      " 247.35445 245.83994 249.30458 247.75047 249.2223  249.45119 247.1024\n",
      " 247.41496 254.35469 258.90823 255.78854 266.51184 273.53687 279.7212\n",
      " 282.59204 287.06647 397.29337 425.1559  665.4525  586.59875 363.0861\n",
      " 335.85385 398.99786 514.97125 510.55405 555.8074  577.03094 602.0701\n",
      " 622.66144 470.6877  501.69952]\n"
     ]
    }
   ],
   "source": [
    "outdir = \"./outputs\"\n",
    "os.makedirs(outdir, exist_ok=True)\n",
    "\n",
    "scene = sparse_global_alignment(filelist, pairs, outdir, model, device=device)"
   ]
  },
  {
   "cell_type": "code",
   "execution_count": 20,
   "metadata": {},
   "outputs": [
    {
     "data": {
      "text/plain": [
       "[\"./outputs/canon_views/71d5039cf1209140b9105a4696b0b155_subsample=8_kw={'mode': 'avg-angle'}.pth\",\n",
       " \"./outputs/canon_views/0c2bd9aed8eeb3436b7cf20de8ee9c0c_subsample=8_kw={'mode': 'avg-angle'}.pth\",\n",
       " \"./outputs/canon_views/ebe357d4f8d0ba962ca883e047ecda90_subsample=8_kw={'mode': 'avg-angle'}.pth\",\n",
       " \"./outputs/canon_views/2d0c100cbbebbe710f9b2b4ee9130762_subsample=8_kw={'mode': 'avg-angle'}.pth\",\n",
       " \"./outputs/canon_views/81d31df8a58d41e2ae29679eaaba6f6f_subsample=8_kw={'mode': 'avg-angle'}.pth\",\n",
       " \"./outputs/canon_views/bd220e96119f11ccc92096940b1946ae_subsample=8_kw={'mode': 'avg-angle'}.pth\",\n",
       " \"./outputs/canon_views/4eb5772ab5ef3b695c2db5e5fff70f53_subsample=8_kw={'mode': 'avg-angle'}.pth\",\n",
       " \"./outputs/canon_views/38697a7fdd0ed4143df80dc5c49bfd67_subsample=8_kw={'mode': 'avg-angle'}.pth\",\n",
       " \"./outputs/canon_views/92f70b4c6bcf0d19a93d7a82048bb8e6_subsample=8_kw={'mode': 'avg-angle'}.pth\",\n",
       " \"./outputs/canon_views/a2c92c7f7d25471fe1dff2f31725fdbe_subsample=8_kw={'mode': 'avg-angle'}.pth\",\n",
       " \"./outputs/canon_views/89920c640d06ccc3ddd203e5ba68937b_subsample=8_kw={'mode': 'avg-angle'}.pth\",\n",
       " \"./outputs/canon_views/adadbe7e707e0a6841fe240eb58d26c4_subsample=8_kw={'mode': 'avg-angle'}.pth\",\n",
       " \"./outputs/canon_views/561441a27f0d88ad2ef11bfa116b5366_subsample=8_kw={'mode': 'avg-angle'}.pth\",\n",
       " \"./outputs/canon_views/a8b959ebbefe1c53aebcc2a52ad51a92_subsample=8_kw={'mode': 'avg-angle'}.pth\",\n",
       " \"./outputs/canon_views/85428a417b8b6b1a40d27602c44fa9e4_subsample=8_kw={'mode': 'avg-angle'}.pth\",\n",
       " \"./outputs/canon_views/c3c4a3373f135ab5499021f62052cb8d_subsample=8_kw={'mode': 'avg-angle'}.pth\",\n",
       " \"./outputs/canon_views/9f7deaff6569ae473bf8c1724c3b30e0_subsample=8_kw={'mode': 'avg-angle'}.pth\",\n",
       " \"./outputs/canon_views/b3265d259bf3456aadd616252a1ae8f0_subsample=8_kw={'mode': 'avg-angle'}.pth\",\n",
       " \"./outputs/canon_views/e517f03d65f2778f742e2a8a693b1972_subsample=8_kw={'mode': 'avg-angle'}.pth\",\n",
       " \"./outputs/canon_views/a0f07522a784d839c375e90529384836_subsample=8_kw={'mode': 'avg-angle'}.pth\",\n",
       " \"./outputs/canon_views/915d82a5aa6890a726f7aba4daabf9d9_subsample=8_kw={'mode': 'avg-angle'}.pth\",\n",
       " \"./outputs/canon_views/04876839f95280c6600523e569eec68f_subsample=8_kw={'mode': 'avg-angle'}.pth\",\n",
       " \"./outputs/canon_views/368800b83a7ab4db2d61b77f279144d5_subsample=8_kw={'mode': 'avg-angle'}.pth\",\n",
       " \"./outputs/canon_views/f25e59060945d0943e2feb36d51bf158_subsample=8_kw={'mode': 'avg-angle'}.pth\",\n",
       " \"./outputs/canon_views/7e14e053a572b30e5b6500a54dbe06a4_subsample=8_kw={'mode': 'avg-angle'}.pth\",\n",
       " \"./outputs/canon_views/6f9eacdcf41729bc253526ec4f42ddfe_subsample=8_kw={'mode': 'avg-angle'}.pth\",\n",
       " \"./outputs/canon_views/e75817ce351463325d8af9f635a18bd6_subsample=8_kw={'mode': 'avg-angle'}.pth\",\n",
       " \"./outputs/canon_views/937692f34849b53a87e19f9507275f08_subsample=8_kw={'mode': 'avg-angle'}.pth\",\n",
       " \"./outputs/canon_views/87208a858f91c39abb1b20327e0fdb7a_subsample=8_kw={'mode': 'avg-angle'}.pth\",\n",
       " \"./outputs/canon_views/775597aecbf5bd9b856d301808c208a5_subsample=8_kw={'mode': 'avg-angle'}.pth\",\n",
       " \"./outputs/canon_views/12b7e07c2610b8aec679d27c3a3ed384_subsample=8_kw={'mode': 'avg-angle'}.pth\",\n",
       " \"./outputs/canon_views/47b1808d8b56f1e4d1b269e9b51c3363_subsample=8_kw={'mode': 'avg-angle'}.pth\",\n",
       " \"./outputs/canon_views/58d8054563e868d75e8480453af79891_subsample=8_kw={'mode': 'avg-angle'}.pth\",\n",
       " \"./outputs/canon_views/efe046677229ce9f1cd2acd3079443ce_subsample=8_kw={'mode': 'avg-angle'}.pth\",\n",
       " \"./outputs/canon_views/f720396012d782f1746383a728f74409_subsample=8_kw={'mode': 'avg-angle'}.pth\",\n",
       " \"./outputs/canon_views/e0794adc4ab21aca80ad441bc173fa4c_subsample=8_kw={'mode': 'avg-angle'}.pth\",\n",
       " \"./outputs/canon_views/9ba10d9973457f326a93ef164aae840d_subsample=8_kw={'mode': 'avg-angle'}.pth\",\n",
       " \"./outputs/canon_views/5b4e01e58b025fe1caa31143c7c80d42_subsample=8_kw={'mode': 'avg-angle'}.pth\",\n",
       " \"./outputs/canon_views/2312faf1da8ce461e5c2e4628f983b79_subsample=8_kw={'mode': 'avg-angle'}.pth\",\n",
       " \"./outputs/canon_views/fbf642554c222532d3ef90c65a4fbd5a_subsample=8_kw={'mode': 'avg-angle'}.pth\",\n",
       " \"./outputs/canon_views/5ca290e0bfbfbb51ff475d11a1a95215_subsample=8_kw={'mode': 'avg-angle'}.pth\",\n",
       " \"./outputs/canon_views/b775e51a9ed316da2dbc8507578f88e1_subsample=8_kw={'mode': 'avg-angle'}.pth\",\n",
       " \"./outputs/canon_views/de15f62da09caec3646ef1a2f1d058d2_subsample=8_kw={'mode': 'avg-angle'}.pth\",\n",
       " \"./outputs/canon_views/dc41102394d46d073247137cb704bfb6_subsample=8_kw={'mode': 'avg-angle'}.pth\",\n",
       " \"./outputs/canon_views/0afd5184d3ac090675c75702529a161a_subsample=8_kw={'mode': 'avg-angle'}.pth\",\n",
       " \"./outputs/canon_views/0f70e91f5269065285cbf2abd146b44d_subsample=8_kw={'mode': 'avg-angle'}.pth\",\n",
       " \"./outputs/canon_views/1d3bd37ea11b1ea5e601db4c848d2c06_subsample=8_kw={'mode': 'avg-angle'}.pth\",\n",
       " \"./outputs/canon_views/898115d0619e332aecd61dc4858c2973_subsample=8_kw={'mode': 'avg-angle'}.pth\",\n",
       " \"./outputs/canon_views/02fe85d6511b246779f3a24892f91333_subsample=8_kw={'mode': 'avg-angle'}.pth\",\n",
       " \"./outputs/canon_views/b6877f570950b9c6d197392eba32aa32_subsample=8_kw={'mode': 'avg-angle'}.pth\",\n",
       " \"./outputs/canon_views/4ac0370a28e2641a4e2863016e81cf63_subsample=8_kw={'mode': 'avg-angle'}.pth\",\n",
       " \"./outputs/canon_views/9deaae4e048500d064356232d3abef3e_subsample=8_kw={'mode': 'avg-angle'}.pth\",\n",
       " \"./outputs/canon_views/31539ac2926f398e48e2655ec6e1226d_subsample=8_kw={'mode': 'avg-angle'}.pth\",\n",
       " \"./outputs/canon_views/ce9af991218b6ea3574ed4e9c42b4485_subsample=8_kw={'mode': 'avg-angle'}.pth\",\n",
       " \"./outputs/canon_views/d2b804c27f28ef46f661f3f95e0d20d7_subsample=8_kw={'mode': 'avg-angle'}.pth\",\n",
       " \"./outputs/canon_views/7544bc0b1ea4d5b5c1982b97e297e75d_subsample=8_kw={'mode': 'avg-angle'}.pth\",\n",
       " \"./outputs/canon_views/bf851919139e0fdc974ee809c8cac1fd_subsample=8_kw={'mode': 'avg-angle'}.pth\",\n",
       " \"./outputs/canon_views/0dbf810435224982e73d17a763df4764_subsample=8_kw={'mode': 'avg-angle'}.pth\",\n",
       " \"./outputs/canon_views/1a2b0cdff1141ffb803b1600b9fef954_subsample=8_kw={'mode': 'avg-angle'}.pth\",\n",
       " \"./outputs/canon_views/a13e0a1043db82c53d1be3bc41859f90_subsample=8_kw={'mode': 'avg-angle'}.pth\",\n",
       " \"./outputs/canon_views/c30c7f8a184efe94ee1b0ba43940d357_subsample=8_kw={'mode': 'avg-angle'}.pth\",\n",
       " \"./outputs/canon_views/8907856fff314fc5e10f1845a7c6457c_subsample=8_kw={'mode': 'avg-angle'}.pth\",\n",
       " \"./outputs/canon_views/0072f0847cdbbb6737bf01b9f4be9867_subsample=8_kw={'mode': 'avg-angle'}.pth\",\n",
       " \"./outputs/canon_views/b497dfc965897ef60968d17bd64c2f9a_subsample=8_kw={'mode': 'avg-angle'}.pth\",\n",
       " \"./outputs/canon_views/76b297fa1b2fd96021c0bd6e22f357ac_subsample=8_kw={'mode': 'avg-angle'}.pth\",\n",
       " \"./outputs/canon_views/ed55b0582addfc9c791986f1fd710a9b_subsample=8_kw={'mode': 'avg-angle'}.pth\",\n",
       " \"./outputs/canon_views/1b501d7a2317132a044f27163ca46b2d_subsample=8_kw={'mode': 'avg-angle'}.pth\",\n",
       " \"./outputs/canon_views/88288eac654db36594b6cb948d9f94f4_subsample=8_kw={'mode': 'avg-angle'}.pth\",\n",
       " \"./outputs/canon_views/188da76cf9dafac1bc9a6cdf720f8985_subsample=8_kw={'mode': 'avg-angle'}.pth\",\n",
       " \"./outputs/canon_views/1caf63bf1fc294d5bdbedb325570b2ac_subsample=8_kw={'mode': 'avg-angle'}.pth\",\n",
       " \"./outputs/canon_views/f571bfaeb1ac65d0fab9075c2d2dc08e_subsample=8_kw={'mode': 'avg-angle'}.pth\",\n",
       " \"./outputs/canon_views/92fac684cebb29629c8ef1898f75cd79_subsample=8_kw={'mode': 'avg-angle'}.pth\",\n",
       " \"./outputs/canon_views/c723d95f98af79af62d4945743d6c9f2_subsample=8_kw={'mode': 'avg-angle'}.pth\",\n",
       " \"./outputs/canon_views/e0968373ab7fd3e7fb42490968f81639_subsample=8_kw={'mode': 'avg-angle'}.pth\",\n",
       " \"./outputs/canon_views/befe2ed7a57db07119050d2911b5d70a_subsample=8_kw={'mode': 'avg-angle'}.pth\",\n",
       " \"./outputs/canon_views/ff8ea43b03e06b2591139310b1587805_subsample=8_kw={'mode': 'avg-angle'}.pth\",\n",
       " \"./outputs/canon_views/f5bcc1d78872a6163914e13e0b28b364_subsample=8_kw={'mode': 'avg-angle'}.pth\",\n",
       " \"./outputs/canon_views/e28ebd2e999c0cabc91568f66a27bbe5_subsample=8_kw={'mode': 'avg-angle'}.pth\",\n",
       " \"./outputs/canon_views/583867effd79d2bdd54091bccb1f2af8_subsample=8_kw={'mode': 'avg-angle'}.pth\",\n",
       " \"./outputs/canon_views/96dfad43c7b906a2fa7444d3fa47af1d_subsample=8_kw={'mode': 'avg-angle'}.pth\"]"
      ]
     },
     "execution_count": 20,
     "metadata": {},
     "output_type": "execute_result"
    }
   ],
   "source": [
    "scene.canonical_paths"
   ]
  },
  {
   "cell_type": "code",
   "execution_count": 21,
   "metadata": {},
   "outputs": [],
   "source": [
    "def _convert_scene_output_to_glb(outfile, imgs, pts3d, mask, focals, cams2world, cam_size=0.05,\n",
    "                                 cam_color=None, as_pointcloud=False,\n",
    "                                 transparent_cams=False, silent=False):\n",
    "    assert len(pts3d) == len(mask) <= len(imgs) <= len(cams2world) == len(focals)\n",
    "    pts3d = to_numpy(pts3d)\n",
    "    imgs = to_numpy(imgs)\n",
    "    focals = to_numpy(focals)\n",
    "    cams2world = to_numpy(cams2world)\n",
    "\n",
    "    scene = trimesh.Scene()\n",
    "\n",
    "    # full pointcloud\n",
    "    if as_pointcloud:\n",
    "        pts = np.concatenate([p[m.ravel()] for p, m in zip(pts3d, mask)]).reshape(-1, 3)\n",
    "        col = np.concatenate([p[m] for p, m in zip(imgs, mask)]).reshape(-1, 3)\n",
    "        valid_msk = np.isfinite(pts.sum(axis=1))\n",
    "        pct = trimesh.PointCloud(pts[valid_msk], colors=col[valid_msk])\n",
    "        scene.add_geometry(pct)\n",
    "    else:\n",
    "        meshes = []\n",
    "        for i in range(len(imgs)):\n",
    "            pts3d_i = pts3d[i].reshape(imgs[i].shape)\n",
    "            msk_i = mask[i] & np.isfinite(pts3d_i.sum(axis=-1))\n",
    "            meshes.append(pts3d_to_trimesh(imgs[i], pts3d_i, msk_i))\n",
    "        mesh = trimesh.Trimesh(**cat_meshes(meshes))\n",
    "        scene.add_geometry(mesh)\n",
    "\n",
    "    # add each camera\n",
    "    for i, pose_c2w in enumerate(cams2world):\n",
    "        if isinstance(cam_color, list):\n",
    "            camera_edge_color = cam_color[i]\n",
    "        else:\n",
    "            camera_edge_color = cam_color or CAM_COLORS[i % len(CAM_COLORS)]\n",
    "        add_scene_cam(scene, pose_c2w, camera_edge_color,\n",
    "                      None if transparent_cams else imgs[i], focals[i],\n",
    "                      imsize=imgs[i].shape[1::-1], screen_width=cam_size)\n",
    "\n",
    "    rot = np.eye(4)\n",
    "    rot[:3, :3] = Rotation.from_euler('y', np.deg2rad(180)).as_matrix()\n",
    "    scene.apply_transform(np.linalg.inv(cams2world[0] @ OPENGL @ rot))\n",
    "    if not silent:\n",
    "        print('(exporting 3D scene to', outfile, ')')\n",
    "    scene.export(file_obj=outfile)\n",
    "    return outfile\n",
    "\n",
    "\n",
    "def get_3D_model_from_scene(silent, scene_state, min_conf_thr=2, as_pointcloud=False, mask_sky=False,\n",
    "                            clean_depth=False, transparent_cams=False, cam_size=0.05, TSDF_thresh=0):\n",
    "    \"\"\"\n",
    "    extract 3D_model (glb file) from a reconstructed scene\n",
    "    \"\"\"\n",
    "    if scene_state is None:\n",
    "        return None\n",
    "    outfile = scene_state.outfile_name\n",
    "    if outfile is None:\n",
    "        return None\n",
    "\n",
    "    # get optimized values from scene\n",
    "    scene = scene_state.sparse_ga\n",
    "    rgbimg = scene.imgs\n",
    "    focals = scene.get_focals().cpu()\n",
    "    cams2world = scene.get_im_poses().cpu()\n",
    "\n",
    "    # 3D pointcloud from depthmap, poses and intrinsics\n",
    "    if TSDF_thresh > 0:\n",
    "        tsdf = TSDFPostProcess(scene, TSDF_thresh=TSDF_thresh)\n",
    "        pts3d, _, confs = to_numpy(tsdf.get_dense_pts3d(clean_depth=clean_depth))\n",
    "    else:\n",
    "        pts3d, _, confs = to_numpy(scene.get_dense_pts3d(clean_depth=clean_depth))\n",
    "    msk = to_numpy([c > min_conf_thr for c in confs])\n",
    "    return _convert_scene_output_to_glb(outfile, rgbimg, pts3d, msk, focals, cams2world, as_pointcloud=as_pointcloud,\n",
    "                                        transparent_cams=transparent_cams, cam_size=cam_size, silent=silent)\n"
   ]
  },
  {
   "cell_type": "code",
   "execution_count": 22,
   "metadata": {},
   "outputs": [
    {
     "name": "stderr",
     "output_type": "stream",
     "text": [
      "/home/toskov/perspective-analysis-of-generated-images/mast3r/mast3r/cloud_opt/sparse_ga.py:78: FutureWarning: You are using `torch.load` with `weights_only=False` (the current default value), which uses the default pickle module implicitly. It is possible to construct malicious pickle data which will execute arbitrary code during unpickling (See https://github.com/pytorch/pytorch/blob/main/SECURITY.md#untrusted-models for more details). In a future release, the default value for `weights_only` will be flipped to `True`. This limits the functions that could be executed during unpickling. Arbitrary objects will no longer be allowed to be loaded via this mode unless they are explicitly allowlisted by the user via `torch.serialization.add_safe_globals`. We recommend you start setting `weights_only=True` for any use case where you don't have full control of the loaded file. Please open an issue on GitHub for any issues related to this experimental feature.\n",
      "  (canon, canon2, conf), focal = torch.load(canon_path, map_location=device)\n"
     ]
    },
    {
     "name": "stdout",
     "output_type": "stream",
     "text": [
      "(exporting 3D scene to ./outputs/scene.glb )\n"
     ]
    }
   ],
   "source": [
    "scene_state = SparseGAState(scene, False, outdir, os.path.join(outdir, \"scene.glb\"))\n",
    "outfile = get_3D_model_from_scene(False, scene_state)"
   ]
  },
  {
   "cell_type": "code",
   "execution_count": 23,
   "metadata": {},
   "outputs": [],
   "source": [
    "import trimesh\n",
    "\n",
    "mesh = trimesh.load(outfile)"
   ]
  },
  {
   "cell_type": "code",
   "execution_count": 24,
   "metadata": {},
   "outputs": [],
   "source": [
    "# mesh.show()"
   ]
  },
  {
   "cell_type": "code",
   "execution_count": 25,
   "metadata": {},
   "outputs": [],
   "source": [
    "# x = torch.load(\"/home/toskov/perspective-analysis-of-generated-images/feature_extraction/outputs/canon_views/0ef249d30e27a6625eac766c18948608_subsample=8_kw={'mode': 'avg-angle'}.pth\")\n"
   ]
  },
  {
   "cell_type": "code",
   "execution_count": 26,
   "metadata": {},
   "outputs": [],
   "source": [
    "# print(x[0][2].shape)"
   ]
  },
  {
   "cell_type": "code",
   "execution_count": 27,
   "metadata": {},
   "outputs": [
    {
     "data": {
      "text/plain": [
       "tensor([[  0.8366,  -0.4510,   0.3106,  -1.7062],\n",
       "        [ -0.3800,  -0.0699,   0.9228, -10.0958],\n",
       "        [ -0.3934,  -0.8908,  -0.2296,  -0.3703],\n",
       "        [  0.0000,   0.0000,   0.0000,   1.0000]])"
      ]
     },
     "execution_count": 27,
     "metadata": {},
     "output_type": "execute_result"
    }
   ],
   "source": [
    "scene_state.sparse_ga.get_im_poses().cpu()[0]"
   ]
  },
  {
   "cell_type": "code",
   "execution_count": 28,
   "metadata": {},
   "outputs": [
    {
     "data": {
      "text/plain": [
       "torch.Size([19665, 3])"
      ]
     },
     "execution_count": 28,
     "metadata": {},
     "output_type": "execute_result"
    }
   ],
   "source": [
    "scene_state.sparse_ga.get_sparse_pts3d()[0].shape"
   ]
  },
  {
   "cell_type": "code",
   "execution_count": 29,
   "metadata": {},
   "outputs": [
    {
     "data": {
      "text/plain": [
       "50176"
      ]
     },
     "execution_count": 29,
     "metadata": {},
     "output_type": "execute_result"
    }
   ],
   "source": [
    "224**2"
   ]
  },
  {
   "cell_type": "code",
   "execution_count": 30,
   "metadata": {},
   "outputs": [
    {
     "data": {
      "text/plain": [
       "['0001.jpg: 71d5039cf1209140b9105a4696b0b155',\n",
       " '0003.jpg: 0c2bd9aed8eeb3436b7cf20de8ee9c0c',\n",
       " '0005.jpg: ebe357d4f8d0ba962ca883e047ecda90',\n",
       " '0007.jpg: 2d0c100cbbebbe710f9b2b4ee9130762',\n",
       " '0009.jpg: 81d31df8a58d41e2ae29679eaaba6f6f',\n",
       " '0011.jpg: bd220e96119f11ccc92096940b1946ae',\n",
       " '0013.jpg: 4eb5772ab5ef3b695c2db5e5fff70f53',\n",
       " '0015.jpg: 38697a7fdd0ed4143df80dc5c49bfd67',\n",
       " '0017.jpg: 92f70b4c6bcf0d19a93d7a82048bb8e6',\n",
       " '0019.jpg: a2c92c7f7d25471fe1dff2f31725fdbe',\n",
       " '0021.jpg: 89920c640d06ccc3ddd203e5ba68937b',\n",
       " '0023.jpg: adadbe7e707e0a6841fe240eb58d26c4',\n",
       " '0025.jpg: 561441a27f0d88ad2ef11bfa116b5366',\n",
       " '0027.jpg: a8b959ebbefe1c53aebcc2a52ad51a92',\n",
       " '0029.jpg: 85428a417b8b6b1a40d27602c44fa9e4',\n",
       " '0031.jpg: c3c4a3373f135ab5499021f62052cb8d',\n",
       " '0033.jpg: 9f7deaff6569ae473bf8c1724c3b30e0',\n",
       " '0035.jpg: b3265d259bf3456aadd616252a1ae8f0',\n",
       " '0037.jpg: e517f03d65f2778f742e2a8a693b1972',\n",
       " '0039.jpg: a0f07522a784d839c375e90529384836',\n",
       " '0041.jpg: 915d82a5aa6890a726f7aba4daabf9d9',\n",
       " '0043.jpg: 04876839f95280c6600523e569eec68f',\n",
       " '0045.jpg: 368800b83a7ab4db2d61b77f279144d5',\n",
       " '0047.jpg: f25e59060945d0943e2feb36d51bf158',\n",
       " '0049.jpg: 7e14e053a572b30e5b6500a54dbe06a4',\n",
       " '0051.jpg: 6f9eacdcf41729bc253526ec4f42ddfe',\n",
       " '0053.jpg: e75817ce351463325d8af9f635a18bd6',\n",
       " '0055.jpg: 937692f34849b53a87e19f9507275f08',\n",
       " '0057.jpg: 87208a858f91c39abb1b20327e0fdb7a',\n",
       " '0059.jpg: 775597aecbf5bd9b856d301808c208a5',\n",
       " '0061.jpg: 12b7e07c2610b8aec679d27c3a3ed384',\n",
       " '0063.jpg: 47b1808d8b56f1e4d1b269e9b51c3363',\n",
       " '0065.jpg: 58d8054563e868d75e8480453af79891',\n",
       " '0067.jpg: efe046677229ce9f1cd2acd3079443ce',\n",
       " '0069.jpg: f720396012d782f1746383a728f74409',\n",
       " '0071.jpg: e0794adc4ab21aca80ad441bc173fa4c',\n",
       " '0073.jpg: 9ba10d9973457f326a93ef164aae840d',\n",
       " '0075.jpg: 5b4e01e58b025fe1caa31143c7c80d42',\n",
       " '0077.jpg: 2312faf1da8ce461e5c2e4628f983b79',\n",
       " '0079.jpg: fbf642554c222532d3ef90c65a4fbd5a',\n",
       " '0081.jpg: 5ca290e0bfbfbb51ff475d11a1a95215',\n",
       " '0083.jpg: b775e51a9ed316da2dbc8507578f88e1',\n",
       " '0085.jpg: de15f62da09caec3646ef1a2f1d058d2',\n",
       " '0087.jpg: dc41102394d46d073247137cb704bfb6',\n",
       " '0089.jpg: 0afd5184d3ac090675c75702529a161a',\n",
       " '0091.jpg: 0f70e91f5269065285cbf2abd146b44d',\n",
       " '0093.jpg: 1d3bd37ea11b1ea5e601db4c848d2c06',\n",
       " '0095.jpg: 898115d0619e332aecd61dc4858c2973',\n",
       " '0097.jpg: 02fe85d6511b246779f3a24892f91333',\n",
       " '0099.jpg: b6877f570950b9c6d197392eba32aa32',\n",
       " '0101.jpg: 4ac0370a28e2641a4e2863016e81cf63',\n",
       " '0103.jpg: 9deaae4e048500d064356232d3abef3e',\n",
       " '0105.jpg: 31539ac2926f398e48e2655ec6e1226d',\n",
       " '0107.jpg: ce9af991218b6ea3574ed4e9c42b4485',\n",
       " '0109.jpg: d2b804c27f28ef46f661f3f95e0d20d7',\n",
       " '0111.jpg: 7544bc0b1ea4d5b5c1982b97e297e75d',\n",
       " '0113.jpg: bf851919139e0fdc974ee809c8cac1fd',\n",
       " '0115.jpg: 0dbf810435224982e73d17a763df4764',\n",
       " '0117.jpg: 1a2b0cdff1141ffb803b1600b9fef954',\n",
       " '0119.jpg: a13e0a1043db82c53d1be3bc41859f90',\n",
       " '0121.jpg: c30c7f8a184efe94ee1b0ba43940d357',\n",
       " '0123.jpg: 8907856fff314fc5e10f1845a7c6457c',\n",
       " '0125.jpg: 0072f0847cdbbb6737bf01b9f4be9867',\n",
       " '0127.jpg: b497dfc965897ef60968d17bd64c2f9a',\n",
       " '0129.jpg: 76b297fa1b2fd96021c0bd6e22f357ac',\n",
       " '0131.jpg: ed55b0582addfc9c791986f1fd710a9b',\n",
       " '0133.jpg: 1b501d7a2317132a044f27163ca46b2d',\n",
       " '0135.jpg: 88288eac654db36594b6cb948d9f94f4',\n",
       " '0137.jpg: 188da76cf9dafac1bc9a6cdf720f8985',\n",
       " '0139.jpg: 1caf63bf1fc294d5bdbedb325570b2ac',\n",
       " '0141.jpg: f571bfaeb1ac65d0fab9075c2d2dc08e',\n",
       " '0143.jpg: 92fac684cebb29629c8ef1898f75cd79',\n",
       " '0145.jpg: c723d95f98af79af62d4945743d6c9f2',\n",
       " '0147.jpg: e0968373ab7fd3e7fb42490968f81639',\n",
       " '0149.jpg: befe2ed7a57db07119050d2911b5d70a',\n",
       " '0151.jpg: ff8ea43b03e06b2591139310b1587805',\n",
       " '0153.jpg: f5bcc1d78872a6163914e13e0b28b364',\n",
       " '0155.jpg: e28ebd2e999c0cabc91568f66a27bbe5',\n",
       " '0157.jpg: 583867effd79d2bdd54091bccb1f2af8',\n",
       " '0159.jpg: 96dfad43c7b906a2fa7444d3fa47af1d']"
      ]
     },
     "execution_count": 30,
     "metadata": {},
     "output_type": "execute_result"
    }
   ],
   "source": [
    "from mast3r.utils.misc import hash_md5\n",
    "\n",
    "files = os.listdir(\"/home/toskov/perspective-analysis-of-generated-images/feature_extraction/input_data\")\n",
    "files = sorted(files)\n",
    "files_hashed = [hash_md5(x) for x in files]\n",
    "\n",
    "pairs_list = [f\"{f}: {h}\" for f,h in zip(files, files_hashed)]\n",
    "\n",
    "pairs_list\n",
    "    "
   ]
  },
  {
   "cell_type": "code",
   "execution_count": 31,
   "metadata": {},
   "outputs": [],
   "source": [
    "idx1 = 55\n",
    "idx2 = 56"
   ]
  },
  {
   "cell_type": "code",
   "execution_count": 32,
   "metadata": {},
   "outputs": [],
   "source": [
    "first_img_hash = hash_md5(files[idx1])\n",
    "second_img_hash = hash_md5(files[idx2])"
   ]
  },
  {
   "cell_type": "code",
   "execution_count": 33,
   "metadata": {},
   "outputs": [
    {
     "name": "stdout",
     "output_type": "stream",
     "text": [
      "torch.Size([2289, 2])\n"
     ]
    },
    {
     "name": "stderr",
     "output_type": "stream",
     "text": [
      "/tmp/ipykernel_6257/1748695270.py:2: FutureWarning: You are using `torch.load` with `weights_only=False` (the current default value), which uses the default pickle module implicitly. It is possible to construct malicious pickle data which will execute arbitrary code during unpickling (See https://github.com/pytorch/pytorch/blob/main/SECURITY.md#untrusted-models for more details). In a future release, the default value for `weights_only` will be flipped to `True`. This limits the functions that could be executed during unpickling. Arbitrary objects will no longer be allowed to be loaded via this mode unless they are explicitly allowlisted by the user via `torch.serialization.add_safe_globals`. We recommend you start setting `weights_only=True` for any use case where you don't have full control of the loaded file. Please open an issue on GitHub for any issues related to this experimental feature.\n",
      "  score, (xy1, xy2, confs) = torch.load(f\"/home/toskov/perspective-analysis-of-generated-images/feature_extraction/outputs/{corres_conf_fwd}\")\n"
     ]
    },
    {
     "data": {
      "text/plain": [
       "tensor([[196,   9],\n",
       "        [197,   9],\n",
       "        [214,   9],\n",
       "        ...,\n",
       "        [187, 218],\n",
       "        [171, 219],\n",
       "        [130, 220]], device='cuda:0')"
      ]
     },
     "execution_count": 33,
     "metadata": {},
     "output_type": "execute_result"
    }
   ],
   "source": [
    "corres_conf_fwd = f\"corres_conf=desc_conf_subsample=8/{first_img_hash}-{second_img_hash}.pth\"\n",
    "score, (xy1, xy2, confs) = torch.load(f\"/home/toskov/perspective-analysis-of-generated-images/feature_extraction/outputs/{corres_conf_fwd}\")\n",
    "\n",
    "print(xy1.shape)\n",
    "xy1"
   ]
  },
  {
   "cell_type": "code",
   "execution_count": 34,
   "metadata": {},
   "outputs": [
    {
     "name": "stdout",
     "output_type": "stream",
     "text": [
      "torch.Size([2289, 2])\n"
     ]
    },
    {
     "name": "stderr",
     "output_type": "stream",
     "text": [
      "/tmp/ipykernel_6257/873892589.py:2: FutureWarning: You are using `torch.load` with `weights_only=False` (the current default value), which uses the default pickle module implicitly. It is possible to construct malicious pickle data which will execute arbitrary code during unpickling (See https://github.com/pytorch/pytorch/blob/main/SECURITY.md#untrusted-models for more details). In a future release, the default value for `weights_only` will be flipped to `True`. This limits the functions that could be executed during unpickling. Arbitrary objects will no longer be allowed to be loaded via this mode unless they are explicitly allowlisted by the user via `torch.serialization.add_safe_globals`. We recommend you start setting `weights_only=True` for any use case where you don't have full control of the loaded file. Please open an issue on GitHub for any issues related to this experimental feature.\n",
      "  score, (xy1, xy2, confs) = torch.load(f\"/home/toskov/perspective-analysis-of-generated-images/feature_extraction/outputs/{corres_conf_bwd}\")\n"
     ]
    },
    {
     "data": {
      "text/plain": [
       "tensor([[196,   9],\n",
       "        [197,   9],\n",
       "        [214,   9],\n",
       "        ...,\n",
       "        [187, 218],\n",
       "        [171, 219],\n",
       "        [130, 220]], device='cuda:0')"
      ]
     },
     "execution_count": 34,
     "metadata": {},
     "output_type": "execute_result"
    }
   ],
   "source": [
    "corres_conf_bwd = f\"corres_conf=desc_conf_subsample=8/{second_img_hash}-{first_img_hash}.pth\"\n",
    "score, (xy1, xy2, confs) = torch.load(f\"/home/toskov/perspective-analysis-of-generated-images/feature_extraction/outputs/{corres_conf_bwd}\")\n",
    "\n",
    "print(xy2.shape)\n",
    "xy2"
   ]
  },
  {
   "cell_type": "code",
   "execution_count": 35,
   "metadata": {},
   "outputs": [
    {
     "data": {
      "text/plain": [
       "tensor([4.3242, 4.3015, 3.6215,  ..., 3.8841, 7.9864, 3.0074], device='cuda:0')"
      ]
     },
     "execution_count": 35,
     "metadata": {},
     "output_type": "execute_result"
    }
   ],
   "source": [
    "confs"
   ]
  },
  {
   "cell_type": "code",
   "execution_count": 36,
   "metadata": {},
   "outputs": [],
   "source": [
    "# canon_view_root = \"/home/toskov/perspective-analysis-of-generated-images/feature_extraction/outputs/canon_views\"\n",
    "# canon_view_paths = os.listdir(canon_view_root)\n",
    "\n",
    "# canon_path_suffix = \"_subsample=8_kw={'mode': 'avg-angle'}.pth\"\n",
    "\n",
    "# first_canon_view = f\"{first_img_hash}{canon_path_suffix}\"\n",
    "# second_canon_view = f\"{second_img_hash}{canon_path_suffix}\"\n",
    "\n",
    "# first_canon_view_path = os.path.join(canon_view_root, first_canon_view)\n",
    "# second_canon_view_path = os.path.join(canon_view_root, second_canon_view)\n",
    "\n",
    "# first_img = torch.load(first_canon_view_path)\n",
    "# second_img = torch.load(second_canon_view_path)\n",
    "\n",
    "# first_img[0][0].min()\n"
   ]
  },
  {
   "cell_type": "code",
   "execution_count": 37,
   "metadata": {},
   "outputs": [
    {
     "data": {
      "image/jpeg": "[encoded data removed]",
      "image/png": "[encoded data removed]",
      "text/plain": [
       "<PIL.Image.Image image mode=RGB size=224x224>"
      ]
     },
     "execution_count": 37,
     "metadata": {},
     "output_type": "execute_result"
    }
   ],
   "source": [
    "from PIL import Image\n",
    "\n",
    "np_data = scene_state.sparse_ga.imgs[idx1]\n",
    "Image.fromarray((np_data*255).astype(np.uint8))"
   ]
  },
  {
   "cell_type": "code",
   "execution_count": 38,
   "metadata": {},
   "outputs": [
    {
     "data": {
      "image/jpeg": "[encoded data removed]",
      "image/png": "[encoded data removed]",
      "text/plain": [
       "<PIL.Image.Image image mode=RGB size=224x224>"
      ]
     },
     "execution_count": 38,
     "metadata": {},
     "output_type": "execute_result"
    }
   ],
   "source": [
    "np_data = scene_state.sparse_ga.imgs[idx2]\n",
    "Image.fromarray((np_data*255).astype(np.uint8))"
   ]
  },
  {
   "cell_type": "code",
   "execution_count": 39,
   "metadata": {},
   "outputs": [
    {
     "name": "stderr",
     "output_type": "stream",
     "text": [
      "/tmp/ipykernel_6257/1091869598.py:5: FutureWarning: You are using `torch.load` with `weights_only=False` (the current default value), which uses the default pickle module implicitly. It is possible to construct malicious pickle data which will execute arbitrary code during unpickling (See https://github.com/pytorch/pytorch/blob/main/SECURITY.md#untrusted-models for more details). In a future release, the default value for `weights_only` will be flipped to `True`. This limits the functions that could be executed during unpickling. Arbitrary objects will no longer be allowed to be loaded via this mode unless they are explicitly allowlisted by the user via `torch.serialization.add_safe_globals`. We recommend you start setting `weights_only=True` for any use case where you don't have full control of the loaded file. Please open an issue on GitHub for any issues related to this experimental feature.\n",
      "  score, (xy1, xy2, confs) = torch.load(f\"/home/toskov/perspective-analysis-of-generated-images/feature_extraction/outputs/{corres_conf_fwd}\")\n"
     ]
    }
   ],
   "source": [
    "H0, W0 = (224, 224)\n",
    "H1, W1 = (224, 224)\n",
    "\n",
    "corres_conf_fwd = f\"corres_conf=desc_conf_subsample=8/{first_img_hash}-{second_img_hash}.pth\"\n",
    "score, (xy1, xy2, confs) = torch.load(f\"/home/toskov/perspective-analysis-of-generated-images/feature_extraction/outputs/{corres_conf_fwd}\")\n",
    "\n",
    "\n",
    "valid_matches_im0 = (\n",
    "    (xy1[:, 0] >= 3)\n",
    "    & (xy1[:, 0] < int(W0) - 3)\n",
    "    & (xy1[:, 1] >= 3)\n",
    "    & (xy1[:, 1] < int(H0) - 3)\n",
    ")\n",
    "\n",
    "valid_matches_im1 = (\n",
    "    (xy2[:, 0] >= 3)\n",
    "    & (xy2[:, 0] < int(W1) - 3)\n",
    "    & (xy2[:, 1] >= 3)\n",
    "    & (xy2[:, 1] < int(H1) - 3)\n",
    ")\n",
    "\n",
    "valid_matches = valid_matches_im0 & valid_matches_im1\n",
    "matches_im0, matches_im1 = xy1[valid_matches], xy2[valid_matches]\n",
    "\n",
    "matches_im0 = matches_im0.cpu().numpy()\n",
    "matches_im1 = matches_im1.cpu().numpy()"
   ]
  },
  {
   "cell_type": "code",
   "execution_count": 40,
   "metadata": {},
   "outputs": [
    {
     "data": {
      "image/png": "[encoded data removed]",
      "text/plain": [
       "<Figure size 640x480 with 1 Axes>"
      ]
     },
     "metadata": {},
     "output_type": "display_data"
    }
   ],
   "source": [
    "# visualize a few matches\n",
    "import numpy as np\n",
    "import torch\n",
    "import torchvision.transforms.functional\n",
    "from matplotlib import pyplot as pl\n",
    "\n",
    "n_viz = 50\n",
    "num_matches = matches_im0.shape[0]\n",
    "match_idx_to_viz = np.round(np.linspace(0, num_matches - 1, n_viz)).astype(int)\n",
    "viz_matches_im0, viz_matches_im1 = (\n",
    "    matches_im0[match_idx_to_viz],\n",
    "    matches_im1[match_idx_to_viz],\n",
    ")\n",
    "\n",
    "\n",
    "viz_imgs = [scene_state.sparse_ga.imgs[idx1], scene_state.sparse_ga.imgs[idx2]]\n",
    "\n",
    "H0, W0, H1, W1 = *viz_imgs[0].shape[:2], *viz_imgs[1].shape[:2]\n",
    "img0 = np.pad(\n",
    "    viz_imgs[0],\n",
    "    ((0, max(H1 - H0, 0)), (0, 0), (0, 0)),\n",
    "    \"constant\",\n",
    "    constant_values=0,\n",
    ")\n",
    "img1 = np.pad(\n",
    "    viz_imgs[1],\n",
    "    ((0, max(H0 - H1, 0)), (0, 0), (0, 0)),\n",
    "    \"constant\",\n",
    "    constant_values=0,\n",
    ")\n",
    "img = np.concatenate((img0, img1), axis=1)\n",
    "pl.figure()\n",
    "pl.imshow(img)\n",
    "cmap = pl.get_cmap(\"jet\")\n",
    "for i in range(n_viz):\n",
    "    (x0, y0), (x1, y1) = viz_matches_im0[i].T, viz_matches_im1[i].T\n",
    "    pl.plot(\n",
    "        [x0, x1 + W0],\n",
    "        [y0, y1],\n",
    "        \"-+\",\n",
    "        color=cmap(i / (n_viz - 1)),\n",
    "        scalex=False,\n",
    "        scaley=False,\n",
    "    )\n",
    "pl.show()"
   ]
  },
  {
   "cell_type": "code",
   "execution_count": 41,
   "metadata": {},
   "outputs": [
    {
     "name": "stdout",
     "output_type": "stream",
     "text": [
      "torch.Size([41799, 3]) torch.Size([2289, 2])\n",
      "torch.Size([41416, 3]) torch.Size([2289, 2])\n"
     ]
    }
   ],
   "source": [
    "pts_1 = scene_state.sparse_ga.get_sparse_pts3d()[idx1]\n",
    "pts_2 = scene_state.sparse_ga.get_sparse_pts3d()[idx2]\n",
    "\n",
    "print(pts_1.shape, xy1.shape)\n",
    "print(pts_2.shape, xy2.shape)"
   ]
  },
  {
   "cell_type": "code",
   "execution_count": 42,
   "metadata": {},
   "outputs": [
    {
     "name": "stdout",
     "output_type": "stream",
     "text": [
      "torch.Size([50176])\n",
      "50176\n"
     ]
    }
   ],
   "source": [
    "print(scene_state.sparse_ga.get_dense_pts3d()[1][0].shape)\n",
    "print(224 ** 2)"
   ]
  },
  {
   "cell_type": "code",
   "execution_count": 43,
   "metadata": {},
   "outputs": [
    {
     "data": {
      "image/jpeg": "[encoded data removed]",
      "image/png": "[encoded data removed]",
      "text/plain": [
       "<PIL.Image.Image image mode=L size=224x224>"
      ]
     },
     "execution_count": 43,
     "metadata": {},
     "output_type": "execute_result"
    }
   ],
   "source": [
    "depth_1 = scene_state.sparse_ga.get_dense_pts3d()[1][idx1].reshape(224, 224)\n",
    "Image.fromarray((((depth_1 - depth_1.min()) / depth_1.max()) * 255).cpu().numpy().astype(np.uint8))"
   ]
  },
  {
   "cell_type": "code",
   "execution_count": 44,
   "metadata": {},
   "outputs": [
    {
     "data": {
      "image/jpeg": "[encoded data removed]",
      "image/png": "[encoded data removed]",
      "text/plain": [
       "<PIL.Image.Image image mode=L size=224x224>"
      ]
     },
     "execution_count": 44,
     "metadata": {},
     "output_type": "execute_result"
    }
   ],
   "source": [
    "depth_2 = scene_state.sparse_ga.get_dense_pts3d()[1][idx2].reshape(224, 224)\n",
    "Image.fromarray((((depth_2 - depth_2.min()) / depth_2.max()) * 255).cpu().numpy().astype(np.uint8))"
   ]
  },
  {
   "cell_type": "code",
   "execution_count": 45,
   "metadata": {},
   "outputs": [],
   "source": [
    "im_1_points = scene_state.sparse_ga.get_dense_pts3d()[0][idx1].reshape(224, 224, 3)\n",
    "im_2_points = scene_state.sparse_ga.get_dense_pts3d()[0][idx2].reshape(224, 224, 3)\n",
    "\n",
    "# Using the keypoints, get the corresponding points in each image\n",
    "# This seems to be the correct ordering (makes sense as matches will be row, col (y, x) and points will be (x,y)) \n",
    "im_1_keypoint_cloud = im_1_points[matches_im0[:,1],matches_im0[:,0]]\n",
    "im_2_keypoint_cloud = im_2_points[matches_im1[:,1],matches_im1[:,0]]"
   ]
  },
  {
   "cell_type": "code",
   "execution_count": 46,
   "metadata": {},
   "outputs": [
    {
     "name": "stdout",
     "output_type": "stream",
     "text": [
      "tensor([[-2.5574, -2.9221,  0.2423],\n",
      "        [-2.5243, -2.9380,  0.2135],\n",
      "        [-2.5243, -2.9380,  0.2135],\n",
      "        ...,\n",
      "        [-2.9450, -1.3809, -1.7379],\n",
      "        [-2.9067, -2.1815, -1.3472],\n",
      "        [-2.8141, -1.6848, -1.6731]], device='cuda:0')\n",
      "\n",
      "tensor([[-2.5580, -2.9109,  0.2437],\n",
      "        [-2.5100, -2.8908,  0.2235],\n",
      "        [-2.5049, -2.8893,  0.2211],\n",
      "        ...,\n",
      "        [-2.9395, -1.3724, -1.7335],\n",
      "        [-2.8663, -1.4726, -1.7328],\n",
      "        [-2.7826, -1.3878, -1.8412]], device='cuda:0')\n"
     ]
    }
   ],
   "source": [
    "print(im_1_keypoint_cloud)\n",
    "print()\n",
    "print(im_2_keypoint_cloud)"
   ]
  },
  {
   "cell_type": "code",
   "execution_count": 47,
   "metadata": {},
   "outputs": [
    {
     "data": {
      "text/plain": [
       "0.008997318334877491"
      ]
     },
     "execution_count": 47,
     "metadata": {},
     "output_type": "execute_result"
    }
   ],
   "source": [
    "torch.nn.functional.mse_loss(im_1_keypoint_cloud, im_2_keypoint_cloud).item()"
   ]
  },
  {
   "cell_type": "code",
   "execution_count": 48,
   "metadata": {},
   "outputs": [
    {
     "name": "stdout",
     "output_type": "stream",
     "text": [
      "Mean: 0.08461933583021164\n",
      "Std: 0.14085747301578522\n",
      "Max: 2.060807704925537\n",
      "Min: 0.0003899117873515934\n"
     ]
    }
   ],
   "source": [
    "# What is the average distance between the two point clouds?\n",
    "distances = torch.linalg.norm(im_1_keypoint_cloud - im_2_keypoint_cloud, dim=1, ord=2)\n",
    "print(f\"Mean: {distances.mean().item()}\")\n",
    "print(f\"Std: {distances.std().item()}\")\n",
    "print(f\"Max: {distances.max().item()}\")\n",
    "print(f\"Min: {distances.min().item()}\")"
   ]
  },
  {
   "cell_type": "code",
   "execution_count": 49,
   "metadata": {},
   "outputs": [],
   "source": [
    "# Show both point clouds\n",
    "\n",
    "cloud_1 = trimesh.points.PointCloud(im_1_keypoint_cloud.cpu().numpy(), colors=np.repeat(np.array([[0, 0, 255]], dtype=np.uint8),im_1_keypoint_cloud.shape[0], axis=0))\n",
    "cloud_2 = trimesh.points.PointCloud(im_2_keypoint_cloud.cpu().numpy(), colors=np.repeat(np.array([[255, 0, 0]], dtype=np.uint8),im_2_keypoint_cloud.shape[0], axis=0))\n"
   ]
  },
  {
   "cell_type": "code",
   "execution_count": 50,
   "metadata": {},
   "outputs": [
    {
     "name": "stdout",
     "output_type": "stream",
     "text": [
      "Jupyter environment detected. Enabling Open3D WebVisualizer.\n",
      "[Open3D INFO] WebRTC GUI backend enabled.\n",
      "[Open3D INFO] WebRTCWindowSystem: HTTP handshake server disabled.\n"
     ]
    },
    {
     "data": {
      "text/plain": [
       "PointCloud with 2132 points."
      ]
     },
     "execution_count": 50,
     "metadata": {},
     "output_type": "execute_result"
    }
   ],
   "source": [
    "import open3d as o3d\n",
    "import numpy as np\n",
    "\n",
    "pcd1 = o3d.geometry.PointCloud()\n",
    "pcd1.points = o3d.utility.Vector3dVector(cloud_1)\n",
    "pcd1.paint_uniform_color([0, 0, 1])  # Blue\n",
    "\n",
    "pcd2 = o3d.geometry.PointCloud()\n",
    "pcd2.points = o3d.utility.Vector3dVector(cloud_2)\n",
    "pcd2.paint_uniform_color([1, 0, 0])  # Red\n",
    "\n",
    "\n",
    "# o3d.visualization.draw_geometries([pcd1, pcd2])"
   ]
  },
  {
   "cell_type": "code",
   "execution_count": 51,
   "metadata": {},
   "outputs": [
    {
     "data": {
      "text/plain": [
       "(1, 3)"
      ]
     },
     "execution_count": 51,
     "metadata": {},
     "output_type": "execute_result"
    }
   ],
   "source": [
    "np.array([[0, 255, 255]], dtype=np.uint8).shape"
   ]
  },
  {
   "cell_type": "code",
   "execution_count": 52,
   "metadata": {},
   "outputs": [
    {
     "data": {
      "text/plain": [
       "2132"
      ]
     },
     "execution_count": 52,
     "metadata": {},
     "output_type": "execute_result"
    }
   ],
   "source": [
    "im_1_keypoint_cloud.shape[0]"
   ]
  },
  {
   "cell_type": "markdown",
   "metadata": {},
   "source": [
    "## Processing"
   ]
  },
  {
   "cell_type": "code",
   "execution_count": 53,
   "metadata": {},
   "outputs": [],
   "source": [
    "def align_images(video_path, model, scene_graph=\"swin-1-noncyclic\", device=\"cuda\", img_freq=1, max_n_frames=np.inf, outdir=\"./outputs\"):\n",
    "    imgs, filelist = load_video_as_frames(video_path, load_frequency=img_freq, max_n_frames=max_n_frames)\n",
    "    \n",
    "    pairs = make_pairs(imgs, scene_graph=scene_graph, prefilter=None, symmetrize=True, sim_mat=None)\n",
    "    \n",
    "    scene = sparse_global_alignment(filelist, pairs, outdir, model, device=device)\n",
    "    \n",
    "    return scene\n",
    "        "
   ]
  },
  {
   "cell_type": "code",
   "execution_count": 54,
   "metadata": {},
   "outputs": [],
   "source": [
    "def get_matches(sparse_ga, idx1, idx2, outdir=\"./outputs\"):\n",
    "    img1_fname, img2_fname = sparse_ga.img_paths[idx1], sparse_ga.img_paths[idx2]\n",
    "    img_1_hash, img_2_hash = hash_md5(img1_fname), hash_md5(img2_fname)\n",
    "    img_1_shape, img_2_shape = sparse_ga.imgs[idx1].shape[:2], sparse_ga.imgs[idx2].shape[:2]\n",
    "    \n",
    "    corres_conf_fwd = os.path.join(outdir, f\"corres_conf=desc_conf_subsample=8/{img_1_hash}-{img_2_hash}.pth\")\n",
    "    score, (xy1, xy2, confs) = torch.load(corres_conf_fwd)\n",
    "    \n",
    "    H0, W0 = img_1_shape\n",
    "    H1, W1 = img_2_shape\n",
    "    \n",
    "    valid_matches_im0 = (\n",
    "        (xy1[:, 0] >= 3)\n",
    "        & (xy1[:, 0] < int(W0) - 3)\n",
    "        & (xy1[:, 1] >= 3)\n",
    "        & (xy1[:, 1] < int(H0) - 3)\n",
    "    )\n",
    "\n",
    "    valid_matches_im1 = (\n",
    "        (xy2[:, 0] >= 3)\n",
    "        & (xy2[:, 0] < int(W1) - 3)\n",
    "        & (xy2[:, 1] >= 3)\n",
    "        & (xy2[:, 1] < int(H1) - 3)\n",
    "    )\n",
    "\n",
    "    valid_matches = valid_matches_im0 & valid_matches_im1\n",
    "    matches_im0, matches_im1 = xy1[valid_matches], xy2[valid_matches]\n",
    "    confs = confs[valid_matches]\n",
    "\n",
    "    matches_im0 = matches_im0.cpu().numpy()\n",
    "    matches_im1 = matches_im1.cpu().numpy()\n",
    "    confs = confs.cpu().numpy()\n",
    "    \n",
    "    return matches_im0, matches_im1, confs"
   ]
  },
  {
   "cell_type": "code",
   "execution_count": 55,
   "metadata": {},
   "outputs": [],
   "source": [
    "def get_matches_clouds(sparse_ga, idx1, idx2, dense_points=None, outdir=\"./outputs\"):\n",
    "    matches_im0, matches_im1, _ = get_matches(sparse_ga, idx1, idx2, outdir=outdir)\n",
    "    \n",
    "    if dense_points is None:\n",
    "        dense_points = sparse_ga.get_dense_pts3d()\n",
    "        \n",
    "    im_1_points = dense_points[0][idx1].reshape(224, 224, 3)\n",
    "    im_2_points = dense_points[0][idx2].reshape(224, 224, 3)\n",
    "\n",
    "    # Using the keypoints, get the corresponding points in each image\n",
    "    # This seems to be the correct ordering (makes sense as matches will be row, col (y, x) and points will be (x,y)) \n",
    "    im_1_keypoint_cloud = im_1_points[matches_im0[:,1],matches_im0[:,0]]\n",
    "    im_2_keypoint_cloud = im_2_points[matches_im1[:,1],matches_im1[:,0]]\n",
    "    \n",
    "    return im_1_keypoint_cloud, im_2_keypoint_cloud\n",
    "\n",
    "def get_match_cloud_metrics(im_1_keypoint_cloud, im_2_keypoint_cloud):\n",
    "    distances = torch.linalg.norm(im_1_keypoint_cloud - im_2_keypoint_cloud, dim=1, ord=2)\n",
    "    \n",
    "    mean = distances.mean().item()\n",
    "    std = distances.std().item()\n",
    "    max = distances.max().item()\n",
    "    min = distances.min().item()\n",
    "    median = distances.median().item()\n",
    "    \n",
    "    total_dist = distances.sum().item()\n",
    "    n_points = distances.shape[0]\n",
    "    \n",
    "    mse = torch.nn.functional.mse_loss(im_1_keypoint_cloud, im_2_keypoint_cloud).item()\n",
    "    \n",
    "    output = {\n",
    "        \"mean\": mean,\n",
    "        \"std\": std,\n",
    "        \"max\": max,\n",
    "        \"min\": min,\n",
    "        \"median\": median,\n",
    "        \"total_dist\": total_dist,\n",
    "        \"n_points\": n_points,\n",
    "        \"mse\": mse,\n",
    "    }\n",
    "    \n",
    "    return output"
   ]
  },
  {
   "cell_type": "code",
   "execution_count": null,
   "metadata": {},
   "outputs": [],
   "source": [
    "from tqdm.notebook import tqdm\n",
    "\n",
    "def windowed_align(sparse_ga, window_size=1, outdir=\"./outputs\"):\n",
    "    \n",
    "    n_frames = len(sparse_ga.img_paths)\n",
    "    assert window_size > 0\n",
    "    \n",
    "    dense_points = sparse_ga.get_dense_pts3d()\n",
    "    \n",
    "    # For this we will only consider forward matches. This could be done with reverse matches too,\n",
    "    # but I think they should be the same? So it would be a waste of time.\n",
    "    mean_distances = []\n",
    "    metrics_all = []\n",
    "    for i in tqdm(range(n_frames-1)):\n",
    "        frame_mean_distances = []\n",
    "        frame_metrics = []\n",
    "        for j in tqdm(range(i+1, min(i+window_size+1, n_frames)), position=1, leave=False):\n",
    "            im_1_keypoint_cloud, im_2_keypoint_cloud = get_matches_clouds(sparse_ga, i, j, dense_points=dense_points, outdir=outdir)\n",
    "            if im_1_keypoint_cloud.shape[0] == 0 or im_2_keypoint_cloud.shape[0] == 0:\n",
    "                frame_mean_distances.append(None)\n",
    "                continue\n",
    "            metrics = get_match_cloud_metrics(im_1_keypoint_cloud, im_2_keypoint_cloud)\n",
    "            \n",
    "            frame_mean_distances.append(metrics[\"mean\"])\n",
    "            frame_metrics.append(metrics)\n",
    "        \n",
    "        mean_distances.append(frame_mean_distances)\n",
    "        metrics_all.append(frame_metrics)\n",
    "    \n",
    "    return mean_distances, metrics_all\n",
    "    \n",
    "    "
   ]
  },
  {
   "cell_type": "code",
   "execution_count": 57,
   "metadata": {},
   "outputs": [],
   "source": [
    "vid_real = \"/scratch/toskov/data/scannetpp_working/0a76e06478/iphone/rgb.mp4\"\n",
    "vid_gen = \"/home/toskov/gen_test_vid.mp4\"\n",
    "\n",
    "window_size = 10\n",
    "\n",
    "scene_graph = f\"swin-{window_size}-noncyclic\"\n",
    "device = \"cuda\"\n",
    "\n",
    "outdir_real = \"./outputs_real\"\n",
    "outdir_gen = \"./outputs_gen\""
   ]
  },
  {
   "cell_type": "code",
   "execution_count": 58,
   "metadata": {},
   "outputs": [
    {
     "name": "stdout",
     "output_type": "stream",
     "text": [
      "Processing real\n"
     ]
    },
    {
     "name": "stderr",
     "output_type": "stream",
     "text": [
      "  0%|          | 0/1490 [00:00<?, ?it/s]/home/toskov/perspective-analysis-of-generated-images/mast3r/mast3r/cloud_opt/sparse_ga.py:620: FutureWarning: `torch.cuda.amp.autocast(args...)` is deprecated. Please use `torch.amp.autocast('cuda', args...)` instead.\n",
      "  with torch.cuda.amp.autocast(enabled=False):\n",
      " 50%|█████     | 745/1490 [01:58<02:04,  5.97it/s]/home/toskov/perspective-analysis-of-generated-images/mast3r/mast3r/cloud_opt/sparse_ga.py:577: FutureWarning: You are using `torch.load` with `weights_only=False` (the current default value), which uses the default pickle module implicitly. It is possible to construct malicious pickle data which will execute arbitrary code during unpickling (See https://github.com/pytorch/pytorch/blob/main/SECURITY.md#untrusted-models for more details). In a future release, the default value for `weights_only` will be flipped to `True`. This limits the functions that could be executed during unpickling. Arbitrary objects will no longer be allowed to be loaded via this mode unless they are explicitly allowlisted by the user via `torch.serialization.add_safe_globals`. We recommend you start setting `weights_only=True` for any use case where you don't have full control of the loaded file. Please open an issue on GitHub for any issues related to this experimental feature.\n",
      "  score, (xy1, xy2, confs) = torch.load(path_corres2)\n",
      "100%|██████████| 1490/1490 [01:59<00:00, 12.47it/s] \n",
      "  0%|          | 0/80 [00:00<?, ?it/s]/home/toskov/perspective-analysis-of-generated-images/mast3r/mast3r/cloud_opt/sparse_ga.py:684: FutureWarning: You are using `torch.load` with `weights_only=False` (the current default value), which uses the default pickle module implicitly. It is possible to construct malicious pickle data which will execute arbitrary code during unpickling (See https://github.com/pytorch/pytorch/blob/main/SECURITY.md#untrusted-models for more details). In a future release, the default value for `weights_only` will be flipped to `True`. This limits the functions that could be executed during unpickling. Arbitrary objects will no longer be allowed to be loaded via this mode unless they are explicitly allowlisted by the user via `torch.serialization.add_safe_globals`. We recommend you start setting `weights_only=True` for any use case where you don't have full control of the loaded file. Please open an issue on GitHub for any issues related to this experimental feature.\n",
      "  (canon, canon2, cconf), focal = torch.load(cache, map_location=device)\n",
      "/home/toskov/perspective-analysis-of-generated-images/mast3r/mast3r/cloud_opt/sparse_ga.py:698: FutureWarning: You are using `torch.load` with `weights_only=False` (the current default value), which uses the default pickle module implicitly. It is possible to construct malicious pickle data which will execute arbitrary code during unpickling (See https://github.com/pytorch/pytorch/blob/main/SECURITY.md#untrusted-models for more details). In a future release, the default value for `weights_only` will be flipped to `True`. This limits the functions that could be executed during unpickling. Arbitrary objects will no longer be allowed to be loaded via this mode unless they are explicitly allowlisted by the user via `torch.serialization.add_safe_globals`. We recommend you start setting `weights_only=True` for any use case where you don't have full control of the loaded file. Please open an issue on GitHub for any issues related to this experimental feature.\n",
      "  X, C, X2, C2 = torch.load(path1, map_location=device)\n",
      "/home/toskov/perspective-analysis-of-generated-images/mast3r/mast3r/cloud_opt/sparse_ga.py:756: FutureWarning: You are using `torch.load` with `weights_only=False` (the current default value), which uses the default pickle module implicitly. It is possible to construct malicious pickle data which will execute arbitrary code during unpickling (See https://github.com/pytorch/pytorch/blob/main/SECURITY.md#untrusted-models for more details). In a future release, the default value for `weights_only` will be flipped to `True`. This limits the functions that could be executed during unpickling. Arbitrary objects will no longer be allowed to be loaded via this mode unless they are explicitly allowlisted by the user via `torch.serialization.add_safe_globals`. We recommend you start setting `weights_only=True` for any use case where you don't have full control of the loaded file. Please open an issue on GitHub for any issues related to this experimental feature.\n",
      "  score, (xy1, xy2, confs) = torch.load(path_corres, map_location=device)\n",
      "/home/toskov/perspective-analysis-of-generated-images/mast3r/mast3r/cloud_opt/sparse_ga.py:707: FutureWarning: You are using `torch.load` with `weights_only=False` (the current default value), which uses the default pickle module implicitly. It is possible to construct malicious pickle data which will execute arbitrary code during unpickling (See https://github.com/pytorch/pytorch/blob/main/SECURITY.md#untrusted-models for more details). In a future release, the default value for `weights_only` will be flipped to `True`. This limits the functions that could be executed during unpickling. Arbitrary objects will no longer be allowed to be loaded via this mode unless they are explicitly allowlisted by the user via `torch.serialization.add_safe_globals`. We recommend you start setting `weights_only=True` for any use case where you don't have full control of the loaded file. Please open an issue on GitHub for any issues related to this experimental feature.\n",
      "  X, C, X2, C2 = torch.load(path2, map_location=device)\n",
      "100%|██████████| 80/80 [00:06<00:00, 13.28it/s]\n"
     ]
    },
    {
     "name": "stdout",
     "output_type": "stream",
     "text": [
      "init focals = [228.15933 230.79982 233.37437 232.66591 237.41824 237.7002  238.4092\n",
      " 230.62546 230.11827 228.4611  229.78416 232.97887 231.16647 226.48051\n",
      " 228.30408 228.60135 226.94244 227.78027 235.17009 239.65967 243.76877\n",
      " 252.95636 249.47879 246.22685 246.12741 237.3663  251.41295 251.35432\n",
      " 243.37155 235.26318 236.86868 232.16908 226.88522 223.66547 221.3962\n",
      " 224.06941 227.78506 225.28925 225.27765 227.21986 225.53613 225.64607\n",
      " 226.48332 227.60309 227.51466 225.46378 219.44495 221.85782 222.21367\n",
      " 225.32256 225.03447 224.57236 234.34499 232.81706 226.7417  225.65619\n",
      " 226.86108 230.43098 237.34152 244.9851  245.50478 247.07225 248.22833\n",
      " 238.55032 239.68231 235.93555 245.4768  228.84622 216.09344 217.3168\n",
      " 215.8887  217.65054 217.30873 221.33656 220.53853 218.86809 226.99646\n",
      " 226.99861 229.18549 224.49376]\n"
     ]
    },
    {
     "name": "stderr",
     "output_type": "stream",
     "text": [
      "100%|██████████| 300/300 [01:21<00:00,  3.67it/s, lr=0.0000, loss=0.040]\n"
     ]
    },
    {
     "name": "stdout",
     "output_type": "stream",
     "text": [
      ">> final loss = 0.03988221660256386\n"
     ]
    },
    {
     "name": "stderr",
     "output_type": "stream",
     "text": [
      "100%|██████████| 300/300 [01:58<00:00,  2.52it/s, lr=0.0000, loss=0.378]\n"
     ]
    },
    {
     "name": "stdout",
     "output_type": "stream",
     "text": [
      ">> final loss = 0.3779490292072296\n",
      "Final focals = [219.91957 220.3199  222.03645 222.90527 223.76288 225.28839 225.5883\n",
      " 226.10728 226.9958  227.35751 227.24771 226.87666 226.19247 225.55206\n",
      " 224.17725 223.85881 224.70035 226.7179  229.13655 230.65393 232.68477\n",
      " 234.52808 235.61456 235.16179 232.77876 231.45424 230.78893 227.32043\n",
      " 223.28973 220.2241  218.33481 217.69185 218.15092 216.68768 217.72827\n",
      " 218.34564 219.2252  219.4259  219.13188 220.77916 221.2819  222.38908\n",
      " 222.90283 223.13072 222.95769 222.79869 223.21895 223.26385 224.93126\n",
      " 224.00766 220.68097 217.52013 221.3335  226.6162  225.68675 229.26616\n",
      " 229.40547 229.7112  231.11302 231.2893  233.73776 238.69267 238.41159\n",
      " 238.16696 235.00105 230.9045  230.37892 220.15366 214.15564 212.04039\n",
      " 212.25769 212.87851 213.9161  214.07294 217.87202 220.43918 227.14252\n",
      " 223.68372 223.40645 224.2089 ]\n",
      "Processing generated\n"
     ]
    },
    {
     "name": "stderr",
     "output_type": "stream",
     "text": [
      "100%|██████████| 1490/1490 [02:05<00:00, 11.87it/s] \n",
      "100%|██████████| 80/80 [00:05<00:00, 15.94it/s]\n"
     ]
    },
    {
     "name": "stdout",
     "output_type": "stream",
     "text": [
      "init focals = [237.8324  231.64427 229.80313 237.20529 228.2971  228.33174 227.28099\n",
      " 220.38672 237.8366  236.12723 232.5336  243.63757 239.70116 233.30804\n",
      " 249.88072 238.81744 250.68976 262.91086 255.82246 265.78186 242.4157\n",
      " 253.27536 248.42784 265.55472 260.3252  256.8923  257.89456 255.16544\n",
      " 239.91193 226.22073 235.06828 226.7964  224.38654 221.03787 223.66762\n",
      " 231.02544 231.04526 224.13159 234.43594 232.21791 235.78732 238.60095\n",
      " 232.87825 229.66927 238.19807 248.17827 240.52255 248.80412 254.41423\n",
      " 289.84473 274.69388 274.02118 283.39563 256.9913  245.54657 276.61295\n",
      " 244.94713 249.21458 291.59015 328.37402 329.4815  316.73053 337.18332\n",
      " 315.88214 383.35126 363.9082  362.81714 468.5686  440.21222 376.62238\n",
      " 342.692   395.65787 484.77982 457.72885 540.72565 511.9912  527.5038\n",
      " 456.10852 339.67203 365.0633 ]\n"
     ]
    },
    {
     "name": "stderr",
     "output_type": "stream",
     "text": [
      "100%|██████████| 300/300 [02:13<00:00,  2.26it/s, lr=0.0000, loss=0.237]\n"
     ]
    },
    {
     "name": "stdout",
     "output_type": "stream",
     "text": [
      ">> final loss = 0.23710377514362335\n"
     ]
    },
    {
     "name": "stderr",
     "output_type": "stream",
     "text": [
      "100%|██████████| 300/300 [03:05<00:00,  1.62it/s, lr=0.0000, loss=0.486]"
     ]
    },
    {
     "name": "stdout",
     "output_type": "stream",
     "text": [
      ">> final loss = 0.4861879348754883\n",
      "Final focals = [251.8987  248.81848 245.46077 245.5844  245.94453 244.06851 244.34286\n",
      " 243.62886 243.01334 243.23535 243.56706 243.85132 245.28456 248.65492\n",
      " 246.73871 246.64436 247.20317 249.73897 249.8047  251.70802 251.8336\n",
      " 251.0467  251.00769 247.1129  244.8933  242.21278 241.86806 242.5984\n",
      " 242.15689 240.63187 238.79945 238.97147 240.17702 241.03404 242.42633\n",
      " 241.64418 240.67514 240.24367 237.92563 236.38745 235.87076 234.66768\n",
      " 236.18825 238.55692 241.63405 242.09688 242.99214 243.45142 245.58662\n",
      " 247.35445 245.83994 249.30458 247.75047 249.2223  249.45119 247.1024\n",
      " 247.41496 254.35469 258.90823 255.78854 266.51184 273.53687 279.7212\n",
      " 282.59204 287.06647 397.29337 425.1559  665.4525  586.59875 363.0861\n",
      " 335.85385 398.99786 514.97125 510.55405 555.8074  577.03094 602.0701\n",
      " 622.66144 470.6877  501.69952]\n"
     ]
    },
    {
     "name": "stderr",
     "output_type": "stream",
     "text": [
      "\n"
     ]
    }
   ],
   "source": [
    "assert outdir_real != outdir_gen, \"Output directories must be different\"\n",
    "\n",
    "if os.path.exists(outdir_real):\n",
    "    shutil.rmtree(outdir_real)\n",
    "os.makedirs(outdir_real, exist_ok=True)\n",
    "\n",
    "print(\"Processing real\")\n",
    "scene_real = align_images(vid_real, model, scene_graph=scene_graph, device=device, img_freq=15, max_n_frames=80, outdir=outdir_real)\n",
    "\n",
    "if os.path.exists(outdir_gen):\n",
    "    shutil.rmtree(outdir_gen)\n",
    "os.makedirs(outdir_gen, exist_ok=True)\n",
    "\n",
    "print(\"Processing generated\")\n",
    "scene_gen = align_images(vid_gen, model, scene_graph=scene_graph, device=device, img_freq=2, max_n_frames=80, outdir=outdir_gen)\n"
   ]
  },
  {
   "cell_type": "code",
   "execution_count": null,
   "metadata": {},
   "outputs": [
    {
     "name": "stdout",
     "output_type": "stream",
     "text": [
      "Aligning real\n"
     ]
    },
    {
     "name": "stderr",
     "output_type": "stream",
     "text": [
      "/home/toskov/perspective-analysis-of-generated-images/mast3r/mast3r/cloud_opt/sparse_ga.py:78: FutureWarning: You are using `torch.load` with `weights_only=False` (the current default value), which uses the default pickle module implicitly. It is possible to construct malicious pickle data which will execute arbitrary code during unpickling (See https://github.com/pytorch/pytorch/blob/main/SECURITY.md#untrusted-models for more details). In a future release, the default value for `weights_only` will be flipped to `True`. This limits the functions that could be executed during unpickling. Arbitrary objects will no longer be allowed to be loaded via this mode unless they are explicitly allowlisted by the user via `torch.serialization.add_safe_globals`. We recommend you start setting `weights_only=True` for any use case where you don't have full control of the loaded file. Please open an issue on GitHub for any issues related to this experimental feature.\n",
      "  (canon, canon2, conf), focal = torch.load(canon_path, map_location=device)\n"
     ]
    },
    {
     "data": {
      "application/vnd.jupyter.widget-view+json": {
       "model_id": "9885c691daf94737a55a54b8492c1945",
       "version_major": 2,
       "version_minor": 0
      },
      "text/plain": [
       "  0%|          | 0/79 [00:00<?, ?it/s]"
      ]
     },
     "metadata": {},
     "output_type": "display_data"
    },
    {
     "data": {
      "application/vnd.jupyter.widget-view+json": {
       "model_id": "caaff4f40107407abf59e37ca1c1e9b5",
       "version_major": 2,
       "version_minor": 0
      },
      "text/plain": [
       "  0%|          | 0/1 [00:00<?, ?it/s]"
      ]
     },
     "metadata": {},
     "output_type": "display_data"
    },
    {
     "name": "stderr",
     "output_type": "stream",
     "text": [
      "/tmp/ipykernel_6257/1183371727.py:7: FutureWarning: You are using `torch.load` with `weights_only=False` (the current default value), which uses the default pickle module implicitly. It is possible to construct malicious pickle data which will execute arbitrary code during unpickling (See https://github.com/pytorch/pytorch/blob/main/SECURITY.md#untrusted-models for more details). In a future release, the default value for `weights_only` will be flipped to `True`. This limits the functions that could be executed during unpickling. Arbitrary objects will no longer be allowed to be loaded via this mode unless they are explicitly allowlisted by the user via `torch.serialization.add_safe_globals`. We recommend you start setting `weights_only=True` for any use case where you don't have full control of the loaded file. Please open an issue on GitHub for any issues related to this experimental feature.\n",
      "  score, (xy1, xy2, confs) = torch.load(corres_conf_fwd)\n"
     ]
    },
    {
     "data": {
      "application/vnd.jupyter.widget-view+json": {
       "model_id": "a042b41d17984c2fb6d7ef91f5a0af27",
       "version_major": 2,
       "version_minor": 0
      },
      "text/plain": [
       "  0%|          | 0/1 [00:00<?, ?it/s]"
      ]
     },
     "metadata": {},
     "output_type": "display_data"
    },
    {
     "data": {
      "application/vnd.jupyter.widget-view+json": {
       "model_id": "29abb0f551fd4084b140b2e1c6378c21",
       "version_major": 2,
       "version_minor": 0
      },
      "text/plain": [
       "  0%|          | 0/1 [00:00<?, ?it/s]"
      ]
     },
     "metadata": {},
     "output_type": "display_data"
    },
    {
     "data": {
      "application/vnd.jupyter.widget-view+json": {
       "model_id": "45b07d01fd194e4ebd57f4962b0c35ff",
       "version_major": 2,
       "version_minor": 0
      },
      "text/plain": [
       "  0%|          | 0/1 [00:00<?, ?it/s]"
      ]
     },
     "metadata": {},
     "output_type": "display_data"
    },
    {
     "data": {
      "application/vnd.jupyter.widget-view+json": {
       "model_id": "a46bd28069d54385977b074a77edf184",
       "version_major": 2,
       "version_minor": 0
      },
      "text/plain": [
       "  0%|          | 0/1 [00:00<?, ?it/s]"
      ]
     },
     "metadata": {},
     "output_type": "display_data"
    },
    {
     "data": {
      "application/vnd.jupyter.widget-view+json": {
       "model_id": "d53ebe05a1e14a96abbdf812ef843fe0",
       "version_major": 2,
       "version_minor": 0
      },
      "text/plain": [
       "  0%|          | 0/1 [00:00<?, ?it/s]"
      ]
     },
     "metadata": {},
     "output_type": "display_data"
    },
    {
     "data": {
      "application/vnd.jupyter.widget-view+json": {
       "model_id": "0835668cf78942f5a45d981e22121b84",
       "version_major": 2,
       "version_minor": 0
      },
      "text/plain": [
       "  0%|          | 0/1 [00:00<?, ?it/s]"
      ]
     },
     "metadata": {},
     "output_type": "display_data"
    },
    {
     "data": {
      "application/vnd.jupyter.widget-view+json": {
       "model_id": "613ef79d2cfe4a4a939ff2a0384c61ce",
       "version_major": 2,
       "version_minor": 0
      },
      "text/plain": [
       "  0%|          | 0/1 [00:00<?, ?it/s]"
      ]
     },
     "metadata": {},
     "output_type": "display_data"
    },
    {
     "data": {
      "application/vnd.jupyter.widget-view+json": {
       "model_id": "3e0abfddd85c479c858566ceef25b381",
       "version_major": 2,
       "version_minor": 0
      },
      "text/plain": [
       "  0%|          | 0/1 [00:00<?, ?it/s]"
      ]
     },
     "metadata": {},
     "output_type": "display_data"
    },
    {
     "data": {
      "application/vnd.jupyter.widget-view+json": {
       "model_id": "724a7f49274540f8952814f733e519ff",
       "version_major": 2,
       "version_minor": 0
      },
      "text/plain": [
       "  0%|          | 0/1 [00:00<?, ?it/s]"
      ]
     },
     "metadata": {},
     "output_type": "display_data"
    },
    {
     "data": {
      "application/vnd.jupyter.widget-view+json": {
       "model_id": "96e415cb291d43bba12d4ea722a0a758",
       "version_major": 2,
       "version_minor": 0
      },
      "text/plain": [
       "  0%|          | 0/1 [00:00<?, ?it/s]"
      ]
     },
     "metadata": {},
     "output_type": "display_data"
    },
    {
     "data": {
      "application/vnd.jupyter.widget-view+json": {
       "model_id": "1fe2765f786e47d7873471e880124cad",
       "version_major": 2,
       "version_minor": 0
      },
      "text/plain": [
       "  0%|          | 0/1 [00:00<?, ?it/s]"
      ]
     },
     "metadata": {},
     "output_type": "display_data"
    },
    {
     "data": {
      "application/vnd.jupyter.widget-view+json": {
       "model_id": "65fdb74e31474165830d1027b97a893d",
       "version_major": 2,
       "version_minor": 0
      },
      "text/plain": [
       "  0%|          | 0/1 [00:00<?, ?it/s]"
      ]
     },
     "metadata": {},
     "output_type": "display_data"
    },
    {
     "data": {
      "application/vnd.jupyter.widget-view+json": {
       "model_id": "6ee22b36af644168bdc6eb35378105ad",
       "version_major": 2,
       "version_minor": 0
      },
      "text/plain": [
       "  0%|          | 0/1 [00:00<?, ?it/s]"
      ]
     },
     "metadata": {},
     "output_type": "display_data"
    },
    {
     "data": {
      "application/vnd.jupyter.widget-view+json": {
       "model_id": "0fb909fc341e4b89bcf3942aa757d0c1",
       "version_major": 2,
       "version_minor": 0
      },
      "text/plain": [
       "  0%|          | 0/1 [00:00<?, ?it/s]"
      ]
     },
     "metadata": {},
     "output_type": "display_data"
    },
    {
     "data": {
      "application/vnd.jupyter.widget-view+json": {
       "model_id": "12c1792085dd404a9448900fa51ac4d3",
       "version_major": 2,
       "version_minor": 0
      },
      "text/plain": [
       "  0%|          | 0/1 [00:00<?, ?it/s]"
      ]
     },
     "metadata": {},
     "output_type": "display_data"
    },
    {
     "data": {
      "application/vnd.jupyter.widget-view+json": {
       "model_id": "e31939b28e6e40e9aa45bd11c66d7b3d",
       "version_major": 2,
       "version_minor": 0
      },
      "text/plain": [
       "  0%|          | 0/1 [00:00<?, ?it/s]"
      ]
     },
     "metadata": {},
     "output_type": "display_data"
    },
    {
     "data": {
      "application/vnd.jupyter.widget-view+json": {
       "model_id": "eacbab467fce401685226d48ed331798",
       "version_major": 2,
       "version_minor": 0
      },
      "text/plain": [
       "  0%|          | 0/1 [00:00<?, ?it/s]"
      ]
     },
     "metadata": {},
     "output_type": "display_data"
    },
    {
     "data": {
      "application/vnd.jupyter.widget-view+json": {
       "model_id": "48556b4b775f4143bfeb9fdeb134e925",
       "version_major": 2,
       "version_minor": 0
      },
      "text/plain": [
       "  0%|          | 0/1 [00:00<?, ?it/s]"
      ]
     },
     "metadata": {},
     "output_type": "display_data"
    },
    {
     "data": {
      "application/vnd.jupyter.widget-view+json": {
       "model_id": "74e00c05d4ff411c8adcebf0bc72ad35",
       "version_major": 2,
       "version_minor": 0
      },
      "text/plain": [
       "  0%|          | 0/1 [00:00<?, ?it/s]"
      ]
     },
     "metadata": {},
     "output_type": "display_data"
    },
    {
     "data": {
      "application/vnd.jupyter.widget-view+json": {
       "model_id": "a4963d9305cf44e0973a48472e219f46",
       "version_major": 2,
       "version_minor": 0
      },
      "text/plain": [
       "  0%|          | 0/1 [00:00<?, ?it/s]"
      ]
     },
     "metadata": {},
     "output_type": "display_data"
    },
    {
     "data": {
      "application/vnd.jupyter.widget-view+json": {
       "model_id": "7266bd56cd4d4a6d810e1a8c5d0c36b1",
       "version_major": 2,
       "version_minor": 0
      },
      "text/plain": [
       "  0%|          | 0/1 [00:00<?, ?it/s]"
      ]
     },
     "metadata": {},
     "output_type": "display_data"
    },
    {
     "data": {
      "application/vnd.jupyter.widget-view+json": {
       "model_id": "7d0cb2dce85f44458c9c3fe4001537a2",
       "version_major": 2,
       "version_minor": 0
      },
      "text/plain": [
       "  0%|          | 0/1 [00:00<?, ?it/s]"
      ]
     },
     "metadata": {},
     "output_type": "display_data"
    },
    {
     "data": {
      "application/vnd.jupyter.widget-view+json": {
       "model_id": "0e21d39c0b5a40c48ceb894aedf1bcf0",
       "version_major": 2,
       "version_minor": 0
      },
      "text/plain": [
       "  0%|          | 0/1 [00:00<?, ?it/s]"
      ]
     },
     "metadata": {},
     "output_type": "display_data"
    },
    {
     "data": {
      "application/vnd.jupyter.widget-view+json": {
       "model_id": "0bd03a2ae87241398332b8a234e95ada",
       "version_major": 2,
       "version_minor": 0
      },
      "text/plain": [
       "  0%|          | 0/1 [00:00<?, ?it/s]"
      ]
     },
     "metadata": {},
     "output_type": "display_data"
    },
    {
     "data": {
      "application/vnd.jupyter.widget-view+json": {
       "model_id": "593cce9bdeb54bd4b23c613a336c4be7",
       "version_major": 2,
       "version_minor": 0
      },
      "text/plain": [
       "  0%|          | 0/1 [00:00<?, ?it/s]"
      ]
     },
     "metadata": {},
     "output_type": "display_data"
    },
    {
     "data": {
      "application/vnd.jupyter.widget-view+json": {
       "model_id": "5ef97aad65624f15ac5f4565821e2e16",
       "version_major": 2,
       "version_minor": 0
      },
      "text/plain": [
       "  0%|          | 0/1 [00:00<?, ?it/s]"
      ]
     },
     "metadata": {},
     "output_type": "display_data"
    },
    {
     "data": {
      "application/vnd.jupyter.widget-view+json": {
       "model_id": "4b4b80e0b6e744c58754af5e74b4bbbb",
       "version_major": 2,
       "version_minor": 0
      },
      "text/plain": [
       "  0%|          | 0/1 [00:00<?, ?it/s]"
      ]
     },
     "metadata": {},
     "output_type": "display_data"
    },
    {
     "data": {
      "application/vnd.jupyter.widget-view+json": {
       "model_id": "3c52806c935f467486615be1ba2fa8f7",
       "version_major": 2,
       "version_minor": 0
      },
      "text/plain": [
       "  0%|          | 0/1 [00:00<?, ?it/s]"
      ]
     },
     "metadata": {},
     "output_type": "display_data"
    },
    {
     "data": {
      "application/vnd.jupyter.widget-view+json": {
       "model_id": "ec536fd65c0241a790563ea8eaa90116",
       "version_major": 2,
       "version_minor": 0
      },
      "text/plain": [
       "  0%|          | 0/1 [00:00<?, ?it/s]"
      ]
     },
     "metadata": {},
     "output_type": "display_data"
    },
    {
     "data": {
      "application/vnd.jupyter.widget-view+json": {
       "model_id": "0f9704845173429b9e8a23fc35e0ddb7",
       "version_major": 2,
       "version_minor": 0
      },
      "text/plain": [
       "  0%|          | 0/1 [00:00<?, ?it/s]"
      ]
     },
     "metadata": {},
     "output_type": "display_data"
    },
    {
     "data": {
      "application/vnd.jupyter.widget-view+json": {
       "model_id": "ebc3ee10cce74e5d9f41883c1548b9a2",
       "version_major": 2,
       "version_minor": 0
      },
      "text/plain": [
       "  0%|          | 0/1 [00:00<?, ?it/s]"
      ]
     },
     "metadata": {},
     "output_type": "display_data"
    },
    {
     "data": {
      "application/vnd.jupyter.widget-view+json": {
       "model_id": "0ac81fee9eea486f911a0b472b7b5ced",
       "version_major": 2,
       "version_minor": 0
      },
      "text/plain": [
       "  0%|          | 0/1 [00:00<?, ?it/s]"
      ]
     },
     "metadata": {},
     "output_type": "display_data"
    },
    {
     "data": {
      "application/vnd.jupyter.widget-view+json": {
       "model_id": "fa9689f2583d45398bd6b0d9ac119f95",
       "version_major": 2,
       "version_minor": 0
      },
      "text/plain": [
       "  0%|          | 0/1 [00:00<?, ?it/s]"
      ]
     },
     "metadata": {},
     "output_type": "display_data"
    },
    {
     "data": {
      "application/vnd.jupyter.widget-view+json": {
       "model_id": "95f629134401491b93404729d0bc4281",
       "version_major": 2,
       "version_minor": 0
      },
      "text/plain": [
       "  0%|          | 0/1 [00:00<?, ?it/s]"
      ]
     },
     "metadata": {},
     "output_type": "display_data"
    },
    {
     "data": {
      "application/vnd.jupyter.widget-view+json": {
       "model_id": "c93d350dfe514ee48203460f9d37fa35",
       "version_major": 2,
       "version_minor": 0
      },
      "text/plain": [
       "  0%|          | 0/1 [00:00<?, ?it/s]"
      ]
     },
     "metadata": {},
     "output_type": "display_data"
    },
    {
     "data": {
      "application/vnd.jupyter.widget-view+json": {
       "model_id": "f82cf33661304097a6136a56ba3ac23f",
       "version_major": 2,
       "version_minor": 0
      },
      "text/plain": [
       "  0%|          | 0/1 [00:00<?, ?it/s]"
      ]
     },
     "metadata": {},
     "output_type": "display_data"
    },
    {
     "data": {
      "application/vnd.jupyter.widget-view+json": {
       "model_id": "7043daab56bb4098bd14f685d4344a2d",
       "version_major": 2,
       "version_minor": 0
      },
      "text/plain": [
       "  0%|          | 0/1 [00:00<?, ?it/s]"
      ]
     },
     "metadata": {},
     "output_type": "display_data"
    },
    {
     "data": {
      "application/vnd.jupyter.widget-view+json": {
       "model_id": "53fef147544746bb9b97bba7b8838d49",
       "version_major": 2,
       "version_minor": 0
      },
      "text/plain": [
       "  0%|          | 0/1 [00:00<?, ?it/s]"
      ]
     },
     "metadata": {},
     "output_type": "display_data"
    },
    {
     "data": {
      "application/vnd.jupyter.widget-view+json": {
       "model_id": "b4d5db461c754eab80e2569b47e6ea5e",
       "version_major": 2,
       "version_minor": 0
      },
      "text/plain": [
       "  0%|          | 0/1 [00:00<?, ?it/s]"
      ]
     },
     "metadata": {},
     "output_type": "display_data"
    },
    {
     "data": {
      "application/vnd.jupyter.widget-view+json": {
       "model_id": "e7a89049ae14456594f69e4559ab382f",
       "version_major": 2,
       "version_minor": 0
      },
      "text/plain": [
       "  0%|          | 0/1 [00:00<?, ?it/s]"
      ]
     },
     "metadata": {},
     "output_type": "display_data"
    },
    {
     "data": {
      "application/vnd.jupyter.widget-view+json": {
       "model_id": "40c009f297a946de94ca32b15e788138",
       "version_major": 2,
       "version_minor": 0
      },
      "text/plain": [
       "  0%|          | 0/1 [00:00<?, ?it/s]"
      ]
     },
     "metadata": {},
     "output_type": "display_data"
    },
    {
     "data": {
      "application/vnd.jupyter.widget-view+json": {
       "model_id": "8628fdee3b864b449d7a844768b86c0c",
       "version_major": 2,
       "version_minor": 0
      },
      "text/plain": [
       "  0%|          | 0/1 [00:00<?, ?it/s]"
      ]
     },
     "metadata": {},
     "output_type": "display_data"
    },
    {
     "data": {
      "application/vnd.jupyter.widget-view+json": {
       "model_id": "321a2b2610294a5b8b0c2ef78e1c3cda",
       "version_major": 2,
       "version_minor": 0
      },
      "text/plain": [
       "  0%|          | 0/1 [00:00<?, ?it/s]"
      ]
     },
     "metadata": {},
     "output_type": "display_data"
    },
    {
     "data": {
      "application/vnd.jupyter.widget-view+json": {
       "model_id": "590a0c36d20147f2b87338cd260fb60a",
       "version_major": 2,
       "version_minor": 0
      },
      "text/plain": [
       "  0%|          | 0/1 [00:00<?, ?it/s]"
      ]
     },
     "metadata": {},
     "output_type": "display_data"
    },
    {
     "data": {
      "application/vnd.jupyter.widget-view+json": {
       "model_id": "71013f4d7344425a86b88e4c52f095db",
       "version_major": 2,
       "version_minor": 0
      },
      "text/plain": [
       "  0%|          | 0/1 [00:00<?, ?it/s]"
      ]
     },
     "metadata": {},
     "output_type": "display_data"
    },
    {
     "data": {
      "application/vnd.jupyter.widget-view+json": {
       "model_id": "2a368dd05efb4f32bb9e784373569554",
       "version_major": 2,
       "version_minor": 0
      },
      "text/plain": [
       "  0%|          | 0/1 [00:00<?, ?it/s]"
      ]
     },
     "metadata": {},
     "output_type": "display_data"
    },
    {
     "data": {
      "application/vnd.jupyter.widget-view+json": {
       "model_id": "8b891f54ffe94d4f9fa9f049e5f13a4e",
       "version_major": 2,
       "version_minor": 0
      },
      "text/plain": [
       "  0%|          | 0/1 [00:00<?, ?it/s]"
      ]
     },
     "metadata": {},
     "output_type": "display_data"
    },
    {
     "data": {
      "application/vnd.jupyter.widget-view+json": {
       "model_id": "40a65363cf9641d59b8d427aa84718af",
       "version_major": 2,
       "version_minor": 0
      },
      "text/plain": [
       "  0%|          | 0/1 [00:00<?, ?it/s]"
      ]
     },
     "metadata": {},
     "output_type": "display_data"
    },
    {
     "data": {
      "application/vnd.jupyter.widget-view+json": {
       "model_id": "8d1613a5579a4c21b2c51e15301b47d6",
       "version_major": 2,
       "version_minor": 0
      },
      "text/plain": [
       "  0%|          | 0/1 [00:00<?, ?it/s]"
      ]
     },
     "metadata": {},
     "output_type": "display_data"
    },
    {
     "data": {
      "application/vnd.jupyter.widget-view+json": {
       "model_id": "8f76794b54224a6083656ed703ca0ed3",
       "version_major": 2,
       "version_minor": 0
      },
      "text/plain": [
       "  0%|          | 0/1 [00:00<?, ?it/s]"
      ]
     },
     "metadata": {},
     "output_type": "display_data"
    },
    {
     "data": {
      "application/vnd.jupyter.widget-view+json": {
       "model_id": "0c981e262caa420da65f306a39a4842d",
       "version_major": 2,
       "version_minor": 0
      },
      "text/plain": [
       "  0%|          | 0/1 [00:00<?, ?it/s]"
      ]
     },
     "metadata": {},
     "output_type": "display_data"
    },
    {
     "data": {
      "application/vnd.jupyter.widget-view+json": {
       "model_id": "e3f910d7413e4a318d1a129f36c20b1d",
       "version_major": 2,
       "version_minor": 0
      },
      "text/plain": [
       "  0%|          | 0/1 [00:00<?, ?it/s]"
      ]
     },
     "metadata": {},
     "output_type": "display_data"
    },
    {
     "data": {
      "application/vnd.jupyter.widget-view+json": {
       "model_id": "aae18d7119f1477098f3fa009fa9f4f9",
       "version_major": 2,
       "version_minor": 0
      },
      "text/plain": [
       "  0%|          | 0/1 [00:00<?, ?it/s]"
      ]
     },
     "metadata": {},
     "output_type": "display_data"
    },
    {
     "data": {
      "application/vnd.jupyter.widget-view+json": {
       "model_id": "d2d194b3d83149619a17a8fb632af881",
       "version_major": 2,
       "version_minor": 0
      },
      "text/plain": [
       "  0%|          | 0/1 [00:00<?, ?it/s]"
      ]
     },
     "metadata": {},
     "output_type": "display_data"
    },
    {
     "data": {
      "application/vnd.jupyter.widget-view+json": {
       "model_id": "957f4e8b357a4176aae1588ed08dda8d",
       "version_major": 2,
       "version_minor": 0
      },
      "text/plain": [
       "  0%|          | 0/1 [00:00<?, ?it/s]"
      ]
     },
     "metadata": {},
     "output_type": "display_data"
    },
    {
     "data": {
      "application/vnd.jupyter.widget-view+json": {
       "model_id": "6f8e7640dba449fcba6665a37189c25d",
       "version_major": 2,
       "version_minor": 0
      },
      "text/plain": [
       "  0%|          | 0/1 [00:00<?, ?it/s]"
      ]
     },
     "metadata": {},
     "output_type": "display_data"
    },
    {
     "data": {
      "application/vnd.jupyter.widget-view+json": {
       "model_id": "8b11aae0bb974cd8b39a0c83fa882698",
       "version_major": 2,
       "version_minor": 0
      },
      "text/plain": [
       "  0%|          | 0/1 [00:00<?, ?it/s]"
      ]
     },
     "metadata": {},
     "output_type": "display_data"
    },
    {
     "data": {
      "application/vnd.jupyter.widget-view+json": {
       "model_id": "787062602e4742c5ba2120a863188941",
       "version_major": 2,
       "version_minor": 0
      },
      "text/plain": [
       "  0%|          | 0/1 [00:00<?, ?it/s]"
      ]
     },
     "metadata": {},
     "output_type": "display_data"
    },
    {
     "data": {
      "application/vnd.jupyter.widget-view+json": {
       "model_id": "5308a96b4e5d42f0870e1d4c5f9a379c",
       "version_major": 2,
       "version_minor": 0
      },
      "text/plain": [
       "  0%|          | 0/1 [00:00<?, ?it/s]"
      ]
     },
     "metadata": {},
     "output_type": "display_data"
    },
    {
     "data": {
      "application/vnd.jupyter.widget-view+json": {
       "model_id": "b5669584dd4b4b7291a49321b7291f91",
       "version_major": 2,
       "version_minor": 0
      },
      "text/plain": [
       "  0%|          | 0/1 [00:00<?, ?it/s]"
      ]
     },
     "metadata": {},
     "output_type": "display_data"
    },
    {
     "data": {
      "application/vnd.jupyter.widget-view+json": {
       "model_id": "e1a3220b9fab42209ca93c6f6aeb078a",
       "version_major": 2,
       "version_minor": 0
      },
      "text/plain": [
       "  0%|          | 0/1 [00:00<?, ?it/s]"
      ]
     },
     "metadata": {},
     "output_type": "display_data"
    },
    {
     "data": {
      "application/vnd.jupyter.widget-view+json": {
       "model_id": "00a6724751fe4898806fadcb5cd8c763",
       "version_major": 2,
       "version_minor": 0
      },
      "text/plain": [
       "  0%|          | 0/1 [00:00<?, ?it/s]"
      ]
     },
     "metadata": {},
     "output_type": "display_data"
    },
    {
     "data": {
      "application/vnd.jupyter.widget-view+json": {
       "model_id": "278a20b3793e4f7090417456a39492b7",
       "version_major": 2,
       "version_minor": 0
      },
      "text/plain": [
       "  0%|          | 0/1 [00:00<?, ?it/s]"
      ]
     },
     "metadata": {},
     "output_type": "display_data"
    },
    {
     "data": {
      "application/vnd.jupyter.widget-view+json": {
       "model_id": "1c50ae23b8a84983a1309c97e8a7a11c",
       "version_major": 2,
       "version_minor": 0
      },
      "text/plain": [
       "  0%|          | 0/1 [00:00<?, ?it/s]"
      ]
     },
     "metadata": {},
     "output_type": "display_data"
    },
    {
     "data": {
      "application/vnd.jupyter.widget-view+json": {
       "model_id": "10583fba7c97474a8b1cf2567981958d",
       "version_major": 2,
       "version_minor": 0
      },
      "text/plain": [
       "  0%|          | 0/1 [00:00<?, ?it/s]"
      ]
     },
     "metadata": {},
     "output_type": "display_data"
    },
    {
     "data": {
      "application/vnd.jupyter.widget-view+json": {
       "model_id": "ce50699966834ff387f8ed8bac2e7418",
       "version_major": 2,
       "version_minor": 0
      },
      "text/plain": [
       "  0%|          | 0/1 [00:00<?, ?it/s]"
      ]
     },
     "metadata": {},
     "output_type": "display_data"
    },
    {
     "data": {
      "application/vnd.jupyter.widget-view+json": {
       "model_id": "943320920d6f426eb7c54279ce6cbd19",
       "version_major": 2,
       "version_minor": 0
      },
      "text/plain": [
       "  0%|          | 0/1 [00:00<?, ?it/s]"
      ]
     },
     "metadata": {},
     "output_type": "display_data"
    },
    {
     "data": {
      "application/vnd.jupyter.widget-view+json": {
       "model_id": "09175f8de2d14a69ab9625477bfcb1b2",
       "version_major": 2,
       "version_minor": 0
      },
      "text/plain": [
       "  0%|          | 0/1 [00:00<?, ?it/s]"
      ]
     },
     "metadata": {},
     "output_type": "display_data"
    },
    {
     "data": {
      "application/vnd.jupyter.widget-view+json": {
       "model_id": "25d606e587144cf6936ec51e1e952d1f",
       "version_major": 2,
       "version_minor": 0
      },
      "text/plain": [
       "  0%|          | 0/1 [00:00<?, ?it/s]"
      ]
     },
     "metadata": {},
     "output_type": "display_data"
    },
    {
     "data": {
      "application/vnd.jupyter.widget-view+json": {
       "model_id": "d5a03f49e4b447f4bd87e183e42a34b7",
       "version_major": 2,
       "version_minor": 0
      },
      "text/plain": [
       "  0%|          | 0/1 [00:00<?, ?it/s]"
      ]
     },
     "metadata": {},
     "output_type": "display_data"
    },
    {
     "data": {
      "application/vnd.jupyter.widget-view+json": {
       "model_id": "312c636a228b4801b9f550a2d33a4702",
       "version_major": 2,
       "version_minor": 0
      },
      "text/plain": [
       "  0%|          | 0/1 [00:00<?, ?it/s]"
      ]
     },
     "metadata": {},
     "output_type": "display_data"
    },
    {
     "data": {
      "application/vnd.jupyter.widget-view+json": {
       "model_id": "0cc37cf44cb1494aa43f0e87fe5fecce",
       "version_major": 2,
       "version_minor": 0
      },
      "text/plain": [
       "  0%|          | 0/1 [00:00<?, ?it/s]"
      ]
     },
     "metadata": {},
     "output_type": "display_data"
    },
    {
     "data": {
      "application/vnd.jupyter.widget-view+json": {
       "model_id": "98900d1b8eb44f949a165b5210140e56",
       "version_major": 2,
       "version_minor": 0
      },
      "text/plain": [
       "  0%|          | 0/1 [00:00<?, ?it/s]"
      ]
     },
     "metadata": {},
     "output_type": "display_data"
    },
    {
     "data": {
      "application/vnd.jupyter.widget-view+json": {
       "model_id": "dfb8fd2d0059440c89dd3ce5c2a7d062",
       "version_major": 2,
       "version_minor": 0
      },
      "text/plain": [
       "  0%|          | 0/1 [00:00<?, ?it/s]"
      ]
     },
     "metadata": {},
     "output_type": "display_data"
    },
    {
     "data": {
      "application/vnd.jupyter.widget-view+json": {
       "model_id": "5756650ab08f4aa7b4ac5f199376fe87",
       "version_major": 2,
       "version_minor": 0
      },
      "text/plain": [
       "  0%|          | 0/1 [00:00<?, ?it/s]"
      ]
     },
     "metadata": {},
     "output_type": "display_data"
    },
    {
     "data": {
      "application/vnd.jupyter.widget-view+json": {
       "model_id": "d2c1895885bc4a11bd68c4d3550cd659",
       "version_major": 2,
       "version_minor": 0
      },
      "text/plain": [
       "  0%|          | 0/1 [00:00<?, ?it/s]"
      ]
     },
     "metadata": {},
     "output_type": "display_data"
    },
    {
     "data": {
      "application/vnd.jupyter.widget-view+json": {
       "model_id": "2ce9651e669847039a55d9e58f22134c",
       "version_major": 2,
       "version_minor": 0
      },
      "text/plain": [
       "  0%|          | 0/1 [00:00<?, ?it/s]"
      ]
     },
     "metadata": {},
     "output_type": "display_data"
    },
    {
     "data": {
      "application/vnd.jupyter.widget-view+json": {
       "model_id": "2000c5ac540540f6b2c976077d488679",
       "version_major": 2,
       "version_minor": 0
      },
      "text/plain": [
       "  0%|          | 0/1 [00:00<?, ?it/s]"
      ]
     },
     "metadata": {},
     "output_type": "display_data"
    },
    {
     "name": "stdout",
     "output_type": "stream",
     "text": [
      "Aligning generated\n"
     ]
    },
    {
     "data": {
      "application/vnd.jupyter.widget-view+json": {
       "model_id": "2935b2c23ed64d9cbe66cc2c151a45b3",
       "version_major": 2,
       "version_minor": 0
      },
      "text/plain": [
       "  0%|          | 0/79 [00:00<?, ?it/s]"
      ]
     },
     "metadata": {},
     "output_type": "display_data"
    },
    {
     "data": {
      "application/vnd.jupyter.widget-view+json": {
       "model_id": "1626408e23224c67800c9e75b9bb181c",
       "version_major": 2,
       "version_minor": 0
      },
      "text/plain": [
       "  0%|          | 0/1 [00:00<?, ?it/s]"
      ]
     },
     "metadata": {},
     "output_type": "display_data"
    },
    {
     "data": {
      "application/vnd.jupyter.widget-view+json": {
       "model_id": "f8f0bd4d20bb46dabdbf5daa805258d9",
       "version_major": 2,
       "version_minor": 0
      },
      "text/plain": [
       "  0%|          | 0/1 [00:00<?, ?it/s]"
      ]
     },
     "metadata": {},
     "output_type": "display_data"
    },
    {
     "data": {
      "application/vnd.jupyter.widget-view+json": {
       "model_id": "62c2288becda43a5ba00d7d69be66aba",
       "version_major": 2,
       "version_minor": 0
      },
      "text/plain": [
       "  0%|          | 0/1 [00:00<?, ?it/s]"
      ]
     },
     "metadata": {},
     "output_type": "display_data"
    },
    {
     "data": {
      "application/vnd.jupyter.widget-view+json": {
       "model_id": "7bff26bd08854609bbcc5b5408a5524e",
       "version_major": 2,
       "version_minor": 0
      },
      "text/plain": [
       "  0%|          | 0/1 [00:00<?, ?it/s]"
      ]
     },
     "metadata": {},
     "output_type": "display_data"
    },
    {
     "data": {
      "application/vnd.jupyter.widget-view+json": {
       "model_id": "a799bc3184bb4782926f0291c08a4310",
       "version_major": 2,
       "version_minor": 0
      },
      "text/plain": [
       "  0%|          | 0/1 [00:00<?, ?it/s]"
      ]
     },
     "metadata": {},
     "output_type": "display_data"
    },
    {
     "data": {
      "application/vnd.jupyter.widget-view+json": {
       "model_id": "17c237288aec4e0d8498ff20316664b7",
       "version_major": 2,
       "version_minor": 0
      },
      "text/plain": [
       "  0%|          | 0/1 [00:00<?, ?it/s]"
      ]
     },
     "metadata": {},
     "output_type": "display_data"
    },
    {
     "data": {
      "application/vnd.jupyter.widget-view+json": {
       "model_id": "4c9ee5e0ea4548848e825c79089de69d",
       "version_major": 2,
       "version_minor": 0
      },
      "text/plain": [
       "  0%|          | 0/1 [00:00<?, ?it/s]"
      ]
     },
     "metadata": {},
     "output_type": "display_data"
    },
    {
     "data": {
      "application/vnd.jupyter.widget-view+json": {
       "model_id": "c2a3202bc9a44bf39fba7a442c1c3f06",
       "version_major": 2,
       "version_minor": 0
      },
      "text/plain": [
       "  0%|          | 0/1 [00:00<?, ?it/s]"
      ]
     },
     "metadata": {},
     "output_type": "display_data"
    },
    {
     "data": {
      "application/vnd.jupyter.widget-view+json": {
       "model_id": "d958dbdf00574e0d93a7aa3161eb2e53",
       "version_major": 2,
       "version_minor": 0
      },
      "text/plain": [
       "  0%|          | 0/1 [00:00<?, ?it/s]"
      ]
     },
     "metadata": {},
     "output_type": "display_data"
    },
    {
     "data": {
      "application/vnd.jupyter.widget-view+json": {
       "model_id": "69d24bc5c7ad49fab1196a5989994a1a",
       "version_major": 2,
       "version_minor": 0
      },
      "text/plain": [
       "  0%|          | 0/1 [00:00<?, ?it/s]"
      ]
     },
     "metadata": {},
     "output_type": "display_data"
    },
    {
     "data": {
      "application/vnd.jupyter.widget-view+json": {
       "model_id": "7c1def85a9384036820e36a18f44733a",
       "version_major": 2,
       "version_minor": 0
      },
      "text/plain": [
       "  0%|          | 0/1 [00:00<?, ?it/s]"
      ]
     },
     "metadata": {},
     "output_type": "display_data"
    },
    {
     "data": {
      "application/vnd.jupyter.widget-view+json": {
       "model_id": "8373edc8e6fe407c86f798f7db862633",
       "version_major": 2,
       "version_minor": 0
      },
      "text/plain": [
       "  0%|          | 0/1 [00:00<?, ?it/s]"
      ]
     },
     "metadata": {},
     "output_type": "display_data"
    },
    {
     "data": {
      "application/vnd.jupyter.widget-view+json": {
       "model_id": "a337a60a03d54a45bc4a3639d3826e05",
       "version_major": 2,
       "version_minor": 0
      },
      "text/plain": [
       "  0%|          | 0/1 [00:00<?, ?it/s]"
      ]
     },
     "metadata": {},
     "output_type": "display_data"
    },
    {
     "data": {
      "application/vnd.jupyter.widget-view+json": {
       "model_id": "f04c704c1c4e46d6a86b70dd1791715e",
       "version_major": 2,
       "version_minor": 0
      },
      "text/plain": [
       "  0%|          | 0/1 [00:00<?, ?it/s]"
      ]
     },
     "metadata": {},
     "output_type": "display_data"
    },
    {
     "data": {
      "application/vnd.jupyter.widget-view+json": {
       "model_id": "e8caec7a5a504a9eb18b6e4195c1202e",
       "version_major": 2,
       "version_minor": 0
      },
      "text/plain": [
       "  0%|          | 0/1 [00:00<?, ?it/s]"
      ]
     },
     "metadata": {},
     "output_type": "display_data"
    },
    {
     "data": {
      "application/vnd.jupyter.widget-view+json": {
       "model_id": "9ad89fe136c244acac882cee03788ad1",
       "version_major": 2,
       "version_minor": 0
      },
      "text/plain": [
       "  0%|          | 0/1 [00:00<?, ?it/s]"
      ]
     },
     "metadata": {},
     "output_type": "display_data"
    },
    {
     "data": {
      "application/vnd.jupyter.widget-view+json": {
       "model_id": "6404470192804f099a32d94c849f6b13",
       "version_major": 2,
       "version_minor": 0
      },
      "text/plain": [
       "  0%|          | 0/1 [00:00<?, ?it/s]"
      ]
     },
     "metadata": {},
     "output_type": "display_data"
    },
    {
     "data": {
      "application/vnd.jupyter.widget-view+json": {
       "model_id": "b3efa81d8832446bb063324892319987",
       "version_major": 2,
       "version_minor": 0
      },
      "text/plain": [
       "  0%|          | 0/1 [00:00<?, ?it/s]"
      ]
     },
     "metadata": {},
     "output_type": "display_data"
    },
    {
     "data": {
      "application/vnd.jupyter.widget-view+json": {
       "model_id": "fcb388dbbb174d3e99ce23f03a4e2e84",
       "version_major": 2,
       "version_minor": 0
      },
      "text/plain": [
       "  0%|          | 0/1 [00:00<?, ?it/s]"
      ]
     },
     "metadata": {},
     "output_type": "display_data"
    },
    {
     "data": {
      "application/vnd.jupyter.widget-view+json": {
       "model_id": "74ba0845f0b94980bc4eac7d84cfe79b",
       "version_major": 2,
       "version_minor": 0
      },
      "text/plain": [
       "  0%|          | 0/1 [00:00<?, ?it/s]"
      ]
     },
     "metadata": {},
     "output_type": "display_data"
    },
    {
     "data": {
      "application/vnd.jupyter.widget-view+json": {
       "model_id": "f8bcfa9617e34e6b8a7b0a486e84411e",
       "version_major": 2,
       "version_minor": 0
      },
      "text/plain": [
       "  0%|          | 0/1 [00:00<?, ?it/s]"
      ]
     },
     "metadata": {},
     "output_type": "display_data"
    },
    {
     "data": {
      "application/vnd.jupyter.widget-view+json": {
       "model_id": "f39a6a680ce6485897978c1a9522bd72",
       "version_major": 2,
       "version_minor": 0
      },
      "text/plain": [
       "  0%|          | 0/1 [00:00<?, ?it/s]"
      ]
     },
     "metadata": {},
     "output_type": "display_data"
    },
    {
     "data": {
      "application/vnd.jupyter.widget-view+json": {
       "model_id": "a89443ea4f104c6da585e641a81c18ac",
       "version_major": 2,
       "version_minor": 0
      },
      "text/plain": [
       "  0%|          | 0/1 [00:00<?, ?it/s]"
      ]
     },
     "metadata": {},
     "output_type": "display_data"
    },
    {
     "data": {
      "application/vnd.jupyter.widget-view+json": {
       "model_id": "ae0a6caa4152425c9470f331fa2abc44",
       "version_major": 2,
       "version_minor": 0
      },
      "text/plain": [
       "  0%|          | 0/1 [00:00<?, ?it/s]"
      ]
     },
     "metadata": {},
     "output_type": "display_data"
    },
    {
     "data": {
      "application/vnd.jupyter.widget-view+json": {
       "model_id": "2545a3ab63064cae974d07bd26a036a4",
       "version_major": 2,
       "version_minor": 0
      },
      "text/plain": [
       "  0%|          | 0/1 [00:00<?, ?it/s]"
      ]
     },
     "metadata": {},
     "output_type": "display_data"
    },
    {
     "data": {
      "application/vnd.jupyter.widget-view+json": {
       "model_id": "57c722fc08ba4270bb0388b34bbb1635",
       "version_major": 2,
       "version_minor": 0
      },
      "text/plain": [
       "  0%|          | 0/1 [00:00<?, ?it/s]"
      ]
     },
     "metadata": {},
     "output_type": "display_data"
    },
    {
     "data": {
      "application/vnd.jupyter.widget-view+json": {
       "model_id": "eeafde6028a94172a3542676060cedf5",
       "version_major": 2,
       "version_minor": 0
      },
      "text/plain": [
       "  0%|          | 0/1 [00:00<?, ?it/s]"
      ]
     },
     "metadata": {},
     "output_type": "display_data"
    },
    {
     "data": {
      "application/vnd.jupyter.widget-view+json": {
       "model_id": "1e1c1c6b9b0d407d8c22e00e908144a6",
       "version_major": 2,
       "version_minor": 0
      },
      "text/plain": [
       "  0%|          | 0/1 [00:00<?, ?it/s]"
      ]
     },
     "metadata": {},
     "output_type": "display_data"
    },
    {
     "data": {
      "application/vnd.jupyter.widget-view+json": {
       "model_id": "cdc41b11b6c6443683896beb6a1e76aa",
       "version_major": 2,
       "version_minor": 0
      },
      "text/plain": [
       "  0%|          | 0/1 [00:00<?, ?it/s]"
      ]
     },
     "metadata": {},
     "output_type": "display_data"
    },
    {
     "data": {
      "application/vnd.jupyter.widget-view+json": {
       "model_id": "83e50b00fdca4df2858758d248e58223",
       "version_major": 2,
       "version_minor": 0
      },
      "text/plain": [
       "  0%|          | 0/1 [00:00<?, ?it/s]"
      ]
     },
     "metadata": {},
     "output_type": "display_data"
    },
    {
     "data": {
      "application/vnd.jupyter.widget-view+json": {
       "model_id": "b7d02c0a261b410bae21cc993b881a00",
       "version_major": 2,
       "version_minor": 0
      },
      "text/plain": [
       "  0%|          | 0/1 [00:00<?, ?it/s]"
      ]
     },
     "metadata": {},
     "output_type": "display_data"
    },
    {
     "data": {
      "application/vnd.jupyter.widget-view+json": {
       "model_id": "062e3037ba6a466f898d55d238e3a2c5",
       "version_major": 2,
       "version_minor": 0
      },
      "text/plain": [
       "  0%|          | 0/1 [00:00<?, ?it/s]"
      ]
     },
     "metadata": {},
     "output_type": "display_data"
    },
    {
     "data": {
      "application/vnd.jupyter.widget-view+json": {
       "model_id": "5b86d06f1c4b4e8e9dba9ace2e219d07",
       "version_major": 2,
       "version_minor": 0
      },
      "text/plain": [
       "  0%|          | 0/1 [00:00<?, ?it/s]"
      ]
     },
     "metadata": {},
     "output_type": "display_data"
    },
    {
     "data": {
      "application/vnd.jupyter.widget-view+json": {
       "model_id": "702dd81809274d52a61f03d274391062",
       "version_major": 2,
       "version_minor": 0
      },
      "text/plain": [
       "  0%|          | 0/1 [00:00<?, ?it/s]"
      ]
     },
     "metadata": {},
     "output_type": "display_data"
    },
    {
     "data": {
      "application/vnd.jupyter.widget-view+json": {
       "model_id": "6079980b865a400f8143b67bdba98e07",
       "version_major": 2,
       "version_minor": 0
      },
      "text/plain": [
       "  0%|          | 0/1 [00:00<?, ?it/s]"
      ]
     },
     "metadata": {},
     "output_type": "display_data"
    },
    {
     "data": {
      "application/vnd.jupyter.widget-view+json": {
       "model_id": "338a1448137c4cb588e4c9e05b72ee02",
       "version_major": 2,
       "version_minor": 0
      },
      "text/plain": [
       "  0%|          | 0/1 [00:00<?, ?it/s]"
      ]
     },
     "metadata": {},
     "output_type": "display_data"
    },
    {
     "data": {
      "application/vnd.jupyter.widget-view+json": {
       "model_id": "4311d7c26fb442b8bd82b43ad7fc9755",
       "version_major": 2,
       "version_minor": 0
      },
      "text/plain": [
       "  0%|          | 0/1 [00:00<?, ?it/s]"
      ]
     },
     "metadata": {},
     "output_type": "display_data"
    },
    {
     "data": {
      "application/vnd.jupyter.widget-view+json": {
       "model_id": "130c6cea7e114f7fb12800c43aec3ea5",
       "version_major": 2,
       "version_minor": 0
      },
      "text/plain": [
       "  0%|          | 0/1 [00:00<?, ?it/s]"
      ]
     },
     "metadata": {},
     "output_type": "display_data"
    },
    {
     "data": {
      "application/vnd.jupyter.widget-view+json": {
       "model_id": "8b6dcb2071da49f7877f6bd8375c7e66",
       "version_major": 2,
       "version_minor": 0
      },
      "text/plain": [
       "  0%|          | 0/1 [00:00<?, ?it/s]"
      ]
     },
     "metadata": {},
     "output_type": "display_data"
    },
    {
     "data": {
      "application/vnd.jupyter.widget-view+json": {
       "model_id": "d784bff8cb3245039f0785889eb5ef03",
       "version_major": 2,
       "version_minor": 0
      },
      "text/plain": [
       "  0%|          | 0/1 [00:00<?, ?it/s]"
      ]
     },
     "metadata": {},
     "output_type": "display_data"
    },
    {
     "data": {
      "application/vnd.jupyter.widget-view+json": {
       "model_id": "f4654ed60035437eac47396f72e5b8ff",
       "version_major": 2,
       "version_minor": 0
      },
      "text/plain": [
       "  0%|          | 0/1 [00:00<?, ?it/s]"
      ]
     },
     "metadata": {},
     "output_type": "display_data"
    },
    {
     "data": {
      "application/vnd.jupyter.widget-view+json": {
       "model_id": "cdc2b5956cfd45e3987289ce199d630b",
       "version_major": 2,
       "version_minor": 0
      },
      "text/plain": [
       "  0%|          | 0/1 [00:00<?, ?it/s]"
      ]
     },
     "metadata": {},
     "output_type": "display_data"
    },
    {
     "data": {
      "application/vnd.jupyter.widget-view+json": {
       "model_id": "b291907f330d47a09e8d7c861ce38cda",
       "version_major": 2,
       "version_minor": 0
      },
      "text/plain": [
       "  0%|          | 0/1 [00:00<?, ?it/s]"
      ]
     },
     "metadata": {},
     "output_type": "display_data"
    },
    {
     "data": {
      "application/vnd.jupyter.widget-view+json": {
       "model_id": "6dad32e2dd0e451e8a3b37d9610b2559",
       "version_major": 2,
       "version_minor": 0
      },
      "text/plain": [
       "  0%|          | 0/1 [00:00<?, ?it/s]"
      ]
     },
     "metadata": {},
     "output_type": "display_data"
    },
    {
     "data": {
      "application/vnd.jupyter.widget-view+json": {
       "model_id": "97a0d7bc52c94ef6a3690e698c434b86",
       "version_major": 2,
       "version_minor": 0
      },
      "text/plain": [
       "  0%|          | 0/1 [00:00<?, ?it/s]"
      ]
     },
     "metadata": {},
     "output_type": "display_data"
    },
    {
     "data": {
      "application/vnd.jupyter.widget-view+json": {
       "model_id": "3f911ffb19664009beb4e5f17d152217",
       "version_major": 2,
       "version_minor": 0
      },
      "text/plain": [
       "  0%|          | 0/1 [00:00<?, ?it/s]"
      ]
     },
     "metadata": {},
     "output_type": "display_data"
    },
    {
     "data": {
      "application/vnd.jupyter.widget-view+json": {
       "model_id": "ab615a8889904fe8be8a99bbed80f9cd",
       "version_major": 2,
       "version_minor": 0
      },
      "text/plain": [
       "  0%|          | 0/1 [00:00<?, ?it/s]"
      ]
     },
     "metadata": {},
     "output_type": "display_data"
    },
    {
     "data": {
      "application/vnd.jupyter.widget-view+json": {
       "model_id": "f21445dd622d49948fae4b714dd8c59e",
       "version_major": 2,
       "version_minor": 0
      },
      "text/plain": [
       "  0%|          | 0/1 [00:00<?, ?it/s]"
      ]
     },
     "metadata": {},
     "output_type": "display_data"
    },
    {
     "data": {
      "application/vnd.jupyter.widget-view+json": {
       "model_id": "3a809c5434aa44a1a7d1f9d04a0c3bae",
       "version_major": 2,
       "version_minor": 0
      },
      "text/plain": [
       "  0%|          | 0/1 [00:00<?, ?it/s]"
      ]
     },
     "metadata": {},
     "output_type": "display_data"
    },
    {
     "data": {
      "application/vnd.jupyter.widget-view+json": {
       "model_id": "0c68bc7074994e7193fc0c60bebaceff",
       "version_major": 2,
       "version_minor": 0
      },
      "text/plain": [
       "  0%|          | 0/1 [00:00<?, ?it/s]"
      ]
     },
     "metadata": {},
     "output_type": "display_data"
    },
    {
     "data": {
      "application/vnd.jupyter.widget-view+json": {
       "model_id": "e3ac9ceb604a4d7e881c3c76cfdd0660",
       "version_major": 2,
       "version_minor": 0
      },
      "text/plain": [
       "  0%|          | 0/1 [00:00<?, ?it/s]"
      ]
     },
     "metadata": {},
     "output_type": "display_data"
    },
    {
     "data": {
      "application/vnd.jupyter.widget-view+json": {
       "model_id": "384599efa97f4b289dac676d0dbc5452",
       "version_major": 2,
       "version_minor": 0
      },
      "text/plain": [
       "  0%|          | 0/1 [00:00<?, ?it/s]"
      ]
     },
     "metadata": {},
     "output_type": "display_data"
    },
    {
     "data": {
      "application/vnd.jupyter.widget-view+json": {
       "model_id": "e573510ca9cb4c4eb9c91b16db7cc0b7",
       "version_major": 2,
       "version_minor": 0
      },
      "text/plain": [
       "  0%|          | 0/1 [00:00<?, ?it/s]"
      ]
     },
     "metadata": {},
     "output_type": "display_data"
    },
    {
     "data": {
      "application/vnd.jupyter.widget-view+json": {
       "model_id": "5d7134cd2d5e47bfb3d954c234261a41",
       "version_major": 2,
       "version_minor": 0
      },
      "text/plain": [
       "  0%|          | 0/1 [00:00<?, ?it/s]"
      ]
     },
     "metadata": {},
     "output_type": "display_data"
    },
    {
     "data": {
      "application/vnd.jupyter.widget-view+json": {
       "model_id": "16bee3131fac41f4aff6c0b2cdac7435",
       "version_major": 2,
       "version_minor": 0
      },
      "text/plain": [
       "  0%|          | 0/1 [00:00<?, ?it/s]"
      ]
     },
     "metadata": {},
     "output_type": "display_data"
    },
    {
     "data": {
      "application/vnd.jupyter.widget-view+json": {
       "model_id": "cbb76d8dfc094f94961ee33e39c5863a",
       "version_major": 2,
       "version_minor": 0
      },
      "text/plain": [
       "  0%|          | 0/1 [00:00<?, ?it/s]"
      ]
     },
     "metadata": {},
     "output_type": "display_data"
    },
    {
     "data": {
      "application/vnd.jupyter.widget-view+json": {
       "model_id": "e467abf20f70427194addbdb61b4f611",
       "version_major": 2,
       "version_minor": 0
      },
      "text/plain": [
       "  0%|          | 0/1 [00:00<?, ?it/s]"
      ]
     },
     "metadata": {},
     "output_type": "display_data"
    },
    {
     "data": {
      "application/vnd.jupyter.widget-view+json": {
       "model_id": "b1001e739fc6432cb7607d6f64ba955b",
       "version_major": 2,
       "version_minor": 0
      },
      "text/plain": [
       "  0%|          | 0/1 [00:00<?, ?it/s]"
      ]
     },
     "metadata": {},
     "output_type": "display_data"
    },
    {
     "data": {
      "application/vnd.jupyter.widget-view+json": {
       "model_id": "813e69f61e4b412094ba20a38b5e9871",
       "version_major": 2,
       "version_minor": 0
      },
      "text/plain": [
       "  0%|          | 0/1 [00:00<?, ?it/s]"
      ]
     },
     "metadata": {},
     "output_type": "display_data"
    },
    {
     "data": {
      "application/vnd.jupyter.widget-view+json": {
       "model_id": "38acbe32f34b4943b2e38dec6380b345",
       "version_major": 2,
       "version_minor": 0
      },
      "text/plain": [
       "  0%|          | 0/1 [00:00<?, ?it/s]"
      ]
     },
     "metadata": {},
     "output_type": "display_data"
    },
    {
     "data": {
      "application/vnd.jupyter.widget-view+json": {
       "model_id": "63934cb8b9824ea2ac982b1bd5f9a1b9",
       "version_major": 2,
       "version_minor": 0
      },
      "text/plain": [
       "  0%|          | 0/1 [00:00<?, ?it/s]"
      ]
     },
     "metadata": {},
     "output_type": "display_data"
    },
    {
     "data": {
      "application/vnd.jupyter.widget-view+json": {
       "model_id": "39c3431f74c045e58ebdb5cddc6176f1",
       "version_major": 2,
       "version_minor": 0
      },
      "text/plain": [
       "  0%|          | 0/1 [00:00<?, ?it/s]"
      ]
     },
     "metadata": {},
     "output_type": "display_data"
    },
    {
     "data": {
      "application/vnd.jupyter.widget-view+json": {
       "model_id": "b52733531fd84192b60aeb8337688844",
       "version_major": 2,
       "version_minor": 0
      },
      "text/plain": [
       "  0%|          | 0/1 [00:00<?, ?it/s]"
      ]
     },
     "metadata": {},
     "output_type": "display_data"
    },
    {
     "data": {
      "application/vnd.jupyter.widget-view+json": {
       "model_id": "b5568c2b148243b2b39d177d0ece0ba0",
       "version_major": 2,
       "version_minor": 0
      },
      "text/plain": [
       "  0%|          | 0/1 [00:00<?, ?it/s]"
      ]
     },
     "metadata": {},
     "output_type": "display_data"
    },
    {
     "data": {
      "application/vnd.jupyter.widget-view+json": {
       "model_id": "42b59d73273e4889bf4c49c43ef8476d",
       "version_major": 2,
       "version_minor": 0
      },
      "text/plain": [
       "  0%|          | 0/1 [00:00<?, ?it/s]"
      ]
     },
     "metadata": {},
     "output_type": "display_data"
    },
    {
     "data": {
      "application/vnd.jupyter.widget-view+json": {
       "model_id": "6f605ec4ffa049a1a9deb0769d1a3e1e",
       "version_major": 2,
       "version_minor": 0
      },
      "text/plain": [
       "  0%|          | 0/1 [00:00<?, ?it/s]"
      ]
     },
     "metadata": {},
     "output_type": "display_data"
    },
    {
     "data": {
      "application/vnd.jupyter.widget-view+json": {
       "model_id": "55be6eb29f5343238798159f07786b41",
       "version_major": 2,
       "version_minor": 0
      },
      "text/plain": [
       "  0%|          | 0/1 [00:00<?, ?it/s]"
      ]
     },
     "metadata": {},
     "output_type": "display_data"
    },
    {
     "name": "stderr",
     "output_type": "stream",
     "text": [
      "/tmp/ipykernel_6257/378266343.py:21: UserWarning: std(): degrees of freedom is <= 0. Correction should be strictly less than the reduction factor (input numel divided by output numel). (Triggered internally at /opt/conda/conda-bld/pytorch_1729647429097/work/aten/src/ATen/native/ReduceOps.cpp:1823.)\n",
      "  std = distances.std().item()\n"
     ]
    },
    {
     "data": {
      "application/vnd.jupyter.widget-view+json": {
       "model_id": "01f15437cce549cd920089e6226ab70c",
       "version_major": 2,
       "version_minor": 0
      },
      "text/plain": [
       "  0%|          | 0/1 [00:00<?, ?it/s]"
      ]
     },
     "metadata": {},
     "output_type": "display_data"
    },
    {
     "data": {
      "application/vnd.jupyter.widget-view+json": {
       "model_id": "0fe0155946c444af9a69c1a71456e03c",
       "version_major": 2,
       "version_minor": 0
      },
      "text/plain": [
       "  0%|          | 0/1 [00:00<?, ?it/s]"
      ]
     },
     "metadata": {},
     "output_type": "display_data"
    },
    {
     "data": {
      "application/vnd.jupyter.widget-view+json": {
       "model_id": "7ea3efb35e234bcab2e520aadfc7a4ff",
       "version_major": 2,
       "version_minor": 0
      },
      "text/plain": [
       "  0%|          | 0/1 [00:00<?, ?it/s]"
      ]
     },
     "metadata": {},
     "output_type": "display_data"
    },
    {
     "data": {
      "application/vnd.jupyter.widget-view+json": {
       "model_id": "fe9dac225ec9410d9a24b7cac65328da",
       "version_major": 2,
       "version_minor": 0
      },
      "text/plain": [
       "  0%|          | 0/1 [00:00<?, ?it/s]"
      ]
     },
     "metadata": {},
     "output_type": "display_data"
    },
    {
     "data": {
      "application/vnd.jupyter.widget-view+json": {
       "model_id": "816e37eaef804ac68ffaeac6592224a4",
       "version_major": 2,
       "version_minor": 0
      },
      "text/plain": [
       "  0%|          | 0/1 [00:00<?, ?it/s]"
      ]
     },
     "metadata": {},
     "output_type": "display_data"
    },
    {
     "data": {
      "application/vnd.jupyter.widget-view+json": {
       "model_id": "2f63d622c94b42fb91811b949ce36ecf",
       "version_major": 2,
       "version_minor": 0
      },
      "text/plain": [
       "  0%|          | 0/1 [00:00<?, ?it/s]"
      ]
     },
     "metadata": {},
     "output_type": "display_data"
    },
    {
     "data": {
      "application/vnd.jupyter.widget-view+json": {
       "model_id": "a058424debdd4377a4ac42f2e59a7d83",
       "version_major": 2,
       "version_minor": 0
      },
      "text/plain": [
       "  0%|          | 0/1 [00:00<?, ?it/s]"
      ]
     },
     "metadata": {},
     "output_type": "display_data"
    },
    {
     "data": {
      "application/vnd.jupyter.widget-view+json": {
       "model_id": "4975564ad66d409090033b5efb0ad286",
       "version_major": 2,
       "version_minor": 0
      },
      "text/plain": [
       "  0%|          | 0/1 [00:00<?, ?it/s]"
      ]
     },
     "metadata": {},
     "output_type": "display_data"
    },
    {
     "data": {
      "application/vnd.jupyter.widget-view+json": {
       "model_id": "0eb404f1f29642ae85119676ac333fdd",
       "version_major": 2,
       "version_minor": 0
      },
      "text/plain": [
       "  0%|          | 0/1 [00:00<?, ?it/s]"
      ]
     },
     "metadata": {},
     "output_type": "display_data"
    },
    {
     "data": {
      "application/vnd.jupyter.widget-view+json": {
       "model_id": "c4007c21942a496fa9195ad1c976f146",
       "version_major": 2,
       "version_minor": 0
      },
      "text/plain": [
       "  0%|          | 0/1 [00:00<?, ?it/s]"
      ]
     },
     "metadata": {},
     "output_type": "display_data"
    },
    {
     "data": {
      "application/vnd.jupyter.widget-view+json": {
       "model_id": "52de77c633a547449d11170bf2ce5ac8",
       "version_major": 2,
       "version_minor": 0
      },
      "text/plain": [
       "  0%|          | 0/1 [00:00<?, ?it/s]"
      ]
     },
     "metadata": {},
     "output_type": "display_data"
    },
    {
     "data": {
      "application/vnd.jupyter.widget-view+json": {
       "model_id": "909af25f1bb54c9aaac98ee820548cdc",
       "version_major": 2,
       "version_minor": 0
      },
      "text/plain": [
       "  0%|          | 0/1 [00:00<?, ?it/s]"
      ]
     },
     "metadata": {},
     "output_type": "display_data"
    },
    {
     "data": {
      "image/png": "[encoded data removed]",
      "text/plain": [
       "<Figure size 640x480 with 1 Axes>"
      ]
     },
     "metadata": {},
     "output_type": "display_data"
    }
   ],
   "source": [
    "print(\"Aligning real\")\n",
    "mean_dists_real, _ = windowed_align(scene_real, window_size=1, outdir=outdir_real)\n",
    "mean_array_real = np.array([np.mean(x) for x in mean_dists_real])\n",
    "\n",
    "print(\"Aligning generated\")\n",
    "mean_distances_gen, _ = windowed_align(scene_gen, window_size=1, outdir=outdir_gen)\n",
    "mean_array_gen = np.array([np.mean(x) for x in mean_distances_gen])\n",
    "\n",
    "# plot mean distance per frame through time\n",
    "pl.plot(mean_array_real)\n",
    "pl.plot(mean_array_gen)\n",
    "pl.legend([\"Real\", \"Generated\"])\n",
    "pl.xlabel(\"Frame\")\n",
    "pl.ylabel(\"Mean distance\")\n",
    "pl.grid()"
   ]
  },
  {
   "cell_type": "code",
   "execution_count": null,
   "metadata": {},
   "outputs": [
    {
     "name": "stdout",
     "output_type": "stream",
     "text": [
      "Aligning real\n"
     ]
    },
    {
     "data": {
      "application/vnd.jupyter.widget-view+json": {
       "model_id": "2820769c0c764a049d7d0e1a63a8f491",
       "version_major": 2,
       "version_minor": 0
      },
      "text/plain": [
       "  0%|          | 0/79 [00:00<?, ?it/s]"
      ]
     },
     "metadata": {},
     "output_type": "display_data"
    },
    {
     "data": {
      "application/vnd.jupyter.widget-view+json": {
       "model_id": "283309f20d944a7f918c560efb58fc6e",
       "version_major": 2,
       "version_minor": 0
      },
      "text/plain": [
       "  0%|          | 0/10 [00:00<?, ?it/s]"
      ]
     },
     "metadata": {},
     "output_type": "display_data"
    },
    {
     "name": "stderr",
     "output_type": "stream",
     "text": [
      "/tmp/ipykernel_6257/1183371727.py:7: FutureWarning: You are using `torch.load` with `weights_only=False` (the current default value), which uses the default pickle module implicitly. It is possible to construct malicious pickle data which will execute arbitrary code during unpickling (See https://github.com/pytorch/pytorch/blob/main/SECURITY.md#untrusted-models for more details). In a future release, the default value for `weights_only` will be flipped to `True`. This limits the functions that could be executed during unpickling. Arbitrary objects will no longer be allowed to be loaded via this mode unless they are explicitly allowlisted by the user via `torch.serialization.add_safe_globals`. We recommend you start setting `weights_only=True` for any use case where you don't have full control of the loaded file. Please open an issue on GitHub for any issues related to this experimental feature.\n",
      "  score, (xy1, xy2, confs) = torch.load(corres_conf_fwd)\n"
     ]
    },
    {
     "data": {
      "application/vnd.jupyter.widget-view+json": {
       "model_id": "20ebb7086aab460da5d633ff85941860",
       "version_major": 2,
       "version_minor": 0
      },
      "text/plain": [
       "  0%|          | 0/10 [00:00<?, ?it/s]"
      ]
     },
     "metadata": {},
     "output_type": "display_data"
    },
    {
     "data": {
      "application/vnd.jupyter.widget-view+json": {
       "model_id": "43790c75794c4c4295ac9ab0b25e1261",
       "version_major": 2,
       "version_minor": 0
      },
      "text/plain": [
       "  0%|          | 0/10 [00:00<?, ?it/s]"
      ]
     },
     "metadata": {},
     "output_type": "display_data"
    },
    {
     "data": {
      "application/vnd.jupyter.widget-view+json": {
       "model_id": "2738cb996c844356a0cea404d6b341d3",
       "version_major": 2,
       "version_minor": 0
      },
      "text/plain": [
       "  0%|          | 0/10 [00:00<?, ?it/s]"
      ]
     },
     "metadata": {},
     "output_type": "display_data"
    },
    {
     "data": {
      "application/vnd.jupyter.widget-view+json": {
       "model_id": "ac3f89e0de08443ca1ef7fb453f6c4fd",
       "version_major": 2,
       "version_minor": 0
      },
      "text/plain": [
       "  0%|          | 0/10 [00:00<?, ?it/s]"
      ]
     },
     "metadata": {},
     "output_type": "display_data"
    },
    {
     "data": {
      "application/vnd.jupyter.widget-view+json": {
       "model_id": "ae669f135e254701ad0a71b4c9348bf2",
       "version_major": 2,
       "version_minor": 0
      },
      "text/plain": [
       "  0%|          | 0/10 [00:00<?, ?it/s]"
      ]
     },
     "metadata": {},
     "output_type": "display_data"
    },
    {
     "data": {
      "application/vnd.jupyter.widget-view+json": {
       "model_id": "3a389fcad7594e6f881911e21410cc3e",
       "version_major": 2,
       "version_minor": 0
      },
      "text/plain": [
       "  0%|          | 0/10 [00:00<?, ?it/s]"
      ]
     },
     "metadata": {},
     "output_type": "display_data"
    },
    {
     "data": {
      "application/vnd.jupyter.widget-view+json": {
       "model_id": "a62c25e44c264355b119641663f712c0",
       "version_major": 2,
       "version_minor": 0
      },
      "text/plain": [
       "  0%|          | 0/10 [00:00<?, ?it/s]"
      ]
     },
     "metadata": {},
     "output_type": "display_data"
    },
    {
     "data": {
      "application/vnd.jupyter.widget-view+json": {
       "model_id": "59dbcfc847864952aead45cc95219435",
       "version_major": 2,
       "version_minor": 0
      },
      "text/plain": [
       "  0%|          | 0/10 [00:00<?, ?it/s]"
      ]
     },
     "metadata": {},
     "output_type": "display_data"
    },
    {
     "data": {
      "application/vnd.jupyter.widget-view+json": {
       "model_id": "51405503407d4a28a23063938162832a",
       "version_major": 2,
       "version_minor": 0
      },
      "text/plain": [
       "  0%|          | 0/10 [00:00<?, ?it/s]"
      ]
     },
     "metadata": {},
     "output_type": "display_data"
    },
    {
     "data": {
      "application/vnd.jupyter.widget-view+json": {
       "model_id": "fa2f70bd93fb4b309dbeca90470a1147",
       "version_major": 2,
       "version_minor": 0
      },
      "text/plain": [
       "  0%|          | 0/10 [00:00<?, ?it/s]"
      ]
     },
     "metadata": {},
     "output_type": "display_data"
    },
    {
     "data": {
      "application/vnd.jupyter.widget-view+json": {
       "model_id": "f1d5299673ab4fd0b9ec652cfe4f31cf",
       "version_major": 2,
       "version_minor": 0
      },
      "text/plain": [
       "  0%|          | 0/10 [00:00<?, ?it/s]"
      ]
     },
     "metadata": {},
     "output_type": "display_data"
    },
    {
     "data": {
      "application/vnd.jupyter.widget-view+json": {
       "model_id": "12a4a10737e94be998d70f80c834e658",
       "version_major": 2,
       "version_minor": 0
      },
      "text/plain": [
       "  0%|          | 0/10 [00:00<?, ?it/s]"
      ]
     },
     "metadata": {},
     "output_type": "display_data"
    },
    {
     "data": {
      "application/vnd.jupyter.widget-view+json": {
       "model_id": "f44d7c05ad1946ef9a8b84c2dbebf239",
       "version_major": 2,
       "version_minor": 0
      },
      "text/plain": [
       "  0%|          | 0/10 [00:00<?, ?it/s]"
      ]
     },
     "metadata": {},
     "output_type": "display_data"
    },
    {
     "data": {
      "application/vnd.jupyter.widget-view+json": {
       "model_id": "b879dbf552454c4dbb87e5bc1f9f3852",
       "version_major": 2,
       "version_minor": 0
      },
      "text/plain": [
       "  0%|          | 0/10 [00:00<?, ?it/s]"
      ]
     },
     "metadata": {},
     "output_type": "display_data"
    },
    {
     "data": {
      "application/vnd.jupyter.widget-view+json": {
       "model_id": "73b843f1acad40829167d0d1fcb0e145",
       "version_major": 2,
       "version_minor": 0
      },
      "text/plain": [
       "  0%|          | 0/10 [00:00<?, ?it/s]"
      ]
     },
     "metadata": {},
     "output_type": "display_data"
    },
    {
     "data": {
      "application/vnd.jupyter.widget-view+json": {
       "model_id": "df3c9fa705724bf496fddb46876dccc6",
       "version_major": 2,
       "version_minor": 0
      },
      "text/plain": [
       "  0%|          | 0/10 [00:00<?, ?it/s]"
      ]
     },
     "metadata": {},
     "output_type": "display_data"
    },
    {
     "data": {
      "application/vnd.jupyter.widget-view+json": {
       "model_id": "f6ce802bf4104e9b967811e833d8ff94",
       "version_major": 2,
       "version_minor": 0
      },
      "text/plain": [
       "  0%|          | 0/10 [00:00<?, ?it/s]"
      ]
     },
     "metadata": {},
     "output_type": "display_data"
    },
    {
     "data": {
      "application/vnd.jupyter.widget-view+json": {
       "model_id": "269802d12a794d18a9cd3f4d68b823f0",
       "version_major": 2,
       "version_minor": 0
      },
      "text/plain": [
       "  0%|          | 0/10 [00:00<?, ?it/s]"
      ]
     },
     "metadata": {},
     "output_type": "display_data"
    },
    {
     "data": {
      "application/vnd.jupyter.widget-view+json": {
       "model_id": "6cf65c0c17bb46a29d7c74a9d3533a19",
       "version_major": 2,
       "version_minor": 0
      },
      "text/plain": [
       "  0%|          | 0/10 [00:00<?, ?it/s]"
      ]
     },
     "metadata": {},
     "output_type": "display_data"
    },
    {
     "data": {
      "application/vnd.jupyter.widget-view+json": {
       "model_id": "8f6711ea569b44059325b468099ac638",
       "version_major": 2,
       "version_minor": 0
      },
      "text/plain": [
       "  0%|          | 0/10 [00:00<?, ?it/s]"
      ]
     },
     "metadata": {},
     "output_type": "display_data"
    },
    {
     "data": {
      "application/vnd.jupyter.widget-view+json": {
       "model_id": "a53b1e9755b44c92b1625799c4966b66",
       "version_major": 2,
       "version_minor": 0
      },
      "text/plain": [
       "  0%|          | 0/10 [00:00<?, ?it/s]"
      ]
     },
     "metadata": {},
     "output_type": "display_data"
    },
    {
     "data": {
      "application/vnd.jupyter.widget-view+json": {
       "model_id": "bdbdcfbf35cd4570ab593bd47feadd76",
       "version_major": 2,
       "version_minor": 0
      },
      "text/plain": [
       "  0%|          | 0/10 [00:00<?, ?it/s]"
      ]
     },
     "metadata": {},
     "output_type": "display_data"
    },
    {
     "data": {
      "application/vnd.jupyter.widget-view+json": {
       "model_id": "857d2b32f9304e55abd92bbb1341d8d0",
       "version_major": 2,
       "version_minor": 0
      },
      "text/plain": [
       "  0%|          | 0/10 [00:00<?, ?it/s]"
      ]
     },
     "metadata": {},
     "output_type": "display_data"
    },
    {
     "data": {
      "application/vnd.jupyter.widget-view+json": {
       "model_id": "27056f315eda4490813219c8d6b7ac53",
       "version_major": 2,
       "version_minor": 0
      },
      "text/plain": [
       "  0%|          | 0/10 [00:00<?, ?it/s]"
      ]
     },
     "metadata": {},
     "output_type": "display_data"
    },
    {
     "data": {
      "application/vnd.jupyter.widget-view+json": {
       "model_id": "fee247bea005424fa9060ec57b5960d4",
       "version_major": 2,
       "version_minor": 0
      },
      "text/plain": [
       "  0%|          | 0/10 [00:00<?, ?it/s]"
      ]
     },
     "metadata": {},
     "output_type": "display_data"
    },
    {
     "data": {
      "application/vnd.jupyter.widget-view+json": {
       "model_id": "2f13286997ca4213b1e96de115dd02e2",
       "version_major": 2,
       "version_minor": 0
      },
      "text/plain": [
       "  0%|          | 0/10 [00:00<?, ?it/s]"
      ]
     },
     "metadata": {},
     "output_type": "display_data"
    },
    {
     "data": {
      "application/vnd.jupyter.widget-view+json": {
       "model_id": "e3f4ab2ca8294a2fbd89dba3a5149935",
       "version_major": 2,
       "version_minor": 0
      },
      "text/plain": [
       "  0%|          | 0/10 [00:00<?, ?it/s]"
      ]
     },
     "metadata": {},
     "output_type": "display_data"
    },
    {
     "data": {
      "application/vnd.jupyter.widget-view+json": {
       "model_id": "675f8f5857ca421f9f6eeed68481f9d9",
       "version_major": 2,
       "version_minor": 0
      },
      "text/plain": [
       "  0%|          | 0/10 [00:00<?, ?it/s]"
      ]
     },
     "metadata": {},
     "output_type": "display_data"
    },
    {
     "data": {
      "application/vnd.jupyter.widget-view+json": {
       "model_id": "c907d71931334c319bc6030a5288a87d",
       "version_major": 2,
       "version_minor": 0
      },
      "text/plain": [
       "  0%|          | 0/10 [00:00<?, ?it/s]"
      ]
     },
     "metadata": {},
     "output_type": "display_data"
    },
    {
     "data": {
      "application/vnd.jupyter.widget-view+json": {
       "model_id": "a8083950f7a14c339f7f711d531b018e",
       "version_major": 2,
       "version_minor": 0
      },
      "text/plain": [
       "  0%|          | 0/10 [00:00<?, ?it/s]"
      ]
     },
     "metadata": {},
     "output_type": "display_data"
    },
    {
     "data": {
      "application/vnd.jupyter.widget-view+json": {
       "model_id": "0a8c7147c2344caba7e8fb1392e9a660",
       "version_major": 2,
       "version_minor": 0
      },
      "text/plain": [
       "  0%|          | 0/10 [00:00<?, ?it/s]"
      ]
     },
     "metadata": {},
     "output_type": "display_data"
    },
    {
     "data": {
      "application/vnd.jupyter.widget-view+json": {
       "model_id": "3590c37b93ee492097e1ac6b79ef6079",
       "version_major": 2,
       "version_minor": 0
      },
      "text/plain": [
       "  0%|          | 0/10 [00:00<?, ?it/s]"
      ]
     },
     "metadata": {},
     "output_type": "display_data"
    },
    {
     "data": {
      "application/vnd.jupyter.widget-view+json": {
       "model_id": "89a7fe309e184dbd831b241d50e9a683",
       "version_major": 2,
       "version_minor": 0
      },
      "text/plain": [
       "  0%|          | 0/10 [00:00<?, ?it/s]"
      ]
     },
     "metadata": {},
     "output_type": "display_data"
    },
    {
     "data": {
      "application/vnd.jupyter.widget-view+json": {
       "model_id": "bea5a59a94994e1196a99bff2d10feb0",
       "version_major": 2,
       "version_minor": 0
      },
      "text/plain": [
       "  0%|          | 0/10 [00:00<?, ?it/s]"
      ]
     },
     "metadata": {},
     "output_type": "display_data"
    },
    {
     "data": {
      "application/vnd.jupyter.widget-view+json": {
       "model_id": "29b6530cc2b744bf8b144253bb894338",
       "version_major": 2,
       "version_minor": 0
      },
      "text/plain": [
       "  0%|          | 0/10 [00:00<?, ?it/s]"
      ]
     },
     "metadata": {},
     "output_type": "display_data"
    },
    {
     "data": {
      "application/vnd.jupyter.widget-view+json": {
       "model_id": "9ac985692c4943e0be7b0ca9e0a5f00c",
       "version_major": 2,
       "version_minor": 0
      },
      "text/plain": [
       "  0%|          | 0/10 [00:00<?, ?it/s]"
      ]
     },
     "metadata": {},
     "output_type": "display_data"
    },
    {
     "data": {
      "application/vnd.jupyter.widget-view+json": {
       "model_id": "054ece0fbed1496e8ddadbf8e0dde627",
       "version_major": 2,
       "version_minor": 0
      },
      "text/plain": [
       "  0%|          | 0/10 [00:00<?, ?it/s]"
      ]
     },
     "metadata": {},
     "output_type": "display_data"
    },
    {
     "data": {
      "application/vnd.jupyter.widget-view+json": {
       "model_id": "da7641e37f9f4fbab29836437c0fda81",
       "version_major": 2,
       "version_minor": 0
      },
      "text/plain": [
       "  0%|          | 0/10 [00:00<?, ?it/s]"
      ]
     },
     "metadata": {},
     "output_type": "display_data"
    },
    {
     "data": {
      "application/vnd.jupyter.widget-view+json": {
       "model_id": "584486588eab470da704a14c8abc57d4",
       "version_major": 2,
       "version_minor": 0
      },
      "text/plain": [
       "  0%|          | 0/10 [00:00<?, ?it/s]"
      ]
     },
     "metadata": {},
     "output_type": "display_data"
    },
    {
     "data": {
      "application/vnd.jupyter.widget-view+json": {
       "model_id": "cdaa047e5461414885378654385a7415",
       "version_major": 2,
       "version_minor": 0
      },
      "text/plain": [
       "  0%|          | 0/10 [00:00<?, ?it/s]"
      ]
     },
     "metadata": {},
     "output_type": "display_data"
    },
    {
     "data": {
      "application/vnd.jupyter.widget-view+json": {
       "model_id": "a6692760b5394c56ac48e34bc70d3f74",
       "version_major": 2,
       "version_minor": 0
      },
      "text/plain": [
       "  0%|          | 0/10 [00:00<?, ?it/s]"
      ]
     },
     "metadata": {},
     "output_type": "display_data"
    },
    {
     "data": {
      "application/vnd.jupyter.widget-view+json": {
       "model_id": "28841c064d794a648c216977906f91fe",
       "version_major": 2,
       "version_minor": 0
      },
      "text/plain": [
       "  0%|          | 0/10 [00:00<?, ?it/s]"
      ]
     },
     "metadata": {},
     "output_type": "display_data"
    },
    {
     "data": {
      "application/vnd.jupyter.widget-view+json": {
       "model_id": "a19f4431b32c4428a451e4c70f9518a3",
       "version_major": 2,
       "version_minor": 0
      },
      "text/plain": [
       "  0%|          | 0/10 [00:00<?, ?it/s]"
      ]
     },
     "metadata": {},
     "output_type": "display_data"
    },
    {
     "data": {
      "application/vnd.jupyter.widget-view+json": {
       "model_id": "92ee0ecdf3ae4c0f9aaac373def73e40",
       "version_major": 2,
       "version_minor": 0
      },
      "text/plain": [
       "  0%|          | 0/10 [00:00<?, ?it/s]"
      ]
     },
     "metadata": {},
     "output_type": "display_data"
    },
    {
     "data": {
      "application/vnd.jupyter.widget-view+json": {
       "model_id": "e611df1e71764bb7b5d16b960ecc6051",
       "version_major": 2,
       "version_minor": 0
      },
      "text/plain": [
       "  0%|          | 0/10 [00:00<?, ?it/s]"
      ]
     },
     "metadata": {},
     "output_type": "display_data"
    },
    {
     "data": {
      "application/vnd.jupyter.widget-view+json": {
       "model_id": "aa8049019fb84c2ca3ac3562d3d87bd2",
       "version_major": 2,
       "version_minor": 0
      },
      "text/plain": [
       "  0%|          | 0/10 [00:00<?, ?it/s]"
      ]
     },
     "metadata": {},
     "output_type": "display_data"
    },
    {
     "data": {
      "application/vnd.jupyter.widget-view+json": {
       "model_id": "93cfcdfdfeec4f34acf939ce137194e5",
       "version_major": 2,
       "version_minor": 0
      },
      "text/plain": [
       "  0%|          | 0/10 [00:00<?, ?it/s]"
      ]
     },
     "metadata": {},
     "output_type": "display_data"
    },
    {
     "data": {
      "application/vnd.jupyter.widget-view+json": {
       "model_id": "ab916355df7a4dd3a11cece4962fe651",
       "version_major": 2,
       "version_minor": 0
      },
      "text/plain": [
       "  0%|          | 0/10 [00:00<?, ?it/s]"
      ]
     },
     "metadata": {},
     "output_type": "display_data"
    },
    {
     "data": {
      "application/vnd.jupyter.widget-view+json": {
       "model_id": "c0874b7766bf465f890aaab28d3a7b32",
       "version_major": 2,
       "version_minor": 0
      },
      "text/plain": [
       "  0%|          | 0/10 [00:00<?, ?it/s]"
      ]
     },
     "metadata": {},
     "output_type": "display_data"
    },
    {
     "data": {
      "application/vnd.jupyter.widget-view+json": {
       "model_id": "d74351baf78b48f797fc149e7baa1a09",
       "version_major": 2,
       "version_minor": 0
      },
      "text/plain": [
       "  0%|          | 0/10 [00:00<?, ?it/s]"
      ]
     },
     "metadata": {},
     "output_type": "display_data"
    },
    {
     "data": {
      "application/vnd.jupyter.widget-view+json": {
       "model_id": "1f6e0361cea143faa80ef26ced704aaf",
       "version_major": 2,
       "version_minor": 0
      },
      "text/plain": [
       "  0%|          | 0/10 [00:00<?, ?it/s]"
      ]
     },
     "metadata": {},
     "output_type": "display_data"
    },
    {
     "data": {
      "application/vnd.jupyter.widget-view+json": {
       "model_id": "3e0306891d22481d90f520cfaace12a4",
       "version_major": 2,
       "version_minor": 0
      },
      "text/plain": [
       "  0%|          | 0/10 [00:00<?, ?it/s]"
      ]
     },
     "metadata": {},
     "output_type": "display_data"
    },
    {
     "data": {
      "application/vnd.jupyter.widget-view+json": {
       "model_id": "00ca9fc668724462ad4e6ae18d04f266",
       "version_major": 2,
       "version_minor": 0
      },
      "text/plain": [
       "  0%|          | 0/10 [00:00<?, ?it/s]"
      ]
     },
     "metadata": {},
     "output_type": "display_data"
    },
    {
     "data": {
      "application/vnd.jupyter.widget-view+json": {
       "model_id": "05a86f1bf9dd462ebc52a795fa30104f",
       "version_major": 2,
       "version_minor": 0
      },
      "text/plain": [
       "  0%|          | 0/10 [00:00<?, ?it/s]"
      ]
     },
     "metadata": {},
     "output_type": "display_data"
    },
    {
     "data": {
      "application/vnd.jupyter.widget-view+json": {
       "model_id": "7e1aa355ba124c9488e9701c1197522d",
       "version_major": 2,
       "version_minor": 0
      },
      "text/plain": [
       "  0%|          | 0/10 [00:00<?, ?it/s]"
      ]
     },
     "metadata": {},
     "output_type": "display_data"
    },
    {
     "data": {
      "application/vnd.jupyter.widget-view+json": {
       "model_id": "095c8d729b9f4348961cd1541e668c17",
       "version_major": 2,
       "version_minor": 0
      },
      "text/plain": [
       "  0%|          | 0/10 [00:00<?, ?it/s]"
      ]
     },
     "metadata": {},
     "output_type": "display_data"
    },
    {
     "data": {
      "application/vnd.jupyter.widget-view+json": {
       "model_id": "fdbf33e672294065bd89c3e7eae2de26",
       "version_major": 2,
       "version_minor": 0
      },
      "text/plain": [
       "  0%|          | 0/10 [00:00<?, ?it/s]"
      ]
     },
     "metadata": {},
     "output_type": "display_data"
    },
    {
     "data": {
      "application/vnd.jupyter.widget-view+json": {
       "model_id": "d4b2ec8cad6143adba22796007a2293a",
       "version_major": 2,
       "version_minor": 0
      },
      "text/plain": [
       "  0%|          | 0/10 [00:00<?, ?it/s]"
      ]
     },
     "metadata": {},
     "output_type": "display_data"
    },
    {
     "data": {
      "application/vnd.jupyter.widget-view+json": {
       "model_id": "b507c70f535742bb83a624c7e2682faf",
       "version_major": 2,
       "version_minor": 0
      },
      "text/plain": [
       "  0%|          | 0/10 [00:00<?, ?it/s]"
      ]
     },
     "metadata": {},
     "output_type": "display_data"
    },
    {
     "data": {
      "application/vnd.jupyter.widget-view+json": {
       "model_id": "f24d3dba500b4b93807b83026ab64de3",
       "version_major": 2,
       "version_minor": 0
      },
      "text/plain": [
       "  0%|          | 0/10 [00:00<?, ?it/s]"
      ]
     },
     "metadata": {},
     "output_type": "display_data"
    },
    {
     "data": {
      "application/vnd.jupyter.widget-view+json": {
       "model_id": "60856ea815674e0086dec14ca2456bd7",
       "version_major": 2,
       "version_minor": 0
      },
      "text/plain": [
       "  0%|          | 0/10 [00:00<?, ?it/s]"
      ]
     },
     "metadata": {},
     "output_type": "display_data"
    },
    {
     "data": {
      "application/vnd.jupyter.widget-view+json": {
       "model_id": "d12b5df032b84c9aa7ee7d7ff02af4a8",
       "version_major": 2,
       "version_minor": 0
      },
      "text/plain": [
       "  0%|          | 0/10 [00:00<?, ?it/s]"
      ]
     },
     "metadata": {},
     "output_type": "display_data"
    },
    {
     "data": {
      "application/vnd.jupyter.widget-view+json": {
       "model_id": "8a0ab100e19b45609beafeedd0dd691d",
       "version_major": 2,
       "version_minor": 0
      },
      "text/plain": [
       "  0%|          | 0/10 [00:00<?, ?it/s]"
      ]
     },
     "metadata": {},
     "output_type": "display_data"
    },
    {
     "data": {
      "application/vnd.jupyter.widget-view+json": {
       "model_id": "91142fce381e4f848fc7e9c4b36d200c",
       "version_major": 2,
       "version_minor": 0
      },
      "text/plain": [
       "  0%|          | 0/10 [00:00<?, ?it/s]"
      ]
     },
     "metadata": {},
     "output_type": "display_data"
    },
    {
     "data": {
      "application/vnd.jupyter.widget-view+json": {
       "model_id": "57f1cf37fbd74b0c8ea4f17c4958fdcc",
       "version_major": 2,
       "version_minor": 0
      },
      "text/plain": [
       "  0%|          | 0/10 [00:00<?, ?it/s]"
      ]
     },
     "metadata": {},
     "output_type": "display_data"
    },
    {
     "data": {
      "application/vnd.jupyter.widget-view+json": {
       "model_id": "188e72498fc44f1496a38b7bba2c873d",
       "version_major": 2,
       "version_minor": 0
      },
      "text/plain": [
       "  0%|          | 0/10 [00:00<?, ?it/s]"
      ]
     },
     "metadata": {},
     "output_type": "display_data"
    },
    {
     "data": {
      "application/vnd.jupyter.widget-view+json": {
       "model_id": "08ff14d0812b4bb58e4709e267e1dd5b",
       "version_major": 2,
       "version_minor": 0
      },
      "text/plain": [
       "  0%|          | 0/10 [00:00<?, ?it/s]"
      ]
     },
     "metadata": {},
     "output_type": "display_data"
    },
    {
     "data": {
      "application/vnd.jupyter.widget-view+json": {
       "model_id": "4f34aca15cbe4f0e950dda4ce3792e03",
       "version_major": 2,
       "version_minor": 0
      },
      "text/plain": [
       "  0%|          | 0/10 [00:00<?, ?it/s]"
      ]
     },
     "metadata": {},
     "output_type": "display_data"
    },
    {
     "data": {
      "application/vnd.jupyter.widget-view+json": {
       "model_id": "903bd71114ee4da0a4ae79e8d979219c",
       "version_major": 2,
       "version_minor": 0
      },
      "text/plain": [
       "  0%|          | 0/10 [00:00<?, ?it/s]"
      ]
     },
     "metadata": {},
     "output_type": "display_data"
    },
    {
     "data": {
      "application/vnd.jupyter.widget-view+json": {
       "model_id": "06d138ced9144a62a8a8bdca10909220",
       "version_major": 2,
       "version_minor": 0
      },
      "text/plain": [
       "  0%|          | 0/9 [00:00<?, ?it/s]"
      ]
     },
     "metadata": {},
     "output_type": "display_data"
    },
    {
     "data": {
      "application/vnd.jupyter.widget-view+json": {
       "model_id": "86dbcb553c024cc680254b7f11266324",
       "version_major": 2,
       "version_minor": 0
      },
      "text/plain": [
       "  0%|          | 0/8 [00:00<?, ?it/s]"
      ]
     },
     "metadata": {},
     "output_type": "display_data"
    },
    {
     "data": {
      "application/vnd.jupyter.widget-view+json": {
       "model_id": "0b23a1b03be24f61a26a02d1e9a59adb",
       "version_major": 2,
       "version_minor": 0
      },
      "text/plain": [
       "  0%|          | 0/7 [00:00<?, ?it/s]"
      ]
     },
     "metadata": {},
     "output_type": "display_data"
    },
    {
     "data": {
      "application/vnd.jupyter.widget-view+json": {
       "model_id": "974e86b4cb6545cba0001f5c4d52ee12",
       "version_major": 2,
       "version_minor": 0
      },
      "text/plain": [
       "  0%|          | 0/6 [00:00<?, ?it/s]"
      ]
     },
     "metadata": {},
     "output_type": "display_data"
    },
    {
     "data": {
      "application/vnd.jupyter.widget-view+json": {
       "model_id": "03976082282444be923a0e052a1c857b",
       "version_major": 2,
       "version_minor": 0
      },
      "text/plain": [
       "  0%|          | 0/5 [00:00<?, ?it/s]"
      ]
     },
     "metadata": {},
     "output_type": "display_data"
    },
    {
     "data": {
      "application/vnd.jupyter.widget-view+json": {
       "model_id": "e92ee85a937c4ca4b1b33615b1cccfb0",
       "version_major": 2,
       "version_minor": 0
      },
      "text/plain": [
       "  0%|          | 0/4 [00:00<?, ?it/s]"
      ]
     },
     "metadata": {},
     "output_type": "display_data"
    },
    {
     "data": {
      "application/vnd.jupyter.widget-view+json": {
       "model_id": "dbd4fc8749cd4c7fb00d10fe988295b5",
       "version_major": 2,
       "version_minor": 0
      },
      "text/plain": [
       "  0%|          | 0/3 [00:00<?, ?it/s]"
      ]
     },
     "metadata": {},
     "output_type": "display_data"
    },
    {
     "data": {
      "application/vnd.jupyter.widget-view+json": {
       "model_id": "c2c2a966e9904df6b42ff41972871988",
       "version_major": 2,
       "version_minor": 0
      },
      "text/plain": [
       "  0%|          | 0/2 [00:00<?, ?it/s]"
      ]
     },
     "metadata": {},
     "output_type": "display_data"
    },
    {
     "data": {
      "application/vnd.jupyter.widget-view+json": {
       "model_id": "f68141c56a524290ae770c42dea1d883",
       "version_major": 2,
       "version_minor": 0
      },
      "text/plain": [
       "  0%|          | 0/1 [00:00<?, ?it/s]"
      ]
     },
     "metadata": {},
     "output_type": "display_data"
    },
    {
     "name": "stdout",
     "output_type": "stream",
     "text": [
      "Aligning generated\n"
     ]
    },
    {
     "data": {
      "application/vnd.jupyter.widget-view+json": {
       "model_id": "50c73314b05f4b43898a78da7c808291",
       "version_major": 2,
       "version_minor": 0
      },
      "text/plain": [
       "  0%|          | 0/79 [00:00<?, ?it/s]"
      ]
     },
     "metadata": {},
     "output_type": "display_data"
    },
    {
     "data": {
      "application/vnd.jupyter.widget-view+json": {
       "model_id": "0e2578bddf5e467dabbe9a3a8c5be927",
       "version_major": 2,
       "version_minor": 0
      },
      "text/plain": [
       "  0%|          | 0/10 [00:00<?, ?it/s]"
      ]
     },
     "metadata": {},
     "output_type": "display_data"
    },
    {
     "data": {
      "application/vnd.jupyter.widget-view+json": {
       "model_id": "d76b4959e38448c78a5c8a3797dfd40f",
       "version_major": 2,
       "version_minor": 0
      },
      "text/plain": [
       "  0%|          | 0/10 [00:00<?, ?it/s]"
      ]
     },
     "metadata": {},
     "output_type": "display_data"
    },
    {
     "data": {
      "application/vnd.jupyter.widget-view+json": {
       "model_id": "22d0bc47a6094983be319db7cd673e30",
       "version_major": 2,
       "version_minor": 0
      },
      "text/plain": [
       "  0%|          | 0/10 [00:00<?, ?it/s]"
      ]
     },
     "metadata": {},
     "output_type": "display_data"
    },
    {
     "data": {
      "application/vnd.jupyter.widget-view+json": {
       "model_id": "7914eb59fee845df87f951f729878cbe",
       "version_major": 2,
       "version_minor": 0
      },
      "text/plain": [
       "  0%|          | 0/10 [00:00<?, ?it/s]"
      ]
     },
     "metadata": {},
     "output_type": "display_data"
    },
    {
     "data": {
      "application/vnd.jupyter.widget-view+json": {
       "model_id": "b825c8ca17a44899a8424ce59ebbd865",
       "version_major": 2,
       "version_minor": 0
      },
      "text/plain": [
       "  0%|          | 0/10 [00:00<?, ?it/s]"
      ]
     },
     "metadata": {},
     "output_type": "display_data"
    },
    {
     "data": {
      "application/vnd.jupyter.widget-view+json": {
       "model_id": "eaa01a2e10284259a7ae47480c7b3d93",
       "version_major": 2,
       "version_minor": 0
      },
      "text/plain": [
       "  0%|          | 0/10 [00:00<?, ?it/s]"
      ]
     },
     "metadata": {},
     "output_type": "display_data"
    },
    {
     "data": {
      "application/vnd.jupyter.widget-view+json": {
       "model_id": "53ef5b42593c4b3cb27dbc6ee596bb8e",
       "version_major": 2,
       "version_minor": 0
      },
      "text/plain": [
       "  0%|          | 0/10 [00:00<?, ?it/s]"
      ]
     },
     "metadata": {},
     "output_type": "display_data"
    },
    {
     "data": {
      "application/vnd.jupyter.widget-view+json": {
       "model_id": "994937d0b1ab4034986061f7a83c146c",
       "version_major": 2,
       "version_minor": 0
      },
      "text/plain": [
       "  0%|          | 0/10 [00:00<?, ?it/s]"
      ]
     },
     "metadata": {},
     "output_type": "display_data"
    },
    {
     "data": {
      "application/vnd.jupyter.widget-view+json": {
       "model_id": "49cc331c5e5f461d938d802dec2a42c7",
       "version_major": 2,
       "version_minor": 0
      },
      "text/plain": [
       "  0%|          | 0/10 [00:00<?, ?it/s]"
      ]
     },
     "metadata": {},
     "output_type": "display_data"
    },
    {
     "data": {
      "application/vnd.jupyter.widget-view+json": {
       "model_id": "69ab4405f8214584b5694df25f20cca2",
       "version_major": 2,
       "version_minor": 0
      },
      "text/plain": [
       "  0%|          | 0/10 [00:00<?, ?it/s]"
      ]
     },
     "metadata": {},
     "output_type": "display_data"
    },
    {
     "data": {
      "application/vnd.jupyter.widget-view+json": {
       "model_id": "506921591cc14811bee993fd33bf3865",
       "version_major": 2,
       "version_minor": 0
      },
      "text/plain": [
       "  0%|          | 0/10 [00:00<?, ?it/s]"
      ]
     },
     "metadata": {},
     "output_type": "display_data"
    },
    {
     "data": {
      "application/vnd.jupyter.widget-view+json": {
       "model_id": "267f05c35323479d83251894e5f9c22a",
       "version_major": 2,
       "version_minor": 0
      },
      "text/plain": [
       "  0%|          | 0/10 [00:00<?, ?it/s]"
      ]
     },
     "metadata": {},
     "output_type": "display_data"
    },
    {
     "data": {
      "application/vnd.jupyter.widget-view+json": {
       "model_id": "961e6c1bd65d479792c88ffa7481e119",
       "version_major": 2,
       "version_minor": 0
      },
      "text/plain": [
       "  0%|          | 0/10 [00:00<?, ?it/s]"
      ]
     },
     "metadata": {},
     "output_type": "display_data"
    },
    {
     "data": {
      "application/vnd.jupyter.widget-view+json": {
       "model_id": "ee74b40fe19b4c6f8b267bbf272e547d",
       "version_major": 2,
       "version_minor": 0
      },
      "text/plain": [
       "  0%|          | 0/10 [00:00<?, ?it/s]"
      ]
     },
     "metadata": {},
     "output_type": "display_data"
    },
    {
     "data": {
      "application/vnd.jupyter.widget-view+json": {
       "model_id": "a3dd883fd0d04450bdb969ec4e1ccef3",
       "version_major": 2,
       "version_minor": 0
      },
      "text/plain": [
       "  0%|          | 0/10 [00:00<?, ?it/s]"
      ]
     },
     "metadata": {},
     "output_type": "display_data"
    },
    {
     "data": {
      "application/vnd.jupyter.widget-view+json": {
       "model_id": "7fa18f6a91a54ee7b45a99b2dac31bff",
       "version_major": 2,
       "version_minor": 0
      },
      "text/plain": [
       "  0%|          | 0/10 [00:00<?, ?it/s]"
      ]
     },
     "metadata": {},
     "output_type": "display_data"
    },
    {
     "data": {
      "application/vnd.jupyter.widget-view+json": {
       "model_id": "c803c9c543c54f51a260d844a52f6d6f",
       "version_major": 2,
       "version_minor": 0
      },
      "text/plain": [
       "  0%|          | 0/10 [00:00<?, ?it/s]"
      ]
     },
     "metadata": {},
     "output_type": "display_data"
    },
    {
     "data": {
      "application/vnd.jupyter.widget-view+json": {
       "model_id": "66858c83b9aa4a5aaa3ae1fd64473d47",
       "version_major": 2,
       "version_minor": 0
      },
      "text/plain": [
       "  0%|          | 0/10 [00:00<?, ?it/s]"
      ]
     },
     "metadata": {},
     "output_type": "display_data"
    },
    {
     "data": {
      "application/vnd.jupyter.widget-view+json": {
       "model_id": "4661f11730864420956e575b9ec65ed4",
       "version_major": 2,
       "version_minor": 0
      },
      "text/plain": [
       "  0%|          | 0/10 [00:00<?, ?it/s]"
      ]
     },
     "metadata": {},
     "output_type": "display_data"
    },
    {
     "data": {
      "application/vnd.jupyter.widget-view+json": {
       "model_id": "0cdd392d20b84636a6f24b73af0e4ffa",
       "version_major": 2,
       "version_minor": 0
      },
      "text/plain": [
       "  0%|          | 0/10 [00:00<?, ?it/s]"
      ]
     },
     "metadata": {},
     "output_type": "display_data"
    },
    {
     "data": {
      "application/vnd.jupyter.widget-view+json": {
       "model_id": "1f9e8684817c40899a13fdd4eba1fcb3",
       "version_major": 2,
       "version_minor": 0
      },
      "text/plain": [
       "  0%|          | 0/10 [00:00<?, ?it/s]"
      ]
     },
     "metadata": {},
     "output_type": "display_data"
    },
    {
     "data": {
      "application/vnd.jupyter.widget-view+json": {
       "model_id": "5c95642e528a498c9cfdcaedea2e5066",
       "version_major": 2,
       "version_minor": 0
      },
      "text/plain": [
       "  0%|          | 0/10 [00:00<?, ?it/s]"
      ]
     },
     "metadata": {},
     "output_type": "display_data"
    },
    {
     "data": {
      "application/vnd.jupyter.widget-view+json": {
       "model_id": "53825796127245d696c64b787dcf9037",
       "version_major": 2,
       "version_minor": 0
      },
      "text/plain": [
       "  0%|          | 0/10 [00:00<?, ?it/s]"
      ]
     },
     "metadata": {},
     "output_type": "display_data"
    },
    {
     "data": {
      "application/vnd.jupyter.widget-view+json": {
       "model_id": "e03c19b0b3d849b8888839b994e4d4c1",
       "version_major": 2,
       "version_minor": 0
      },
      "text/plain": [
       "  0%|          | 0/10 [00:00<?, ?it/s]"
      ]
     },
     "metadata": {},
     "output_type": "display_data"
    },
    {
     "data": {
      "application/vnd.jupyter.widget-view+json": {
       "model_id": "2fa1cece9e4d4c9ab483a79a0307d586",
       "version_major": 2,
       "version_minor": 0
      },
      "text/plain": [
       "  0%|          | 0/10 [00:00<?, ?it/s]"
      ]
     },
     "metadata": {},
     "output_type": "display_data"
    },
    {
     "data": {
      "application/vnd.jupyter.widget-view+json": {
       "model_id": "e7a133741fc14af685c136efa2a10d4e",
       "version_major": 2,
       "version_minor": 0
      },
      "text/plain": [
       "  0%|          | 0/10 [00:00<?, ?it/s]"
      ]
     },
     "metadata": {},
     "output_type": "display_data"
    },
    {
     "data": {
      "application/vnd.jupyter.widget-view+json": {
       "model_id": "71e06125614045a7a4e4a6edbf23db98",
       "version_major": 2,
       "version_minor": 0
      },
      "text/plain": [
       "  0%|          | 0/10 [00:00<?, ?it/s]"
      ]
     },
     "metadata": {},
     "output_type": "display_data"
    },
    {
     "data": {
      "application/vnd.jupyter.widget-view+json": {
       "model_id": "66e6eef7ad3f4bd4afe2b7d6fc203cee",
       "version_major": 2,
       "version_minor": 0
      },
      "text/plain": [
       "  0%|          | 0/10 [00:00<?, ?it/s]"
      ]
     },
     "metadata": {},
     "output_type": "display_data"
    },
    {
     "data": {
      "application/vnd.jupyter.widget-view+json": {
       "model_id": "659461c7f8ba483cbe6776926cf3cced",
       "version_major": 2,
       "version_minor": 0
      },
      "text/plain": [
       "  0%|          | 0/10 [00:00<?, ?it/s]"
      ]
     },
     "metadata": {},
     "output_type": "display_data"
    },
    {
     "data": {
      "application/vnd.jupyter.widget-view+json": {
       "model_id": "46513b07c75c40c2b78e2f1b481348b2",
       "version_major": 2,
       "version_minor": 0
      },
      "text/plain": [
       "  0%|          | 0/10 [00:00<?, ?it/s]"
      ]
     },
     "metadata": {},
     "output_type": "display_data"
    },
    {
     "data": {
      "application/vnd.jupyter.widget-view+json": {
       "model_id": "86f13bd5c045477cb5a752c5f52c9e68",
       "version_major": 2,
       "version_minor": 0
      },
      "text/plain": [
       "  0%|          | 0/10 [00:00<?, ?it/s]"
      ]
     },
     "metadata": {},
     "output_type": "display_data"
    },
    {
     "data": {
      "application/vnd.jupyter.widget-view+json": {
       "model_id": "eef08dec6e5c4833ac1ed86c2ee72ef2",
       "version_major": 2,
       "version_minor": 0
      },
      "text/plain": [
       "  0%|          | 0/10 [00:00<?, ?it/s]"
      ]
     },
     "metadata": {},
     "output_type": "display_data"
    },
    {
     "data": {
      "application/vnd.jupyter.widget-view+json": {
       "model_id": "b7e0eb324c6d40cea5d683f42bcbc26d",
       "version_major": 2,
       "version_minor": 0
      },
      "text/plain": [
       "  0%|          | 0/10 [00:00<?, ?it/s]"
      ]
     },
     "metadata": {},
     "output_type": "display_data"
    },
    {
     "data": {
      "application/vnd.jupyter.widget-view+json": {
       "model_id": "e53d33a911a44ffc8098b01ab2c23767",
       "version_major": 2,
       "version_minor": 0
      },
      "text/plain": [
       "  0%|          | 0/10 [00:00<?, ?it/s]"
      ]
     },
     "metadata": {},
     "output_type": "display_data"
    },
    {
     "data": {
      "application/vnd.jupyter.widget-view+json": {
       "model_id": "a3efb606489d4732b0f35f88766b6279",
       "version_major": 2,
       "version_minor": 0
      },
      "text/plain": [
       "  0%|          | 0/10 [00:00<?, ?it/s]"
      ]
     },
     "metadata": {},
     "output_type": "display_data"
    },
    {
     "data": {
      "application/vnd.jupyter.widget-view+json": {
       "model_id": "e418222edfa04b0c87b33e878c9e8ff5",
       "version_major": 2,
       "version_minor": 0
      },
      "text/plain": [
       "  0%|          | 0/10 [00:00<?, ?it/s]"
      ]
     },
     "metadata": {},
     "output_type": "display_data"
    },
    {
     "data": {
      "application/vnd.jupyter.widget-view+json": {
       "model_id": "12618a3c49654ce682eff7f294da210b",
       "version_major": 2,
       "version_minor": 0
      },
      "text/plain": [
       "  0%|          | 0/10 [00:00<?, ?it/s]"
      ]
     },
     "metadata": {},
     "output_type": "display_data"
    },
    {
     "data": {
      "application/vnd.jupyter.widget-view+json": {
       "model_id": "816dba653a144e62a71fecc0d68550ce",
       "version_major": 2,
       "version_minor": 0
      },
      "text/plain": [
       "  0%|          | 0/10 [00:00<?, ?it/s]"
      ]
     },
     "metadata": {},
     "output_type": "display_data"
    },
    {
     "data": {
      "application/vnd.jupyter.widget-view+json": {
       "model_id": "6abc9ed306d2423bb02671ef959d4269",
       "version_major": 2,
       "version_minor": 0
      },
      "text/plain": [
       "  0%|          | 0/10 [00:00<?, ?it/s]"
      ]
     },
     "metadata": {},
     "output_type": "display_data"
    },
    {
     "data": {
      "application/vnd.jupyter.widget-view+json": {
       "model_id": "1188d1f6c2cc4fce972579372bebd459",
       "version_major": 2,
       "version_minor": 0
      },
      "text/plain": [
       "  0%|          | 0/10 [00:00<?, ?it/s]"
      ]
     },
     "metadata": {},
     "output_type": "display_data"
    },
    {
     "data": {
      "application/vnd.jupyter.widget-view+json": {
       "model_id": "37af6961fd7c4b4fbe70998f62fce50b",
       "version_major": 2,
       "version_minor": 0
      },
      "text/plain": [
       "  0%|          | 0/10 [00:00<?, ?it/s]"
      ]
     },
     "metadata": {},
     "output_type": "display_data"
    },
    {
     "data": {
      "application/vnd.jupyter.widget-view+json": {
       "model_id": "a7fba37991e94cd4aeb17c22e71cf6db",
       "version_major": 2,
       "version_minor": 0
      },
      "text/plain": [
       "  0%|          | 0/10 [00:00<?, ?it/s]"
      ]
     },
     "metadata": {},
     "output_type": "display_data"
    },
    {
     "data": {
      "application/vnd.jupyter.widget-view+json": {
       "model_id": "954b7a16f99a4865b4d2fa349cbf9c81",
       "version_major": 2,
       "version_minor": 0
      },
      "text/plain": [
       "  0%|          | 0/10 [00:00<?, ?it/s]"
      ]
     },
     "metadata": {},
     "output_type": "display_data"
    },
    {
     "data": {
      "application/vnd.jupyter.widget-view+json": {
       "model_id": "896eca9095174894ba7006836a1a2bf4",
       "version_major": 2,
       "version_minor": 0
      },
      "text/plain": [
       "  0%|          | 0/10 [00:00<?, ?it/s]"
      ]
     },
     "metadata": {},
     "output_type": "display_data"
    },
    {
     "data": {
      "application/vnd.jupyter.widget-view+json": {
       "model_id": "937753eb23ad4cb090f2d0024b8f822b",
       "version_major": 2,
       "version_minor": 0
      },
      "text/plain": [
       "  0%|          | 0/10 [00:00<?, ?it/s]"
      ]
     },
     "metadata": {},
     "output_type": "display_data"
    },
    {
     "data": {
      "application/vnd.jupyter.widget-view+json": {
       "model_id": "0b8c5c9924494f4980d65ecf823dccd9",
       "version_major": 2,
       "version_minor": 0
      },
      "text/plain": [
       "  0%|          | 0/10 [00:00<?, ?it/s]"
      ]
     },
     "metadata": {},
     "output_type": "display_data"
    },
    {
     "data": {
      "application/vnd.jupyter.widget-view+json": {
       "model_id": "6a39732970d84829b14c375f86886cce",
       "version_major": 2,
       "version_minor": 0
      },
      "text/plain": [
       "  0%|          | 0/10 [00:00<?, ?it/s]"
      ]
     },
     "metadata": {},
     "output_type": "display_data"
    },
    {
     "data": {
      "application/vnd.jupyter.widget-view+json": {
       "model_id": "aaa67873257f488cbab06a19e5dd31c6",
       "version_major": 2,
       "version_minor": 0
      },
      "text/plain": [
       "  0%|          | 0/10 [00:00<?, ?it/s]"
      ]
     },
     "metadata": {},
     "output_type": "display_data"
    },
    {
     "data": {
      "application/vnd.jupyter.widget-view+json": {
       "model_id": "a55294488c964114adc42110e864ebb4",
       "version_major": 2,
       "version_minor": 0
      },
      "text/plain": [
       "  0%|          | 0/10 [00:00<?, ?it/s]"
      ]
     },
     "metadata": {},
     "output_type": "display_data"
    },
    {
     "data": {
      "application/vnd.jupyter.widget-view+json": {
       "model_id": "e9f5068ab21c4d2a9cfa331442c940d0",
       "version_major": 2,
       "version_minor": 0
      },
      "text/plain": [
       "  0%|          | 0/10 [00:00<?, ?it/s]"
      ]
     },
     "metadata": {},
     "output_type": "display_data"
    },
    {
     "data": {
      "application/vnd.jupyter.widget-view+json": {
       "model_id": "59be7fd8daaf4ce1a6e12efe5778d8fc",
       "version_major": 2,
       "version_minor": 0
      },
      "text/plain": [
       "  0%|          | 0/10 [00:00<?, ?it/s]"
      ]
     },
     "metadata": {},
     "output_type": "display_data"
    },
    {
     "data": {
      "application/vnd.jupyter.widget-view+json": {
       "model_id": "c66ffb7d687f448a8b7802f6991d9c33",
       "version_major": 2,
       "version_minor": 0
      },
      "text/plain": [
       "  0%|          | 0/10 [00:00<?, ?it/s]"
      ]
     },
     "metadata": {},
     "output_type": "display_data"
    },
    {
     "data": {
      "application/vnd.jupyter.widget-view+json": {
       "model_id": "7ab20f1965894201ae4cd81a7a69aca5",
       "version_major": 2,
       "version_minor": 0
      },
      "text/plain": [
       "  0%|          | 0/10 [00:00<?, ?it/s]"
      ]
     },
     "metadata": {},
     "output_type": "display_data"
    },
    {
     "data": {
      "application/vnd.jupyter.widget-view+json": {
       "model_id": "6dac5959b25147d488c492566247cd11",
       "version_major": 2,
       "version_minor": 0
      },
      "text/plain": [
       "  0%|          | 0/10 [00:00<?, ?it/s]"
      ]
     },
     "metadata": {},
     "output_type": "display_data"
    },
    {
     "data": {
      "application/vnd.jupyter.widget-view+json": {
       "model_id": "55c09b5e75854efd9a6372c8f9b3f955",
       "version_major": 2,
       "version_minor": 0
      },
      "text/plain": [
       "  0%|          | 0/10 [00:00<?, ?it/s]"
      ]
     },
     "metadata": {},
     "output_type": "display_data"
    },
    {
     "data": {
      "application/vnd.jupyter.widget-view+json": {
       "model_id": "60076ca7eb2746508f0e7da4c7e0bf9b",
       "version_major": 2,
       "version_minor": 0
      },
      "text/plain": [
       "  0%|          | 0/10 [00:00<?, ?it/s]"
      ]
     },
     "metadata": {},
     "output_type": "display_data"
    },
    {
     "data": {
      "application/vnd.jupyter.widget-view+json": {
       "model_id": "fb17dafce06242639983dc0749a06908",
       "version_major": 2,
       "version_minor": 0
      },
      "text/plain": [
       "  0%|          | 0/10 [00:00<?, ?it/s]"
      ]
     },
     "metadata": {},
     "output_type": "display_data"
    },
    {
     "data": {
      "application/vnd.jupyter.widget-view+json": {
       "model_id": "1b108ba3587b467fbf6ccde61af547e3",
       "version_major": 2,
       "version_minor": 0
      },
      "text/plain": [
       "  0%|          | 0/10 [00:00<?, ?it/s]"
      ]
     },
     "metadata": {},
     "output_type": "display_data"
    },
    {
     "data": {
      "application/vnd.jupyter.widget-view+json": {
       "model_id": "7cca06a8927649489ecfc546f9bbd05a",
       "version_major": 2,
       "version_minor": 0
      },
      "text/plain": [
       "  0%|          | 0/10 [00:00<?, ?it/s]"
      ]
     },
     "metadata": {},
     "output_type": "display_data"
    },
    {
     "data": {
      "application/vnd.jupyter.widget-view+json": {
       "model_id": "f5e06ab1821841caa25a2a7955b22a68",
       "version_major": 2,
       "version_minor": 0
      },
      "text/plain": [
       "  0%|          | 0/10 [00:00<?, ?it/s]"
      ]
     },
     "metadata": {},
     "output_type": "display_data"
    },
    {
     "data": {
      "application/vnd.jupyter.widget-view+json": {
       "model_id": "7192fcd47d7641dcbaed51e82c2260be",
       "version_major": 2,
       "version_minor": 0
      },
      "text/plain": [
       "  0%|          | 0/10 [00:00<?, ?it/s]"
      ]
     },
     "metadata": {},
     "output_type": "display_data"
    },
    {
     "data": {
      "application/vnd.jupyter.widget-view+json": {
       "model_id": "2323319dd81541068e5186f6702a4557",
       "version_major": 2,
       "version_minor": 0
      },
      "text/plain": [
       "  0%|          | 0/10 [00:00<?, ?it/s]"
      ]
     },
     "metadata": {},
     "output_type": "display_data"
    },
    {
     "data": {
      "application/vnd.jupyter.widget-view+json": {
       "model_id": "a1e97ff43fa84ea6accb930a4e62daa2",
       "version_major": 2,
       "version_minor": 0
      },
      "text/plain": [
       "  0%|          | 0/10 [00:00<?, ?it/s]"
      ]
     },
     "metadata": {},
     "output_type": "display_data"
    },
    {
     "data": {
      "application/vnd.jupyter.widget-view+json": {
       "model_id": "6bbf5c9fcee64fda89ec2bdae531b8f2",
       "version_major": 2,
       "version_minor": 0
      },
      "text/plain": [
       "  0%|          | 0/10 [00:00<?, ?it/s]"
      ]
     },
     "metadata": {},
     "output_type": "display_data"
    },
    {
     "data": {
      "application/vnd.jupyter.widget-view+json": {
       "model_id": "ec89d25de55049188784278a5120ffa4",
       "version_major": 2,
       "version_minor": 0
      },
      "text/plain": [
       "  0%|          | 0/10 [00:00<?, ?it/s]"
      ]
     },
     "metadata": {},
     "output_type": "display_data"
    },
    {
     "data": {
      "application/vnd.jupyter.widget-view+json": {
       "model_id": "7c760357934a40c9840d386a2b76896a",
       "version_major": 2,
       "version_minor": 0
      },
      "text/plain": [
       "  0%|          | 0/10 [00:00<?, ?it/s]"
      ]
     },
     "metadata": {},
     "output_type": "display_data"
    },
    {
     "data": {
      "application/vnd.jupyter.widget-view+json": {
       "model_id": "ccbd39b828a946dbb9179453a01d6443",
       "version_major": 2,
       "version_minor": 0
      },
      "text/plain": [
       "  0%|          | 0/10 [00:00<?, ?it/s]"
      ]
     },
     "metadata": {},
     "output_type": "display_data"
    },
    {
     "name": "stderr",
     "output_type": "stream",
     "text": [
      "/tmp/ipykernel_6257/378266343.py:21: UserWarning: std(): degrees of freedom is <= 0. Correction should be strictly less than the reduction factor (input numel divided by output numel). (Triggered internally at /opt/conda/conda-bld/pytorch_1729647429097/work/aten/src/ATen/native/ReduceOps.cpp:1823.)\n",
      "  std = distances.std().item()\n"
     ]
    },
    {
     "data": {
      "application/vnd.jupyter.widget-view+json": {
       "model_id": "c754219c320f44d19427aa6b0d7fdcff",
       "version_major": 2,
       "version_minor": 0
      },
      "text/plain": [
       "  0%|          | 0/10 [00:00<?, ?it/s]"
      ]
     },
     "metadata": {},
     "output_type": "display_data"
    },
    {
     "data": {
      "application/vnd.jupyter.widget-view+json": {
       "model_id": "2332cf58701e41a1b35cf5c91c720f4e",
       "version_major": 2,
       "version_minor": 0
      },
      "text/plain": [
       "  0%|          | 0/10 [00:00<?, ?it/s]"
      ]
     },
     "metadata": {},
     "output_type": "display_data"
    },
    {
     "data": {
      "application/vnd.jupyter.widget-view+json": {
       "model_id": "d76240af4659442d8031434e624f70e2",
       "version_major": 2,
       "version_minor": 0
      },
      "text/plain": [
       "  0%|          | 0/10 [00:00<?, ?it/s]"
      ]
     },
     "metadata": {},
     "output_type": "display_data"
    },
    {
     "data": {
      "application/vnd.jupyter.widget-view+json": {
       "model_id": "6c0df493476446869731d54b83d78a7d",
       "version_major": 2,
       "version_minor": 0
      },
      "text/plain": [
       "  0%|          | 0/9 [00:00<?, ?it/s]"
      ]
     },
     "metadata": {},
     "output_type": "display_data"
    },
    {
     "data": {
      "application/vnd.jupyter.widget-view+json": {
       "model_id": "84fe7b24a3de410ab2f86e3a5ad9f47c",
       "version_major": 2,
       "version_minor": 0
      },
      "text/plain": [
       "  0%|          | 0/8 [00:00<?, ?it/s]"
      ]
     },
     "metadata": {},
     "output_type": "display_data"
    },
    {
     "data": {
      "application/vnd.jupyter.widget-view+json": {
       "model_id": "f08e4731afda4e56a3256afea17e697e",
       "version_major": 2,
       "version_minor": 0
      },
      "text/plain": [
       "  0%|          | 0/7 [00:00<?, ?it/s]"
      ]
     },
     "metadata": {},
     "output_type": "display_data"
    },
    {
     "data": {
      "application/vnd.jupyter.widget-view+json": {
       "model_id": "f810497260ac474dab7a78ef082b584a",
       "version_major": 2,
       "version_minor": 0
      },
      "text/plain": [
       "  0%|          | 0/6 [00:00<?, ?it/s]"
      ]
     },
     "metadata": {},
     "output_type": "display_data"
    },
    {
     "data": {
      "application/vnd.jupyter.widget-view+json": {
       "model_id": "3ac791fd14794cfea2d63876795ba26e",
       "version_major": 2,
       "version_minor": 0
      },
      "text/plain": [
       "  0%|          | 0/5 [00:00<?, ?it/s]"
      ]
     },
     "metadata": {},
     "output_type": "display_data"
    },
    {
     "data": {
      "application/vnd.jupyter.widget-view+json": {
       "model_id": "6485d5782d944151b6fb3d0bd8ddd41a",
       "version_major": 2,
       "version_minor": 0
      },
      "text/plain": [
       "  0%|          | 0/4 [00:00<?, ?it/s]"
      ]
     },
     "metadata": {},
     "output_type": "display_data"
    },
    {
     "data": {
      "application/vnd.jupyter.widget-view+json": {
       "model_id": "cfc7957b58e3418db84460700838ee09",
       "version_major": 2,
       "version_minor": 0
      },
      "text/plain": [
       "  0%|          | 0/3 [00:00<?, ?it/s]"
      ]
     },
     "metadata": {},
     "output_type": "display_data"
    },
    {
     "data": {
      "application/vnd.jupyter.widget-view+json": {
       "model_id": "033d6cc9615245baabffa900e97d65a0",
       "version_major": 2,
       "version_minor": 0
      },
      "text/plain": [
       "  0%|          | 0/2 [00:00<?, ?it/s]"
      ]
     },
     "metadata": {},
     "output_type": "display_data"
    },
    {
     "data": {
      "application/vnd.jupyter.widget-view+json": {
       "model_id": "67c705c070864cf88081b7e4eb08bdd2",
       "version_major": 2,
       "version_minor": 0
      },
      "text/plain": [
       "  0%|          | 0/1 [00:00<?, ?it/s]"
      ]
     },
     "metadata": {},
     "output_type": "display_data"
    },
    {
     "data": {
      "image/png": "[encoded data removed]",
      "text/plain": [
       "<Figure size 640x480 with 1 Axes>"
      ]
     },
     "metadata": {},
     "output_type": "display_data"
    }
   ],
   "source": [
    "print(\"Aligning real\")\n",
    "mean_dists_real, _ = windowed_align(scene_real, window_size=window_size, outdir=outdir_real)\n",
    "mean_array_real = np.array([np.mean(np.array(x)[np.array(x) != None]) for x in mean_dists_real])\n",
    "\n",
    "print(\"Aligning generated\")\n",
    "mean_distances_gen, _ = windowed_align(scene_gen, window_size=window_size, outdir=outdir_gen)\n",
    "mean_array_gen = np.array([np.mean(np.array(x)[np.array(x) != None]) for x in mean_distances_gen])\n",
    "\n",
    "# plot mean distance per frame through time\n",
    "pl.plot(mean_array_real)\n",
    "pl.plot(mean_array_gen)\n",
    "pl.legend([\"Real\", \"Generated\"])\n",
    "pl.xlabel(\"Frame\")\n",
    "pl.ylabel(\"Mean distance\")\n",
    "pl.grid()"
   ]
  },
  {
   "cell_type": "code",
   "execution_count": null,
   "metadata": {},
   "outputs": [
    {
     "name": "stdout",
     "output_type": "stream",
     "text": [
      "Processing 56a0ec536c\n"
     ]
    },
    {
     "name": "stderr",
     "output_type": "stream",
     "text": [
      "  0%|          | 0/1490 [00:00<?, ?it/s]/home/toskov/perspective-analysis-of-generated-images/mast3r/mast3r/cloud_opt/sparse_ga.py:620: FutureWarning: `torch.cuda.amp.autocast(args...)` is deprecated. Please use `torch.amp.autocast('cuda', args...)` instead.\n",
      "  with torch.cuda.amp.autocast(enabled=False):\n",
      " 25%|██▌       | 377/1490 [01:21<03:44,  4.95it/s]"
     ]
    }
   ],
   "source": [
    "scannet_data_dir = \"/scratch/toskov/data/scannetpp_link/data/\"\n",
    "\n",
    "scannet_keys = os.listdir(scannet_data_dir)\n",
    "\n",
    "vid_suffix = \"iphone/rgb.mp4\"\n",
    "\n",
    "output_root = \"/scratch/toskov/data/geom_align_outputs/\"\n",
    "os.makedirs(output_root, exist_ok=True)\n",
    "\n",
    "# temp_output_dir = \"/scratch/toskov/data/geom_align_outputs_temp/\"\n",
    "\n",
    "\n",
    "window_size = 10\n",
    "scene_graph = f\"swin-{window_size}-noncyclic\"\n",
    "device = \"cuda\"\n",
    "\n",
    "img_freq = 15 # Scannet++ is 60fps so this is 4fps\n",
    "max_n_frames = 80 # This is 20 seconds of video then\n",
    "\n",
    "for key in scannet_keys:\n",
    "    vid_path = os.path.join(scannet_data_dir, key, vid_suffix)\n",
    "    if not os.path.exists(vid_path):\n",
    "        print(f\"Video {vid_path} does not exist\")\n",
    "        continue\n",
    "    \n",
    "    print(f\"Processing {key}\")\n",
    "    \n",
    "    outdir = os.path.join(output_root, key)\n",
    "    if os.path.exists(outdir):\n",
    "        shutil.rmtree(outdir)\n",
    "    \n",
    "    # if os.path.exists(temp_output_dir):\n",
    "    #     shutil.rmtree(temp_output_dir)\n",
    "    \n",
    "    scene_real = align_images(vid_path, model, scene_graph=scene_graph, device=device, img_freq=img_freq, max_n_frames=max_n_frames, outdir=outdir)\n",
    "\n",
    "    mean_dists_real, metrics = windowed_align(scene_real, window_size=window_size, outdir=outdir)\n",
    "    \n",
    "    mean_array_real = np.array([np.mean(np.array(x)[np.array(x) != None]) for x in mean_dists_real])\n",
    "\n",
    "    # plot mean distance per frame through time\n",
    "    pl.plot(mean_array_real)\n",
    "    pl.legend([\"Real\", \"Generated\"])\n",
    "    pl.xlabel(\"Frame\")\n",
    "    pl.ylabel(\"Mean distance\")\n",
    "    pl.grid()\n",
    "    pl.savefig(os.path.join(outdir, \"mean_distance.png\"))\n",
    "    \n",
    "    # Dump metrics\n",
    "    metrics_path = os.path.join(outdir, \"metrics.pth\")\n",
    "    torch.save(metrics, metrics_path)\n",
    "    print(f\"Saved metrics to {metrics_path}\")\n",
    "    \n",
    "\n",
    "    \n",
    "    \n",
    "    "
   ]
  },
  {
   "cell_type": "code",
   "execution_count": null,
   "metadata": {},
   "outputs": [],
   "source": []
  }
 ],
 "metadata": {
  "kernelspec": {
   "display_name": "mast3r",
   "language": "python",
   "name": "python3"
  },
  "language_info": {
   "codemirror_mode": {
    "name": "ipython",
    "version": 3
   },
   "file_extension": ".py",
   "mimetype": "text/x-python",
   "name": "python",
   "nbconvert_exporter": "python",
   "pygments_lexer": "ipython3",
   "version": "3.11.11"
  }
 },
 "nbformat": 4,
 "nbformat_minor": 2
}
